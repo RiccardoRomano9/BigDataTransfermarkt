{
  "cells": [
    {
      "cell_type": "markdown",
      "metadata": {
        "id": "MSodf2qlFA0N"
      },
      "source": [
        "1. **INSTALLAZIONE PYSPARK**"
      ]
    },
    {
      "cell_type": "code",
      "execution_count": null,
      "metadata": {
        "id": "yAPF3PeZEbTi"
      },
      "outputs": [],
      "source": [
        "# Run below commands in google colab\n",
        "# install Java8\n",
        "!apt-get install openjdk-8-jdk-headless -qq > /dev/null\n",
        "# download spark3.0.0\n",
        "!wget -q http://apache.osuosl.org/spark/spark-3.4.3/spark-3.4.3-bin-hadoop3.tgz\n",
        "# unzip it\n",
        "!tar xf spark-3.4.3-bin-hadoop3.tgz\n",
        "# install findspark\n",
        "!pip install -q findspark"
      ]
    },
    {
      "cell_type": "code",
      "execution_count": null,
      "metadata": {
        "id": "ker6KF8fFWEL"
      },
      "outputs": [],
      "source": [
        "import os\n",
        "os.environ[\"JAVA_HOME\"] = \"/usr/lib/jvm/java-8-openjdk-amd64\"\n",
        "os.environ[\"SPARK_HOME\"] = \"/content/spark-3.4.3-bin-hadoop3\""
      ]
    },
    {
      "cell_type": "code",
      "execution_count": null,
      "metadata": {
        "id": "1DTjMqvWFZDf"
      },
      "outputs": [],
      "source": [
        "import findspark\n",
        "findspark.init()"
      ]
    },
    {
      "cell_type": "code",
      "execution_count": null,
      "metadata": {
        "id": "_HyDHS7DFcyI"
      },
      "outputs": [],
      "source": [
        "# Verify the Spark version running on the virtual cluster\n",
        "from pyspark.context import SparkContext\n",
        "sc = SparkContext.getOrCreate()\n",
        "\n",
        "assert  \"3.\" in sc.version, \"Verify that the cluster Spark's version is 3.x\""
      ]
    },
    {
      "cell_type": "code",
      "execution_count": null,
      "metadata": {
        "colab": {
          "base_uri": "https://localhost:8080/"
        },
        "id": "y-JJ6_hdFdaV",
        "outputId": "da00b02c-a206-4ae2-c45c-398a161efe1a"
      },
      "outputs": [
        {
          "output_type": "stream",
          "name": "stdout",
          "text": [
            "Spark version: 3.4.3\n"
          ]
        }
      ],
      "source": [
        "print(\"Spark version:\", sc.version)"
      ]
    },
    {
      "cell_type": "markdown",
      "metadata": {
        "id": "eRgXUfjqFgZr"
      },
      "source": [
        "2. **CARICAMENTO DATASET DA KAGGLE**"
      ]
    },
    {
      "cell_type": "code",
      "execution_count": null,
      "metadata": {
        "id": "BMyXy3VKFkF5"
      },
      "outputs": [],
      "source": [
        "###########################\n",
        "# IMPORT\n",
        "import scipy.io as sio\n",
        "import pandas as pd\n",
        "import matplotlib.pyplot as plt\n",
        "import os\n",
        "import shutil\n",
        "import copy\n",
        "from pyspark.sql.functions import col, count, sum, when, round, coalesce, lit, desc, countDistinct, year\n",
        "from pyspark.sql import SparkSession\n",
        "import plotly.graph_objs as go\n",
        "from plotly.subplots import make_subplots\n",
        "######################################"
      ]
    },
    {
      "cell_type": "code",
      "execution_count": null,
      "metadata": {
        "colab": {
          "base_uri": "https://localhost:8080/",
          "height": 90
        },
        "id": "hxZrhUCZFpbU",
        "outputId": "f6f2fdf8-9415-4713-c8ea-03f6ace56294"
      },
      "outputs": [
        {
          "output_type": "display_data",
          "data": {
            "text/plain": [
              "<IPython.core.display.HTML object>"
            ],
            "text/html": [
              "\n",
              "     <input type=\"file\" id=\"files-0063d2fa-8db1-44a0-ad63-1d69b66a3d9e\" name=\"files[]\" multiple disabled\n",
              "        style=\"border:none\" />\n",
              "     <output id=\"result-0063d2fa-8db1-44a0-ad63-1d69b66a3d9e\">\n",
              "      Upload widget is only available when the cell has been executed in the\n",
              "      current browser session. Please rerun this cell to enable.\n",
              "      </output>\n",
              "      <script>// Copyright 2017 Google LLC\n",
              "//\n",
              "// Licensed under the Apache License, Version 2.0 (the \"License\");\n",
              "// you may not use this file except in compliance with the License.\n",
              "// You may obtain a copy of the License at\n",
              "//\n",
              "//      http://www.apache.org/licenses/LICENSE-2.0\n",
              "//\n",
              "// Unless required by applicable law or agreed to in writing, software\n",
              "// distributed under the License is distributed on an \"AS IS\" BASIS,\n",
              "// WITHOUT WARRANTIES OR CONDITIONS OF ANY KIND, either express or implied.\n",
              "// See the License for the specific language governing permissions and\n",
              "// limitations under the License.\n",
              "\n",
              "/**\n",
              " * @fileoverview Helpers for google.colab Python module.\n",
              " */\n",
              "(function(scope) {\n",
              "function span(text, styleAttributes = {}) {\n",
              "  const element = document.createElement('span');\n",
              "  element.textContent = text;\n",
              "  for (const key of Object.keys(styleAttributes)) {\n",
              "    element.style[key] = styleAttributes[key];\n",
              "  }\n",
              "  return element;\n",
              "}\n",
              "\n",
              "// Max number of bytes which will be uploaded at a time.\n",
              "const MAX_PAYLOAD_SIZE = 100 * 1024;\n",
              "\n",
              "function _uploadFiles(inputId, outputId) {\n",
              "  const steps = uploadFilesStep(inputId, outputId);\n",
              "  const outputElement = document.getElementById(outputId);\n",
              "  // Cache steps on the outputElement to make it available for the next call\n",
              "  // to uploadFilesContinue from Python.\n",
              "  outputElement.steps = steps;\n",
              "\n",
              "  return _uploadFilesContinue(outputId);\n",
              "}\n",
              "\n",
              "// This is roughly an async generator (not supported in the browser yet),\n",
              "// where there are multiple asynchronous steps and the Python side is going\n",
              "// to poll for completion of each step.\n",
              "// This uses a Promise to block the python side on completion of each step,\n",
              "// then passes the result of the previous step as the input to the next step.\n",
              "function _uploadFilesContinue(outputId) {\n",
              "  const outputElement = document.getElementById(outputId);\n",
              "  const steps = outputElement.steps;\n",
              "\n",
              "  const next = steps.next(outputElement.lastPromiseValue);\n",
              "  return Promise.resolve(next.value.promise).then((value) => {\n",
              "    // Cache the last promise value to make it available to the next\n",
              "    // step of the generator.\n",
              "    outputElement.lastPromiseValue = value;\n",
              "    return next.value.response;\n",
              "  });\n",
              "}\n",
              "\n",
              "/**\n",
              " * Generator function which is called between each async step of the upload\n",
              " * process.\n",
              " * @param {string} inputId Element ID of the input file picker element.\n",
              " * @param {string} outputId Element ID of the output display.\n",
              " * @return {!Iterable<!Object>} Iterable of next steps.\n",
              " */\n",
              "function* uploadFilesStep(inputId, outputId) {\n",
              "  const inputElement = document.getElementById(inputId);\n",
              "  inputElement.disabled = false;\n",
              "\n",
              "  const outputElement = document.getElementById(outputId);\n",
              "  outputElement.innerHTML = '';\n",
              "\n",
              "  const pickedPromise = new Promise((resolve) => {\n",
              "    inputElement.addEventListener('change', (e) => {\n",
              "      resolve(e.target.files);\n",
              "    });\n",
              "  });\n",
              "\n",
              "  const cancel = document.createElement('button');\n",
              "  inputElement.parentElement.appendChild(cancel);\n",
              "  cancel.textContent = 'Cancel upload';\n",
              "  const cancelPromise = new Promise((resolve) => {\n",
              "    cancel.onclick = () => {\n",
              "      resolve(null);\n",
              "    };\n",
              "  });\n",
              "\n",
              "  // Wait for the user to pick the files.\n",
              "  const files = yield {\n",
              "    promise: Promise.race([pickedPromise, cancelPromise]),\n",
              "    response: {\n",
              "      action: 'starting',\n",
              "    }\n",
              "  };\n",
              "\n",
              "  cancel.remove();\n",
              "\n",
              "  // Disable the input element since further picks are not allowed.\n",
              "  inputElement.disabled = true;\n",
              "\n",
              "  if (!files) {\n",
              "    return {\n",
              "      response: {\n",
              "        action: 'complete',\n",
              "      }\n",
              "    };\n",
              "  }\n",
              "\n",
              "  for (const file of files) {\n",
              "    const li = document.createElement('li');\n",
              "    li.append(span(file.name, {fontWeight: 'bold'}));\n",
              "    li.append(span(\n",
              "        `(${file.type || 'n/a'}) - ${file.size} bytes, ` +\n",
              "        `last modified: ${\n",
              "            file.lastModifiedDate ? file.lastModifiedDate.toLocaleDateString() :\n",
              "                                    'n/a'} - `));\n",
              "    const percent = span('0% done');\n",
              "    li.appendChild(percent);\n",
              "\n",
              "    outputElement.appendChild(li);\n",
              "\n",
              "    const fileDataPromise = new Promise((resolve) => {\n",
              "      const reader = new FileReader();\n",
              "      reader.onload = (e) => {\n",
              "        resolve(e.target.result);\n",
              "      };\n",
              "      reader.readAsArrayBuffer(file);\n",
              "    });\n",
              "    // Wait for the data to be ready.\n",
              "    let fileData = yield {\n",
              "      promise: fileDataPromise,\n",
              "      response: {\n",
              "        action: 'continue',\n",
              "      }\n",
              "    };\n",
              "\n",
              "    // Use a chunked sending to avoid message size limits. See b/62115660.\n",
              "    let position = 0;\n",
              "    do {\n",
              "      const length = Math.min(fileData.byteLength - position, MAX_PAYLOAD_SIZE);\n",
              "      const chunk = new Uint8Array(fileData, position, length);\n",
              "      position += length;\n",
              "\n",
              "      const base64 = btoa(String.fromCharCode.apply(null, chunk));\n",
              "      yield {\n",
              "        response: {\n",
              "          action: 'append',\n",
              "          file: file.name,\n",
              "          data: base64,\n",
              "        },\n",
              "      };\n",
              "\n",
              "      let percentDone = fileData.byteLength === 0 ?\n",
              "          100 :\n",
              "          Math.round((position / fileData.byteLength) * 100);\n",
              "      percent.textContent = `${percentDone}% done`;\n",
              "\n",
              "    } while (position < fileData.byteLength);\n",
              "  }\n",
              "\n",
              "  // All done.\n",
              "  yield {\n",
              "    response: {\n",
              "      action: 'complete',\n",
              "    }\n",
              "  };\n",
              "}\n",
              "\n",
              "scope.google = scope.google || {};\n",
              "scope.google.colab = scope.google.colab || {};\n",
              "scope.google.colab._files = {\n",
              "  _uploadFiles,\n",
              "  _uploadFilesContinue,\n",
              "};\n",
              "})(self);\n",
              "</script> "
            ]
          },
          "metadata": {}
        },
        {
          "output_type": "stream",
          "name": "stdout",
          "text": [
            "Saving kaggle.json to kaggle.json\n"
          ]
        },
        {
          "output_type": "execute_result",
          "data": {
            "text/plain": [
              "{'kaggle.json': b'{\"username\":\"giovanniriccardi\",\"key\":\"a8ad0453159c1984053019f32c3e8392\"}'}"
            ]
          },
          "metadata": {},
          "execution_count": 7
        }
      ],
      "source": [
        "! pip install -q kaggle\n",
        "from google.colab import files\n",
        "files.upload()"
      ]
    },
    {
      "cell_type": "code",
      "execution_count": null,
      "metadata": {
        "id": "ikPU3IpeFrtq"
      },
      "outputs": [],
      "source": [
        "! mkdir ~/.kaggle\n",
        "! cp kaggle.json ~/.kaggle/"
      ]
    },
    {
      "cell_type": "code",
      "execution_count": null,
      "metadata": {
        "id": "r-S3favTFtSK"
      },
      "outputs": [],
      "source": [
        "! chmod 600 ~/.kaggle/kaggle.json"
      ]
    },
    {
      "cell_type": "code",
      "execution_count": null,
      "metadata": {
        "colab": {
          "base_uri": "https://localhost:8080/"
        },
        "id": "Sz-NQ5hAFwg4",
        "outputId": "3464d792-f801-4141-e23e-ddbcce53a1ec"
      },
      "outputs": [
        {
          "output_type": "stream",
          "name": "stdout",
          "text": [
            "ref                                                              title                                               size  lastUpdated          downloadCount  voteCount  usabilityRating  \n",
            "---------------------------------------------------------------  -------------------------------------------------  -----  -------------------  -------------  ---------  ---------------  \n",
            "rahulvyasm/netflix-movies-and-tv-shows                           Netflix Movies and TV Shows                          1MB  2024-04-10 09:48:38          15161        317  1.0              \n",
            "sahirmaharajj/school-student-daily-attendance                    School Student Daily Attendance                      2MB  2024-04-29 19:29:56           2781         56  1.0              \n",
            "kapturovalexander/time-series-for-online-store                   🏪🏬🪫 Electronic store sales data                      9MB  2024-04-30 09:33:41           1045         28  1.0              \n",
            "fahadrehman07/retail-transaction-dataset                         Retail Transaction Dataset                           5MB  2024-05-01 10:05:25           1711         43  1.0              \n",
            "mexwell/heart-disease-dataset                                    🫀 Heart Disease Dataset                            399KB  2024-04-08 09:43:49           6884        109  1.0              \n",
            "aadarshvelu/aids-virus-infection-prediction                      AIDS Virus Infection Prediction 💉                    2MB  2024-04-28 03:22:18           1832         47  1.0              \n",
            "muhammadibrahimqasmi/nvidia-corporation-nvda-stock-2020-to-2024  NVIDIA Corporation (NVDA) Stock | 2020 to 2024      32KB  2024-05-05 20:42:16            287         35  1.0              \n",
            "rabieelkharoua/predict-survival-of-patients-with-heart-failure   Predict survival of patients with heart failure      4KB  2024-04-25 10:21:47           2697         45  1.0              \n",
            "jaidalmotra/pokemon-dataset                                      Pokemon Dataset                                     19KB  2024-04-30 10:38:36           1484         46  1.0              \n",
            "saswattulo/bitcoin-price-history-btc-usd                         Bitcoin Price History (BTC-USD)                     60KB  2024-05-08 06:16:42            727         23  1.0              \n",
            "dansbecker/melbourne-housing-snapshot                            Melbourne Housing Snapshot                         451KB  2018-06-05 12:52:24         146236       1472  0.7058824        \n",
            "anandshaw2001/airlines-booking-csv                               Airlines_Booking.csv                               414KB  2024-04-20 17:38:50           2673         36  1.0              \n",
            "sujithmandala/second-hand-car-price-prediction                   Second Hand Car Price Prediction                     2KB  2024-04-24 12:09:30           2481         40  1.0              \n",
            "prishasawhney/mushroom-dataset                                   Mushroom Dataset (Binary Classification)           602KB  2024-04-18 19:56:44           3039         79  1.0              \n",
            "imtkaggleteam/pharmacies                                         Pharmacies                                           7MB  2024-05-03 12:00:45            479         33  1.0              \n",
            "innocentmfa/population-ranking                                   Population Ranking👩‍👩‍👦‍👦⚡                           4KB  2024-05-06 18:59:31            179         27  0.88235295       \n",
            "adityakumar5095/stock-list-dataset                               Stock List Dataset                                  70KB  2024-05-06 16:13:22            310         22  0.88235295       \n",
            "chopper53/machine-learning-engineer-salary-in-2024               Machine Learning Engineer Salary in 2024           107KB  2024-04-23 17:30:13           2208         50  1.0              \n",
            "jancsg/cybersecurity-suspicious-web-threat-interactions          Cybersecurity: Suspicious Web Threat Interactions    4KB  2024-04-27 08:43:34            977         27  1.0              \n",
            "muhammadibrahimqasmi/airbnb-stock-dataset-2020-24                Airbnb (ABNB) Stock Data 📈                          18KB  2024-05-04 20:29:32            350         38  1.0              \n"
          ]
        }
      ],
      "source": [
        "! kaggle datasets list"
      ]
    },
    {
      "cell_type": "code",
      "execution_count": null,
      "metadata": {
        "colab": {
          "base_uri": "https://localhost:8080/"
        },
        "id": "0Tj7LhBfFzIk",
        "outputId": "c46acb3f-973c-468d-c82a-9d82ebb9b8e7"
      },
      "outputs": [
        {
          "output_type": "stream",
          "name": "stdout",
          "text": [
            "Dataset URL: https://www.kaggle.com/datasets/davidcariboo/player-scores\n",
            "License(s): CC0-1.0\n",
            "Downloading player-scores.zip to /content\n",
            " 92% 137M/148M [00:01<00:00, 107MB/s]\n",
            "100% 148M/148M [00:01<00:00, 102MB/s]\n"
          ]
        }
      ],
      "source": [
        "! kaggle datasets download -d davidcariboo/player-scores"
      ]
    },
    {
      "cell_type": "markdown",
      "metadata": {
        "id": "NcmyGjtDHbzP"
      },
      "source": [
        "3. **Unzip Dataset**"
      ]
    },
    {
      "cell_type": "code",
      "execution_count": null,
      "metadata": {
        "colab": {
          "base_uri": "https://localhost:8080/"
        },
        "id": "tryzqGnBLX2u",
        "outputId": "f3235372-b564-4227-e9b1-305d609abe4b"
      },
      "outputs": [
        {
          "output_type": "stream",
          "name": "stdout",
          "text": [
            "Archive:  player-scores.zip\n",
            "  inflating: appearances.csv         \n",
            "  inflating: club_games.csv          \n",
            "  inflating: clubs.csv               \n",
            "  inflating: competitions.csv        \n",
            "  inflating: game_events.csv         \n",
            "  inflating: game_lineups.csv        \n",
            "  inflating: games.csv               \n",
            "  inflating: player_valuations.csv   \n",
            "  inflating: players.csv             \n"
          ]
        }
      ],
      "source": [
        "!unzip player-scores.zip"
      ]
    },
    {
      "cell_type": "markdown",
      "metadata": {
        "id": "aMN8gP_ehDIu"
      },
      "source": [
        "## **ANALYTICS SU DATASET TRANSFERMARKT**"
      ]
    },
    {
      "cell_type": "markdown",
      "metadata": {
        "id": "DZBJOmQSi8y3"
      },
      "source": [
        "*Il dataset scelto, disponibile su Kaggle al link (https://www.kaggle.com/datasets/davidcariboo/player-scores), è un insieme di dati relativi al calcio, che include:*\n",
        "\n",
        "\n",
        "*  *Oltre 60.000 partite da molte stagioni in tutte le competizioni principali.*\n",
        "*   *Più di 400 club provenienti da tali competizioni.*\n",
        "*  *Oltre 30.000 giocatori appartenenti a tali club.*\n",
        "*   *Oltre 400.000 record storici delle valutazioni di mercato dei giocatori.*\n",
        "*   *Più di 1.200.000 record delle presenze dei giocatori in tutte le partite.*\n",
        "\n",
        "\n",
        "*I dati sono puliti, strutturati e aggiornati automaticamente, provenienti da Transfermarkt, una fonte affidabile per le informazioni sul calcio.*"
      ]
    },
    {
      "cell_type": "markdown",
      "metadata": {
        "id": "IySDreGUkgpz"
      },
      "source": [
        "*Il dataset è composto da diversi file CSV con informazioni su competizioni, partite, club, giocatori e presenze, che vengono aggiornati automaticamente una volta alla settimana. Ogni file contiene gli attributi dell'entità e gli ID che possono essere utilizzati per unirli insieme.*"
      ]
    },
    {
      "cell_type": "markdown",
      "metadata": {
        "id": "bgBlRNvRitQX"
      },
      "source": [
        "![image.png](data:image/png;base64,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)"
      ]
    },
    {
      "cell_type": "markdown",
      "metadata": {
        "id": "CsSWY_4-LbX4"
      },
      "source": [
        "\n",
        "3. **Utilizzo di PySpark su DataSet di Transfermarkt**"
      ]
    },
    {
      "cell_type": "code",
      "execution_count": null,
      "metadata": {
        "id": "4J_lUZsNMZXm"
      },
      "outputs": [],
      "source": [
        "# Inizializzazione della sessione Spark\n",
        "spark = SparkSession.builder \\\n",
        "    .appName(\"PySpark_Transfermarkt\") \\\n",
        "    .getOrCreate()\n"
      ]
    },
    {
      "cell_type": "code",
      "execution_count": null,
      "metadata": {
        "colab": {
          "base_uri": "https://localhost:8080/"
        },
        "id": "CO6mHzAuLsyG",
        "outputId": "5a827abc-ea1c-4005-8608-3117b0770bf3"
      },
      "outputs": [
        {
          "output_type": "stream",
          "name": "stdout",
          "text": [
            "Schema del DataFrame 'game_events':\n",
            "root\n",
            " |-- game_event_id: string (nullable = true)\n",
            " |-- date: date (nullable = true)\n",
            " |-- game_id: integer (nullable = true)\n",
            " |-- minute: integer (nullable = true)\n",
            " |-- type: string (nullable = true)\n",
            " |-- club_id: integer (nullable = true)\n",
            " |-- player_id: integer (nullable = true)\n",
            " |-- description: string (nullable = true)\n",
            " |-- player_in_id: integer (nullable = true)\n",
            " |-- player_assist_id: integer (nullable = true)\n",
            "\n",
            "Schema del DataFrame 'player_valuations':\n",
            "root\n",
            " |-- player_id: integer (nullable = true)\n",
            " |-- date: date (nullable = true)\n",
            " |-- market_value_in_eur: integer (nullable = true)\n",
            " |-- current_club_id: integer (nullable = true)\n",
            " |-- player_club_domestic_competition_id: string (nullable = true)\n",
            "\n",
            "Schema del DataFrame 'appearances':\n",
            "root\n",
            " |-- appearance_id: string (nullable = true)\n",
            " |-- game_id: integer (nullable = true)\n",
            " |-- player_id: integer (nullable = true)\n",
            " |-- player_club_id: integer (nullable = true)\n",
            " |-- player_current_club_id: integer (nullable = true)\n",
            " |-- date: date (nullable = true)\n",
            " |-- player_name: string (nullable = true)\n",
            " |-- competition_id: string (nullable = true)\n",
            " |-- yellow_cards: integer (nullable = true)\n",
            " |-- red_cards: integer (nullable = true)\n",
            " |-- goals: integer (nullable = true)\n",
            " |-- assists: integer (nullable = true)\n",
            " |-- minutes_played: integer (nullable = true)\n",
            "\n",
            "Schema del DataFrame 'club_games':\n",
            "root\n",
            " |-- game_id: integer (nullable = true)\n",
            " |-- club_id: integer (nullable = true)\n",
            " |-- own_goals: integer (nullable = true)\n",
            " |-- own_position: integer (nullable = true)\n",
            " |-- own_manager_name: string (nullable = true)\n",
            " |-- opponent_id: integer (nullable = true)\n",
            " |-- opponent_goals: integer (nullable = true)\n",
            " |-- opponent_position: integer (nullable = true)\n",
            " |-- opponent_manager_name: string (nullable = true)\n",
            " |-- hosting: string (nullable = true)\n",
            " |-- is_win: integer (nullable = true)\n",
            "\n",
            "Schema del DataFrame 'players':\n",
            "root\n",
            " |-- player_id: integer (nullable = true)\n",
            " |-- first_name: string (nullable = true)\n",
            " |-- last_name: string (nullable = true)\n",
            " |-- name: string (nullable = true)\n",
            " |-- last_season: integer (nullable = true)\n",
            " |-- current_club_id: integer (nullable = true)\n",
            " |-- player_code: string (nullable = true)\n",
            " |-- country_of_birth: string (nullable = true)\n",
            " |-- city_of_birth: string (nullable = true)\n",
            " |-- country_of_citizenship: string (nullable = true)\n",
            " |-- date_of_birth: date (nullable = true)\n",
            " |-- sub_position: string (nullable = true)\n",
            " |-- position: string (nullable = true)\n",
            " |-- foot: string (nullable = true)\n",
            " |-- height_in_cm: integer (nullable = true)\n",
            " |-- contract_expiration_date: timestamp (nullable = true)\n",
            " |-- agent_name: string (nullable = true)\n",
            " |-- image_url: string (nullable = true)\n",
            " |-- url: string (nullable = true)\n",
            " |-- current_club_domestic_competition_id: string (nullable = true)\n",
            " |-- current_club_name: string (nullable = true)\n",
            " |-- market_value_in_eur: integer (nullable = true)\n",
            " |-- highest_market_value_in_eur: integer (nullable = true)\n",
            "\n",
            "Schema del DataFrame 'clubs':\n",
            "root\n",
            " |-- club_id: integer (nullable = true)\n",
            " |-- club_code: string (nullable = true)\n",
            " |-- name: string (nullable = true)\n",
            " |-- domestic_competition_id: string (nullable = true)\n",
            " |-- total_market_value: string (nullable = true)\n",
            " |-- squad_size: integer (nullable = true)\n",
            " |-- average_age: double (nullable = true)\n",
            " |-- foreigners_number: integer (nullable = true)\n",
            " |-- foreigners_percentage: double (nullable = true)\n",
            " |-- national_team_players: integer (nullable = true)\n",
            " |-- stadium_name: string (nullable = true)\n",
            " |-- stadium_seats: integer (nullable = true)\n",
            " |-- net_transfer_record: string (nullable = true)\n",
            " |-- coach_name: string (nullable = true)\n",
            " |-- last_season: integer (nullable = true)\n",
            " |-- filename: string (nullable = true)\n",
            " |-- url: string (nullable = true)\n",
            "\n",
            "Schema del DataFrame 'games':\n",
            "root\n",
            " |-- game_id: integer (nullable = true)\n",
            " |-- competition_id: string (nullable = true)\n",
            " |-- season: integer (nullable = true)\n",
            " |-- round: string (nullable = true)\n",
            " |-- date: date (nullable = true)\n",
            " |-- home_club_id: integer (nullable = true)\n",
            " |-- away_club_id: integer (nullable = true)\n",
            " |-- home_club_goals: integer (nullable = true)\n",
            " |-- away_club_goals: integer (nullable = true)\n",
            " |-- home_club_position: integer (nullable = true)\n",
            " |-- away_club_position: integer (nullable = true)\n",
            " |-- home_club_manager_name: string (nullable = true)\n",
            " |-- away_club_manager_name: string (nullable = true)\n",
            " |-- stadium: string (nullable = true)\n",
            " |-- attendance: integer (nullable = true)\n",
            " |-- referee: string (nullable = true)\n",
            " |-- url: string (nullable = true)\n",
            " |-- home_club_formation: string (nullable = true)\n",
            " |-- away_club_formation: string (nullable = true)\n",
            " |-- home_club_name: string (nullable = true)\n",
            " |-- away_club_name: string (nullable = true)\n",
            " |-- aggregate: timestamp (nullable = true)\n",
            " |-- competition_type: string (nullable = true)\n",
            "\n",
            "Schema del DataFrame 'competition':\n",
            "root\n",
            " |-- competition_id: string (nullable = true)\n",
            " |-- competition_code: string (nullable = true)\n",
            " |-- name: string (nullable = true)\n",
            " |-- sub_type: string (nullable = true)\n",
            " |-- type: string (nullable = true)\n",
            " |-- country_id: integer (nullable = true)\n",
            " |-- country_name: string (nullable = true)\n",
            " |-- domestic_league_code: string (nullable = true)\n",
            " |-- confederation: string (nullable = true)\n",
            " |-- url: string (nullable = true)\n",
            " |-- is_major_national_league: boolean (nullable = true)\n",
            "\n",
            "Schema del DataFrame 'game_lineups':\n",
            "root\n",
            " |-- game_lineups_id: string (nullable = true)\n",
            " |-- date: string (nullable = true)\n",
            " |-- game_id: integer (nullable = true)\n",
            " |-- player_id: integer (nullable = true)\n",
            " |-- club_id: integer (nullable = true)\n",
            " |-- player_name: string (nullable = true)\n",
            " |-- type: string (nullable = true)\n",
            " |-- position: string (nullable = true)\n",
            " |-- number: string (nullable = true)\n",
            " |-- team_captain: integer (nullable = true)\n",
            "\n"
          ]
        }
      ],
      "source": [
        "# Definizione dei percorsi dei file\n",
        "file_locations = {\n",
        "    \"game_events\": \"/content/game_events.csv\",\n",
        "    \"player_valuations\": \"/content/player_valuations.csv\",\n",
        "    \"appearances\": \"/content/appearances.csv\",\n",
        "    \"club_games\": \"/content/club_games.csv\",\n",
        "    \"players\": \"/content/players.csv\",\n",
        "    \"clubs\": \"/content/clubs.csv\",\n",
        "    \"games\": \"/content/games.csv\",\n",
        "    \"competition\": \"/content/competitions.csv\",\n",
        "    \"game_lineups\": \"/content/game_lineups.csv\"\n",
        "}\n",
        "\n",
        "file_type = \"csv\"\n",
        "\n",
        "# Opzioni CSV\n",
        "infer_schema = \"true\"\n",
        "first_row_is_header = \"true\"\n",
        "delimiter = \",\"\n",
        "\n",
        "# Lettura dei file e memorizzazione dei DataFrame in un dizionario\n",
        "dfs = {}\n",
        "for key, location in file_locations.items():\n",
        "    dfs[key] = spark.read.format(file_type) \\\n",
        "        .option(\"inferSchema\", infer_schema) \\\n",
        "        .option(\"header\", first_row_is_header) \\\n",
        "        .option(\"sep\", delimiter) \\\n",
        "        .load(location)\n",
        "\n",
        "\n",
        "for key, df in dfs.items():\n",
        "    print(f\"Schema del DataFrame '{key}':\")\n",
        "    df.printSchema()\n",
        "\n"
      ]
    },
    {
      "cell_type": "markdown",
      "metadata": {
        "id": "xhZAkaVWT0pK"
      },
      "source": [
        "# 3. **ALLENATORI**"
      ]
    },
    {
      "cell_type": "markdown",
      "metadata": {
        "id": "qjaJvohKN1q6"
      },
      "source": [
        "3.1 **Allenatori che hanno vinto più partite dalla stagione 2020 fino ad oggi**"
      ]
    },
    {
      "cell_type": "code",
      "execution_count": null,
      "metadata": {
        "colab": {
          "base_uri": "https://localhost:8080/",
          "height": 733
        },
        "id": "T_iK3TMFNRH1",
        "outputId": "c8f80924-1e15-45d6-ab96-83a2d9d0e6d3"
      },
      "outputs": [
        {
          "output_type": "stream",
          "name": "stdout",
          "text": [
            "+---------------+------------+\n",
            "|        manager|num_vittorie|\n",
            "+---------------+------------+\n",
            "|  Pep Guardiola|         167|\n",
            "|  Roger Schmidt|         138|\n",
            "|Carlo Ancelotti|         138|\n",
            "|   Erik ten Hag|         137|\n",
            "|   Jürgen Klopp|         136|\n",
            "+---------------+------------+\n",
            "only showing top 5 rows\n",
            "\n"
          ]
        },
        {
          "output_type": "display_data",
          "data": {
            "text/html": [
              "<html>\n",
              "<head><meta charset=\"utf-8\" /></head>\n",
              "<body>\n",
              "    <div>            <script src=\"https://cdnjs.cloudflare.com/ajax/libs/mathjax/2.7.5/MathJax.js?config=TeX-AMS-MML_SVG\"></script><script type=\"text/javascript\">if (window.MathJax && window.MathJax.Hub && window.MathJax.Hub.Config) {window.MathJax.Hub.Config({SVG: {font: \"STIX-Web\"}});}</script>                <script type=\"text/javascript\">window.PlotlyConfig = {MathJaxConfig: 'local'};</script>\n",
              "        <script charset=\"utf-8\" src=\"https://cdn.plot.ly/plotly-2.24.1.min.js\"></script>                <div id=\"2e74d9a3-12a0-418d-b4a0-44dd60d2dac7\" class=\"plotly-graph-div\" style=\"height:525px; width:100%;\"></div>            <script type=\"text/javascript\">                                    window.PLOTLYENV=window.PLOTLYENV || {};                                    if (document.getElementById(\"2e74d9a3-12a0-418d-b4a0-44dd60d2dac7\")) {                    Plotly.newPlot(                        \"2e74d9a3-12a0-418d-b4a0-44dd60d2dac7\",                        [{\"marker\":{\"color\":\"skyblue\"},\"x\":[\"Pep Guardiola\",\"Roger Schmidt\",\"Carlo Ancelotti\",\"Erik ten Hag\",\"J\\u00fcrgen Klopp\"],\"y\":[167,138,138,137,136],\"type\":\"bar\"}],                        {\"template\":{\"data\":{\"histogram2dcontour\":[{\"type\":\"histogram2dcontour\",\"colorbar\":{\"outlinewidth\":0,\"ticks\":\"\"},\"colorscale\":[[0.0,\"#0d0887\"],[0.1111111111111111,\"#46039f\"],[0.2222222222222222,\"#7201a8\"],[0.3333333333333333,\"#9c179e\"],[0.4444444444444444,\"#bd3786\"],[0.5555555555555556,\"#d8576b\"],[0.6666666666666666,\"#ed7953\"],[0.7777777777777778,\"#fb9f3a\"],[0.8888888888888888,\"#fdca26\"],[1.0,\"#f0f921\"]]}],\"choropleth\":[{\"type\":\"choropleth\",\"colorbar\":{\"outlinewidth\":0,\"ticks\":\"\"}}],\"histogram2d\":[{\"type\":\"histogram2d\",\"colorbar\":{\"outlinewidth\":0,\"ticks\":\"\"},\"colorscale\":[[0.0,\"#0d0887\"],[0.1111111111111111,\"#46039f\"],[0.2222222222222222,\"#7201a8\"],[0.3333333333333333,\"#9c179e\"],[0.4444444444444444,\"#bd3786\"],[0.5555555555555556,\"#d8576b\"],[0.6666666666666666,\"#ed7953\"],[0.7777777777777778,\"#fb9f3a\"],[0.8888888888888888,\"#fdca26\"],[1.0,\"#f0f921\"]]}],\"heatmap\":[{\"type\":\"heatmap\",\"colorbar\":{\"outlinewidth\":0,\"ticks\":\"\"},\"colorscale\":[[0.0,\"#0d0887\"],[0.1111111111111111,\"#46039f\"],[0.2222222222222222,\"#7201a8\"],[0.3333333333333333,\"#9c179e\"],[0.4444444444444444,\"#bd3786\"],[0.5555555555555556,\"#d8576b\"],[0.6666666666666666,\"#ed7953\"],[0.7777777777777778,\"#fb9f3a\"],[0.8888888888888888,\"#fdca26\"],[1.0,\"#f0f921\"]]}],\"heatmapgl\":[{\"type\":\"heatmapgl\",\"colorbar\":{\"outlinewidth\":0,\"ticks\":\"\"},\"colorscale\":[[0.0,\"#0d0887\"],[0.1111111111111111,\"#46039f\"],[0.2222222222222222,\"#7201a8\"],[0.3333333333333333,\"#9c179e\"],[0.4444444444444444,\"#bd3786\"],[0.5555555555555556,\"#d8576b\"],[0.6666666666666666,\"#ed7953\"],[0.7777777777777778,\"#fb9f3a\"],[0.8888888888888888,\"#fdca26\"],[1.0,\"#f0f921\"]]}],\"contourcarpet\":[{\"type\":\"contourcarpet\",\"colorbar\":{\"outlinewidth\":0,\"ticks\":\"\"}}],\"contour\":[{\"type\":\"contour\",\"colorbar\":{\"outlinewidth\":0,\"ticks\":\"\"},\"colorscale\":[[0.0,\"#0d0887\"],[0.1111111111111111,\"#46039f\"],[0.2222222222222222,\"#7201a8\"],[0.3333333333333333,\"#9c179e\"],[0.4444444444444444,\"#bd3786\"],[0.5555555555555556,\"#d8576b\"],[0.6666666666666666,\"#ed7953\"],[0.7777777777777778,\"#fb9f3a\"],[0.8888888888888888,\"#fdca26\"],[1.0,\"#f0f921\"]]}],\"surface\":[{\"type\":\"surface\",\"colorbar\":{\"outlinewidth\":0,\"ticks\":\"\"},\"colorscale\":[[0.0,\"#0d0887\"],[0.1111111111111111,\"#46039f\"],[0.2222222222222222,\"#7201a8\"],[0.3333333333333333,\"#9c179e\"],[0.4444444444444444,\"#bd3786\"],[0.5555555555555556,\"#d8576b\"],[0.6666666666666666,\"#ed7953\"],[0.7777777777777778,\"#fb9f3a\"],[0.8888888888888888,\"#fdca26\"],[1.0,\"#f0f921\"]]}],\"mesh3d\":[{\"type\":\"mesh3d\",\"colorbar\":{\"outlinewidth\":0,\"ticks\":\"\"}}],\"scatter\":[{\"fillpattern\":{\"fillmode\":\"overlay\",\"size\":10,\"solidity\":0.2},\"type\":\"scatter\"}],\"parcoords\":[{\"type\":\"parcoords\",\"line\":{\"colorbar\":{\"outlinewidth\":0,\"ticks\":\"\"}}}],\"scatterpolargl\":[{\"type\":\"scatterpolargl\",\"marker\":{\"colorbar\":{\"outlinewidth\":0,\"ticks\":\"\"}}}],\"bar\":[{\"error_x\":{\"color\":\"#2a3f5f\"},\"error_y\":{\"color\":\"#2a3f5f\"},\"marker\":{\"line\":{\"color\":\"#E5ECF6\",\"width\":0.5},\"pattern\":{\"fillmode\":\"overlay\",\"size\":10,\"solidity\":0.2}},\"type\":\"bar\"}],\"scattergeo\":[{\"type\":\"scattergeo\",\"marker\":{\"colorbar\":{\"outlinewidth\":0,\"ticks\":\"\"}}}],\"scatterpolar\":[{\"type\":\"scatterpolar\",\"marker\":{\"colorbar\":{\"outlinewidth\":0,\"ticks\":\"\"}}}],\"histogram\":[{\"marker\":{\"pattern\":{\"fillmode\":\"overlay\",\"size\":10,\"solidity\":0.2}},\"type\":\"histogram\"}],\"scattergl\":[{\"type\":\"scattergl\",\"marker\":{\"colorbar\":{\"outlinewidth\":0,\"ticks\":\"\"}}}],\"scatter3d\":[{\"type\":\"scatter3d\",\"line\":{\"colorbar\":{\"outlinewidth\":0,\"ticks\":\"\"}},\"marker\":{\"colorbar\":{\"outlinewidth\":0,\"ticks\":\"\"}}}],\"scattermapbox\":[{\"type\":\"scattermapbox\",\"marker\":{\"colorbar\":{\"outlinewidth\":0,\"ticks\":\"\"}}}],\"scatterternary\":[{\"type\":\"scatterternary\",\"marker\":{\"colorbar\":{\"outlinewidth\":0,\"ticks\":\"\"}}}],\"scattercarpet\":[{\"type\":\"scattercarpet\",\"marker\":{\"colorbar\":{\"outlinewidth\":0,\"ticks\":\"\"}}}],\"carpet\":[{\"aaxis\":{\"endlinecolor\":\"#2a3f5f\",\"gridcolor\":\"white\",\"linecolor\":\"white\",\"minorgridcolor\":\"white\",\"startlinecolor\":\"#2a3f5f\"},\"baxis\":{\"endlinecolor\":\"#2a3f5f\",\"gridcolor\":\"white\",\"linecolor\":\"white\",\"minorgridcolor\":\"white\",\"startlinecolor\":\"#2a3f5f\"},\"type\":\"carpet\"}],\"table\":[{\"cells\":{\"fill\":{\"color\":\"#EBF0F8\"},\"line\":{\"color\":\"white\"}},\"header\":{\"fill\":{\"color\":\"#C8D4E3\"},\"line\":{\"color\":\"white\"}},\"type\":\"table\"}],\"barpolar\":[{\"marker\":{\"line\":{\"color\":\"#E5ECF6\",\"width\":0.5},\"pattern\":{\"fillmode\":\"overlay\",\"size\":10,\"solidity\":0.2}},\"type\":\"barpolar\"}],\"pie\":[{\"automargin\":true,\"type\":\"pie\"}]},\"layout\":{\"autotypenumbers\":\"strict\",\"colorway\":[\"#636efa\",\"#EF553B\",\"#00cc96\",\"#ab63fa\",\"#FFA15A\",\"#19d3f3\",\"#FF6692\",\"#B6E880\",\"#FF97FF\",\"#FECB52\"],\"font\":{\"color\":\"#2a3f5f\"},\"hovermode\":\"closest\",\"hoverlabel\":{\"align\":\"left\"},\"paper_bgcolor\":\"white\",\"plot_bgcolor\":\"#E5ECF6\",\"polar\":{\"bgcolor\":\"#E5ECF6\",\"angularaxis\":{\"gridcolor\":\"white\",\"linecolor\":\"white\",\"ticks\":\"\"},\"radialaxis\":{\"gridcolor\":\"white\",\"linecolor\":\"white\",\"ticks\":\"\"}},\"ternary\":{\"bgcolor\":\"#E5ECF6\",\"aaxis\":{\"gridcolor\":\"white\",\"linecolor\":\"white\",\"ticks\":\"\"},\"baxis\":{\"gridcolor\":\"white\",\"linecolor\":\"white\",\"ticks\":\"\"},\"caxis\":{\"gridcolor\":\"white\",\"linecolor\":\"white\",\"ticks\":\"\"}},\"coloraxis\":{\"colorbar\":{\"outlinewidth\":0,\"ticks\":\"\"}},\"colorscale\":{\"sequential\":[[0.0,\"#0d0887\"],[0.1111111111111111,\"#46039f\"],[0.2222222222222222,\"#7201a8\"],[0.3333333333333333,\"#9c179e\"],[0.4444444444444444,\"#bd3786\"],[0.5555555555555556,\"#d8576b\"],[0.6666666666666666,\"#ed7953\"],[0.7777777777777778,\"#fb9f3a\"],[0.8888888888888888,\"#fdca26\"],[1.0,\"#f0f921\"]],\"sequentialminus\":[[0.0,\"#0d0887\"],[0.1111111111111111,\"#46039f\"],[0.2222222222222222,\"#7201a8\"],[0.3333333333333333,\"#9c179e\"],[0.4444444444444444,\"#bd3786\"],[0.5555555555555556,\"#d8576b\"],[0.6666666666666666,\"#ed7953\"],[0.7777777777777778,\"#fb9f3a\"],[0.8888888888888888,\"#fdca26\"],[1.0,\"#f0f921\"]],\"diverging\":[[0,\"#8e0152\"],[0.1,\"#c51b7d\"],[0.2,\"#de77ae\"],[0.3,\"#f1b6da\"],[0.4,\"#fde0ef\"],[0.5,\"#f7f7f7\"],[0.6,\"#e6f5d0\"],[0.7,\"#b8e186\"],[0.8,\"#7fbc41\"],[0.9,\"#4d9221\"],[1,\"#276419\"]]},\"xaxis\":{\"gridcolor\":\"white\",\"linecolor\":\"white\",\"ticks\":\"\",\"title\":{\"standoff\":15},\"zerolinecolor\":\"white\",\"automargin\":true,\"zerolinewidth\":2},\"yaxis\":{\"gridcolor\":\"white\",\"linecolor\":\"white\",\"ticks\":\"\",\"title\":{\"standoff\":15},\"zerolinecolor\":\"white\",\"automargin\":true,\"zerolinewidth\":2},\"scene\":{\"xaxis\":{\"backgroundcolor\":\"#E5ECF6\",\"gridcolor\":\"white\",\"linecolor\":\"white\",\"showbackground\":true,\"ticks\":\"\",\"zerolinecolor\":\"white\",\"gridwidth\":2},\"yaxis\":{\"backgroundcolor\":\"#E5ECF6\",\"gridcolor\":\"white\",\"linecolor\":\"white\",\"showbackground\":true,\"ticks\":\"\",\"zerolinecolor\":\"white\",\"gridwidth\":2},\"zaxis\":{\"backgroundcolor\":\"#E5ECF6\",\"gridcolor\":\"white\",\"linecolor\":\"white\",\"showbackground\":true,\"ticks\":\"\",\"zerolinecolor\":\"white\",\"gridwidth\":2}},\"shapedefaults\":{\"line\":{\"color\":\"#2a3f5f\"}},\"annotationdefaults\":{\"arrowcolor\":\"#2a3f5f\",\"arrowhead\":0,\"arrowwidth\":1},\"geo\":{\"bgcolor\":\"white\",\"landcolor\":\"#E5ECF6\",\"subunitcolor\":\"white\",\"showland\":true,\"showlakes\":true,\"lakecolor\":\"white\"},\"title\":{\"x\":0.05},\"mapbox\":{\"style\":\"light\"}}},\"title\":{\"text\":\"Top 5 Manager per numero di vittorie dal 2020\"},\"xaxis\":{\"title\":{\"text\":\"Manager\"}},\"yaxis\":{\"title\":{\"text\":\"Numero di vittorie\"}}},                        {\"responsive\": true}                    ).then(function(){\n",
              "                            \n",
              "var gd = document.getElementById('2e74d9a3-12a0-418d-b4a0-44dd60d2dac7');\n",
              "var x = new MutationObserver(function (mutations, observer) {{\n",
              "        var display = window.getComputedStyle(gd).display;\n",
              "        if (!display || display === 'none') {{\n",
              "            console.log([gd, 'removed!']);\n",
              "            Plotly.purge(gd);\n",
              "            observer.disconnect();\n",
              "        }}\n",
              "}});\n",
              "\n",
              "// Listen for the removal of the full notebook cells\n",
              "var notebookContainer = gd.closest('#notebook-container');\n",
              "if (notebookContainer) {{\n",
              "    x.observe(notebookContainer, {childList: true});\n",
              "}}\n",
              "\n",
              "// Listen for the clearing of the current output cell\n",
              "var outputEl = gd.closest('.output');\n",
              "if (outputEl) {{\n",
              "    x.observe(outputEl, {childList: true});\n",
              "}}\n",
              "\n",
              "                        })                };                            </script>        </div>\n",
              "</body>\n",
              "</html>"
            ]
          },
          "metadata": {}
        }
      ],
      "source": [
        "top_manager_winner = dfs[\"club_games\"].join(dfs[\"games\"], \"game_id\") \\\n",
        "                          .filter((col(\"own_manager_name\").isNotNull()) & (col(\"season\") >= 2020) & (col(\"is_win\") == 1)) \\\n",
        "                          .groupBy(\"own_manager_name\").agg(count(\"is_win\").alias(\"num_vittorie\")) \\\n",
        "                          .withColumnRenamed(\"own_manager_name\", \"manager\") \\\n",
        "                          .orderBy(col(\"num_vittorie\").desc())\n",
        "\n",
        "top_manager_winner.show(5)\n",
        "\n",
        "# Estrai i dati dal DataFrame\n",
        "managers = top_manager_winner.select(\"manager\").rdd.flatMap(lambda x: x).collect()\n",
        "num_vittorie = top_manager_winner.select(\"num_vittorie\").rdd.flatMap(lambda x: x).collect()\n",
        "\n",
        "# Creazione del grafico a barre utilizzando Plotly\n",
        "fig = go.Figure(go.Bar(\n",
        "    x=managers[:5],\n",
        "    y=num_vittorie[:5],\n",
        "    marker_color='skyblue'\n",
        "))\n",
        "\n",
        "fig.update_layout(\n",
        "    title='Top 5 Manager per numero di vittorie dal 2020',\n",
        "    xaxis=dict(title='Manager'),\n",
        "    yaxis=dict(title='Numero di vittorie')\n",
        ")\n",
        "\n",
        "fig.show()\n"
      ]
    },
    {
      "cell_type": "markdown",
      "metadata": {
        "id": "mHqPHIl2SVWZ"
      },
      "source": [
        "3.2 **Allenatori che hanno il più alto tasso di cartellini ricevuti su partite giocate**"
      ]
    },
    {
      "cell_type": "code",
      "execution_count": null,
      "metadata": {
        "colab": {
          "base_uri": "https://localhost:8080/",
          "height": 1000
        },
        "id": "B8iDZRrlSQuX",
        "outputId": "d295c529-e3d5-4ae8-e36e-72ba1a6edc2e"
      },
      "outputs": [
        {
          "output_type": "stream",
          "name": "stdout",
          "text": [
            "+--------------------+-------+----------+------------+---------------+------------------+\n",
            "|             manager|num_red|num_yellow|total_points|num_partite_tot|points_cards4match|\n",
            "+--------------------+-------+----------+------------+---------------+------------------+\n",
            "|      Kirill Novikov|      1|       122|        62.0|            575|             0.108|\n",
            "|   Franclim Carvalho|     12|       196|       110.0|           1030|             0.107|\n",
            "|         Rui Vitória|      4|       270|       139.0|           1328|             0.105|\n",
            "|      Mykola Tsymbal|      0|       104|        52.0|            514|             0.101|\n",
            "|Aleksandr Khatske...|      0|       248|       124.0|           1230|             0.101|\n",
            "|       Pepe Bordalás|     20|      1434|       737.0|           7480|             0.099|\n",
            "|      Álvaro Pacheco|     18|       894|       465.0|           4798|             0.097|\n",
            "|    João Pedro Sousa|     17|       960|       497.0|           5197|             0.096|\n",
            "|              Moreno|     17|       758|       396.0|           4219|             0.094|\n",
            "|    Nélson Veríssimo|     10|       536|       278.0|           2950|             0.094|\n",
            "+--------------------+-------+----------+------------+---------------+------------------+\n",
            "only showing top 10 rows\n",
            "\n"
          ]
        },
        {
          "output_type": "display_data",
          "data": {
            "text/html": [
              "<html>\n",
              "<head><meta charset=\"utf-8\" /></head>\n",
              "<body>\n",
              "    <div>            <script src=\"https://cdnjs.cloudflare.com/ajax/libs/mathjax/2.7.5/MathJax.js?config=TeX-AMS-MML_SVG\"></script><script type=\"text/javascript\">if (window.MathJax && window.MathJax.Hub && window.MathJax.Hub.Config) {window.MathJax.Hub.Config({SVG: {font: \"STIX-Web\"}});}</script>                <script type=\"text/javascript\">window.PlotlyConfig = {MathJaxConfig: 'local'};</script>\n",
              "        <script charset=\"utf-8\" src=\"https://cdn.plot.ly/plotly-2.24.1.min.js\"></script>                <div id=\"43c54e2c-210f-4574-97e7-a585288894f1\" class=\"plotly-graph-div\" style=\"height:525px; width:100%;\"></div>            <script type=\"text/javascript\">                                    window.PLOTLYENV=window.PLOTLYENV || {};                                    if (document.getElementById(\"43c54e2c-210f-4574-97e7-a585288894f1\")) {                    Plotly.newPlot(                        \"43c54e2c-210f-4574-97e7-a585288894f1\",                        [{\"marker\":{\"color\":\"skyblue\"},\"x\":[\"Kirill Novikov\",\"Franclim Carvalho\",\"Rui Vit\\u00f3ria\",\"Mykola Tsymbal\",\"Aleksandr Khatskevich\",\"Pepe Bordal\\u00e1s\",\"\\u00c1lvaro Pacheco\",\"Jo\\u00e3o Pedro Sousa\",\"N\\u00e9lson Ver\\u00edssimo\",\"Milton Mendes\"],\"y\":[0.108,0.107,0.105,0.101,0.101,0.099,0.097,0.096,0.094,0.094],\"type\":\"bar\"}],                        {\"template\":{\"data\":{\"histogram2dcontour\":[{\"type\":\"histogram2dcontour\",\"colorbar\":{\"outlinewidth\":0,\"ticks\":\"\"},\"colorscale\":[[0.0,\"#0d0887\"],[0.1111111111111111,\"#46039f\"],[0.2222222222222222,\"#7201a8\"],[0.3333333333333333,\"#9c179e\"],[0.4444444444444444,\"#bd3786\"],[0.5555555555555556,\"#d8576b\"],[0.6666666666666666,\"#ed7953\"],[0.7777777777777778,\"#fb9f3a\"],[0.8888888888888888,\"#fdca26\"],[1.0,\"#f0f921\"]]}],\"choropleth\":[{\"type\":\"choropleth\",\"colorbar\":{\"outlinewidth\":0,\"ticks\":\"\"}}],\"histogram2d\":[{\"type\":\"histogram2d\",\"colorbar\":{\"outlinewidth\":0,\"ticks\":\"\"},\"colorscale\":[[0.0,\"#0d0887\"],[0.1111111111111111,\"#46039f\"],[0.2222222222222222,\"#7201a8\"],[0.3333333333333333,\"#9c179e\"],[0.4444444444444444,\"#bd3786\"],[0.5555555555555556,\"#d8576b\"],[0.6666666666666666,\"#ed7953\"],[0.7777777777777778,\"#fb9f3a\"],[0.8888888888888888,\"#fdca26\"],[1.0,\"#f0f921\"]]}],\"heatmap\":[{\"type\":\"heatmap\",\"colorbar\":{\"outlinewidth\":0,\"ticks\":\"\"},\"colorscale\":[[0.0,\"#0d0887\"],[0.1111111111111111,\"#46039f\"],[0.2222222222222222,\"#7201a8\"],[0.3333333333333333,\"#9c179e\"],[0.4444444444444444,\"#bd3786\"],[0.5555555555555556,\"#d8576b\"],[0.6666666666666666,\"#ed7953\"],[0.7777777777777778,\"#fb9f3a\"],[0.8888888888888888,\"#fdca26\"],[1.0,\"#f0f921\"]]}],\"heatmapgl\":[{\"type\":\"heatmapgl\",\"colorbar\":{\"outlinewidth\":0,\"ticks\":\"\"},\"colorscale\":[[0.0,\"#0d0887\"],[0.1111111111111111,\"#46039f\"],[0.2222222222222222,\"#7201a8\"],[0.3333333333333333,\"#9c179e\"],[0.4444444444444444,\"#bd3786\"],[0.5555555555555556,\"#d8576b\"],[0.6666666666666666,\"#ed7953\"],[0.7777777777777778,\"#fb9f3a\"],[0.8888888888888888,\"#fdca26\"],[1.0,\"#f0f921\"]]}],\"contourcarpet\":[{\"type\":\"contourcarpet\",\"colorbar\":{\"outlinewidth\":0,\"ticks\":\"\"}}],\"contour\":[{\"type\":\"contour\",\"colorbar\":{\"outlinewidth\":0,\"ticks\":\"\"},\"colorscale\":[[0.0,\"#0d0887\"],[0.1111111111111111,\"#46039f\"],[0.2222222222222222,\"#7201a8\"],[0.3333333333333333,\"#9c179e\"],[0.4444444444444444,\"#bd3786\"],[0.5555555555555556,\"#d8576b\"],[0.6666666666666666,\"#ed7953\"],[0.7777777777777778,\"#fb9f3a\"],[0.8888888888888888,\"#fdca26\"],[1.0,\"#f0f921\"]]}],\"surface\":[{\"type\":\"surface\",\"colorbar\":{\"outlinewidth\":0,\"ticks\":\"\"},\"colorscale\":[[0.0,\"#0d0887\"],[0.1111111111111111,\"#46039f\"],[0.2222222222222222,\"#7201a8\"],[0.3333333333333333,\"#9c179e\"],[0.4444444444444444,\"#bd3786\"],[0.5555555555555556,\"#d8576b\"],[0.6666666666666666,\"#ed7953\"],[0.7777777777777778,\"#fb9f3a\"],[0.8888888888888888,\"#fdca26\"],[1.0,\"#f0f921\"]]}],\"mesh3d\":[{\"type\":\"mesh3d\",\"colorbar\":{\"outlinewidth\":0,\"ticks\":\"\"}}],\"scatter\":[{\"fillpattern\":{\"fillmode\":\"overlay\",\"size\":10,\"solidity\":0.2},\"type\":\"scatter\"}],\"parcoords\":[{\"type\":\"parcoords\",\"line\":{\"colorbar\":{\"outlinewidth\":0,\"ticks\":\"\"}}}],\"scatterpolargl\":[{\"type\":\"scatterpolargl\",\"marker\":{\"colorbar\":{\"outlinewidth\":0,\"ticks\":\"\"}}}],\"bar\":[{\"error_x\":{\"color\":\"#2a3f5f\"},\"error_y\":{\"color\":\"#2a3f5f\"},\"marker\":{\"line\":{\"color\":\"#E5ECF6\",\"width\":0.5},\"pattern\":{\"fillmode\":\"overlay\",\"size\":10,\"solidity\":0.2}},\"type\":\"bar\"}],\"scattergeo\":[{\"type\":\"scattergeo\",\"marker\":{\"colorbar\":{\"outlinewidth\":0,\"ticks\":\"\"}}}],\"scatterpolar\":[{\"type\":\"scatterpolar\",\"marker\":{\"colorbar\":{\"outlinewidth\":0,\"ticks\":\"\"}}}],\"histogram\":[{\"marker\":{\"pattern\":{\"fillmode\":\"overlay\",\"size\":10,\"solidity\":0.2}},\"type\":\"histogram\"}],\"scattergl\":[{\"type\":\"scattergl\",\"marker\":{\"colorbar\":{\"outlinewidth\":0,\"ticks\":\"\"}}}],\"scatter3d\":[{\"type\":\"scatter3d\",\"line\":{\"colorbar\":{\"outlinewidth\":0,\"ticks\":\"\"}},\"marker\":{\"colorbar\":{\"outlinewidth\":0,\"ticks\":\"\"}}}],\"scattermapbox\":[{\"type\":\"scattermapbox\",\"marker\":{\"colorbar\":{\"outlinewidth\":0,\"ticks\":\"\"}}}],\"scatterternary\":[{\"type\":\"scatterternary\",\"marker\":{\"colorbar\":{\"outlinewidth\":0,\"ticks\":\"\"}}}],\"scattercarpet\":[{\"type\":\"scattercarpet\",\"marker\":{\"colorbar\":{\"outlinewidth\":0,\"ticks\":\"\"}}}],\"carpet\":[{\"aaxis\":{\"endlinecolor\":\"#2a3f5f\",\"gridcolor\":\"white\",\"linecolor\":\"white\",\"minorgridcolor\":\"white\",\"startlinecolor\":\"#2a3f5f\"},\"baxis\":{\"endlinecolor\":\"#2a3f5f\",\"gridcolor\":\"white\",\"linecolor\":\"white\",\"minorgridcolor\":\"white\",\"startlinecolor\":\"#2a3f5f\"},\"type\":\"carpet\"}],\"table\":[{\"cells\":{\"fill\":{\"color\":\"#EBF0F8\"},\"line\":{\"color\":\"white\"}},\"header\":{\"fill\":{\"color\":\"#C8D4E3\"},\"line\":{\"color\":\"white\"}},\"type\":\"table\"}],\"barpolar\":[{\"marker\":{\"line\":{\"color\":\"#E5ECF6\",\"width\":0.5},\"pattern\":{\"fillmode\":\"overlay\",\"size\":10,\"solidity\":0.2}},\"type\":\"barpolar\"}],\"pie\":[{\"automargin\":true,\"type\":\"pie\"}]},\"layout\":{\"autotypenumbers\":\"strict\",\"colorway\":[\"#636efa\",\"#EF553B\",\"#00cc96\",\"#ab63fa\",\"#FFA15A\",\"#19d3f3\",\"#FF6692\",\"#B6E880\",\"#FF97FF\",\"#FECB52\"],\"font\":{\"color\":\"#2a3f5f\"},\"hovermode\":\"closest\",\"hoverlabel\":{\"align\":\"left\"},\"paper_bgcolor\":\"white\",\"plot_bgcolor\":\"#E5ECF6\",\"polar\":{\"bgcolor\":\"#E5ECF6\",\"angularaxis\":{\"gridcolor\":\"white\",\"linecolor\":\"white\",\"ticks\":\"\"},\"radialaxis\":{\"gridcolor\":\"white\",\"linecolor\":\"white\",\"ticks\":\"\"}},\"ternary\":{\"bgcolor\":\"#E5ECF6\",\"aaxis\":{\"gridcolor\":\"white\",\"linecolor\":\"white\",\"ticks\":\"\"},\"baxis\":{\"gridcolor\":\"white\",\"linecolor\":\"white\",\"ticks\":\"\"},\"caxis\":{\"gridcolor\":\"white\",\"linecolor\":\"white\",\"ticks\":\"\"}},\"coloraxis\":{\"colorbar\":{\"outlinewidth\":0,\"ticks\":\"\"}},\"colorscale\":{\"sequential\":[[0.0,\"#0d0887\"],[0.1111111111111111,\"#46039f\"],[0.2222222222222222,\"#7201a8\"],[0.3333333333333333,\"#9c179e\"],[0.4444444444444444,\"#bd3786\"],[0.5555555555555556,\"#d8576b\"],[0.6666666666666666,\"#ed7953\"],[0.7777777777777778,\"#fb9f3a\"],[0.8888888888888888,\"#fdca26\"],[1.0,\"#f0f921\"]],\"sequentialminus\":[[0.0,\"#0d0887\"],[0.1111111111111111,\"#46039f\"],[0.2222222222222222,\"#7201a8\"],[0.3333333333333333,\"#9c179e\"],[0.4444444444444444,\"#bd3786\"],[0.5555555555555556,\"#d8576b\"],[0.6666666666666666,\"#ed7953\"],[0.7777777777777778,\"#fb9f3a\"],[0.8888888888888888,\"#fdca26\"],[1.0,\"#f0f921\"]],\"diverging\":[[0,\"#8e0152\"],[0.1,\"#c51b7d\"],[0.2,\"#de77ae\"],[0.3,\"#f1b6da\"],[0.4,\"#fde0ef\"],[0.5,\"#f7f7f7\"],[0.6,\"#e6f5d0\"],[0.7,\"#b8e186\"],[0.8,\"#7fbc41\"],[0.9,\"#4d9221\"],[1,\"#276419\"]]},\"xaxis\":{\"gridcolor\":\"white\",\"linecolor\":\"white\",\"ticks\":\"\",\"title\":{\"standoff\":15},\"zerolinecolor\":\"white\",\"automargin\":true,\"zerolinewidth\":2},\"yaxis\":{\"gridcolor\":\"white\",\"linecolor\":\"white\",\"ticks\":\"\",\"title\":{\"standoff\":15},\"zerolinecolor\":\"white\",\"automargin\":true,\"zerolinewidth\":2},\"scene\":{\"xaxis\":{\"backgroundcolor\":\"#E5ECF6\",\"gridcolor\":\"white\",\"linecolor\":\"white\",\"showbackground\":true,\"ticks\":\"\",\"zerolinecolor\":\"white\",\"gridwidth\":2},\"yaxis\":{\"backgroundcolor\":\"#E5ECF6\",\"gridcolor\":\"white\",\"linecolor\":\"white\",\"showbackground\":true,\"ticks\":\"\",\"zerolinecolor\":\"white\",\"gridwidth\":2},\"zaxis\":{\"backgroundcolor\":\"#E5ECF6\",\"gridcolor\":\"white\",\"linecolor\":\"white\",\"showbackground\":true,\"ticks\":\"\",\"zerolinecolor\":\"white\",\"gridwidth\":2}},\"shapedefaults\":{\"line\":{\"color\":\"#2a3f5f\"}},\"annotationdefaults\":{\"arrowcolor\":\"#2a3f5f\",\"arrowhead\":0,\"arrowwidth\":1},\"geo\":{\"bgcolor\":\"white\",\"landcolor\":\"#E5ECF6\",\"subunitcolor\":\"white\",\"showland\":true,\"showlakes\":true,\"lakecolor\":\"white\"},\"title\":{\"x\":0.05},\"mapbox\":{\"style\":\"light\"}}},\"title\":{\"text\":\"Allenatori con il piu alto tasso di cartellini\"},\"xaxis\":{\"title\":{\"text\":\"Manager\"}},\"yaxis\":{\"title\":{\"text\":\"Points cards 4 match\"}}},                        {\"responsive\": true}                    ).then(function(){\n",
              "                            \n",
              "var gd = document.getElementById('43c54e2c-210f-4574-97e7-a585288894f1');\n",
              "var x = new MutationObserver(function (mutations, observer) {{\n",
              "        var display = window.getComputedStyle(gd).display;\n",
              "        if (!display || display === 'none') {{\n",
              "            console.log([gd, 'removed!']);\n",
              "            Plotly.purge(gd);\n",
              "            observer.disconnect();\n",
              "        }}\n",
              "}});\n",
              "\n",
              "// Listen for the removal of the full notebook cells\n",
              "var notebookContainer = gd.closest('#notebook-container');\n",
              "if (notebookContainer) {{\n",
              "    x.observe(notebookContainer, {childList: true});\n",
              "}}\n",
              "\n",
              "// Listen for the clearing of the current output cell\n",
              "var outputEl = gd.closest('.output');\n",
              "if (outputEl) {{\n",
              "    x.observe(outputEl, {childList: true});\n",
              "}}\n",
              "\n",
              "                        })                };                            </script>        </div>\n",
              "</body>\n",
              "</html>"
            ]
          },
          "metadata": {}
        },
        {
          "output_type": "display_data",
          "data": {
            "text/html": [
              "<html>\n",
              "<head><meta charset=\"utf-8\" /></head>\n",
              "<body>\n",
              "    <div>            <script src=\"https://cdnjs.cloudflare.com/ajax/libs/mathjax/2.7.5/MathJax.js?config=TeX-AMS-MML_SVG\"></script><script type=\"text/javascript\">if (window.MathJax && window.MathJax.Hub && window.MathJax.Hub.Config) {window.MathJax.Hub.Config({SVG: {font: \"STIX-Web\"}});}</script>                <script type=\"text/javascript\">window.PlotlyConfig = {MathJaxConfig: 'local'};</script>\n",
              "        <script charset=\"utf-8\" src=\"https://cdn.plot.ly/plotly-2.24.1.min.js\"></script>                <div id=\"b4e09811-9879-4b78-88d2-646a51a11aa4\" class=\"plotly-graph-div\" style=\"height:600px; width:800px;\"></div>            <script type=\"text/javascript\">                                    window.PLOTLYENV=window.PLOTLYENV || {};                                    if (document.getElementById(\"b4e09811-9879-4b78-88d2-646a51a11aa4\")) {                    Plotly.newPlot(                        \"b4e09811-9879-4b78-88d2-646a51a11aa4\",                        [{\"marker\":{\"color\":\"blue\",\"opacity\":0.5,\"size\":8},\"mode\":\"markers\",\"x\":[\"Kirill Novikov\",\"Franclim Carvalho\",\"Rui Vit\\u00f3ria\",\"Mykola Tsymbal\",\"Aleksandr Khatskevich\"],\"y\":[122,196,270,104,248],\"z\":[1,12,4,0,0],\"type\":\"scatter3d\"}],                        {\"template\":{\"data\":{\"histogram2dcontour\":[{\"type\":\"histogram2dcontour\",\"colorbar\":{\"outlinewidth\":0,\"ticks\":\"\"},\"colorscale\":[[0.0,\"#0d0887\"],[0.1111111111111111,\"#46039f\"],[0.2222222222222222,\"#7201a8\"],[0.3333333333333333,\"#9c179e\"],[0.4444444444444444,\"#bd3786\"],[0.5555555555555556,\"#d8576b\"],[0.6666666666666666,\"#ed7953\"],[0.7777777777777778,\"#fb9f3a\"],[0.8888888888888888,\"#fdca26\"],[1.0,\"#f0f921\"]]}],\"choropleth\":[{\"type\":\"choropleth\",\"colorbar\":{\"outlinewidth\":0,\"ticks\":\"\"}}],\"histogram2d\":[{\"type\":\"histogram2d\",\"colorbar\":{\"outlinewidth\":0,\"ticks\":\"\"},\"colorscale\":[[0.0,\"#0d0887\"],[0.1111111111111111,\"#46039f\"],[0.2222222222222222,\"#7201a8\"],[0.3333333333333333,\"#9c179e\"],[0.4444444444444444,\"#bd3786\"],[0.5555555555555556,\"#d8576b\"],[0.6666666666666666,\"#ed7953\"],[0.7777777777777778,\"#fb9f3a\"],[0.8888888888888888,\"#fdca26\"],[1.0,\"#f0f921\"]]}],\"heatmap\":[{\"type\":\"heatmap\",\"colorbar\":{\"outlinewidth\":0,\"ticks\":\"\"},\"colorscale\":[[0.0,\"#0d0887\"],[0.1111111111111111,\"#46039f\"],[0.2222222222222222,\"#7201a8\"],[0.3333333333333333,\"#9c179e\"],[0.4444444444444444,\"#bd3786\"],[0.5555555555555556,\"#d8576b\"],[0.6666666666666666,\"#ed7953\"],[0.7777777777777778,\"#fb9f3a\"],[0.8888888888888888,\"#fdca26\"],[1.0,\"#f0f921\"]]}],\"heatmapgl\":[{\"type\":\"heatmapgl\",\"colorbar\":{\"outlinewidth\":0,\"ticks\":\"\"},\"colorscale\":[[0.0,\"#0d0887\"],[0.1111111111111111,\"#46039f\"],[0.2222222222222222,\"#7201a8\"],[0.3333333333333333,\"#9c179e\"],[0.4444444444444444,\"#bd3786\"],[0.5555555555555556,\"#d8576b\"],[0.6666666666666666,\"#ed7953\"],[0.7777777777777778,\"#fb9f3a\"],[0.8888888888888888,\"#fdca26\"],[1.0,\"#f0f921\"]]}],\"contourcarpet\":[{\"type\":\"contourcarpet\",\"colorbar\":{\"outlinewidth\":0,\"ticks\":\"\"}}],\"contour\":[{\"type\":\"contour\",\"colorbar\":{\"outlinewidth\":0,\"ticks\":\"\"},\"colorscale\":[[0.0,\"#0d0887\"],[0.1111111111111111,\"#46039f\"],[0.2222222222222222,\"#7201a8\"],[0.3333333333333333,\"#9c179e\"],[0.4444444444444444,\"#bd3786\"],[0.5555555555555556,\"#d8576b\"],[0.6666666666666666,\"#ed7953\"],[0.7777777777777778,\"#fb9f3a\"],[0.8888888888888888,\"#fdca26\"],[1.0,\"#f0f921\"]]}],\"surface\":[{\"type\":\"surface\",\"colorbar\":{\"outlinewidth\":0,\"ticks\":\"\"},\"colorscale\":[[0.0,\"#0d0887\"],[0.1111111111111111,\"#46039f\"],[0.2222222222222222,\"#7201a8\"],[0.3333333333333333,\"#9c179e\"],[0.4444444444444444,\"#bd3786\"],[0.5555555555555556,\"#d8576b\"],[0.6666666666666666,\"#ed7953\"],[0.7777777777777778,\"#fb9f3a\"],[0.8888888888888888,\"#fdca26\"],[1.0,\"#f0f921\"]]}],\"mesh3d\":[{\"type\":\"mesh3d\",\"colorbar\":{\"outlinewidth\":0,\"ticks\":\"\"}}],\"scatter\":[{\"fillpattern\":{\"fillmode\":\"overlay\",\"size\":10,\"solidity\":0.2},\"type\":\"scatter\"}],\"parcoords\":[{\"type\":\"parcoords\",\"line\":{\"colorbar\":{\"outlinewidth\":0,\"ticks\":\"\"}}}],\"scatterpolargl\":[{\"type\":\"scatterpolargl\",\"marker\":{\"colorbar\":{\"outlinewidth\":0,\"ticks\":\"\"}}}],\"bar\":[{\"error_x\":{\"color\":\"#2a3f5f\"},\"error_y\":{\"color\":\"#2a3f5f\"},\"marker\":{\"line\":{\"color\":\"#E5ECF6\",\"width\":0.5},\"pattern\":{\"fillmode\":\"overlay\",\"size\":10,\"solidity\":0.2}},\"type\":\"bar\"}],\"scattergeo\":[{\"type\":\"scattergeo\",\"marker\":{\"colorbar\":{\"outlinewidth\":0,\"ticks\":\"\"}}}],\"scatterpolar\":[{\"type\":\"scatterpolar\",\"marker\":{\"colorbar\":{\"outlinewidth\":0,\"ticks\":\"\"}}}],\"histogram\":[{\"marker\":{\"pattern\":{\"fillmode\":\"overlay\",\"size\":10,\"solidity\":0.2}},\"type\":\"histogram\"}],\"scattergl\":[{\"type\":\"scattergl\",\"marker\":{\"colorbar\":{\"outlinewidth\":0,\"ticks\":\"\"}}}],\"scatter3d\":[{\"type\":\"scatter3d\",\"line\":{\"colorbar\":{\"outlinewidth\":0,\"ticks\":\"\"}},\"marker\":{\"colorbar\":{\"outlinewidth\":0,\"ticks\":\"\"}}}],\"scattermapbox\":[{\"type\":\"scattermapbox\",\"marker\":{\"colorbar\":{\"outlinewidth\":0,\"ticks\":\"\"}}}],\"scatterternary\":[{\"type\":\"scatterternary\",\"marker\":{\"colorbar\":{\"outlinewidth\":0,\"ticks\":\"\"}}}],\"scattercarpet\":[{\"type\":\"scattercarpet\",\"marker\":{\"colorbar\":{\"outlinewidth\":0,\"ticks\":\"\"}}}],\"carpet\":[{\"aaxis\":{\"endlinecolor\":\"#2a3f5f\",\"gridcolor\":\"white\",\"linecolor\":\"white\",\"minorgridcolor\":\"white\",\"startlinecolor\":\"#2a3f5f\"},\"baxis\":{\"endlinecolor\":\"#2a3f5f\",\"gridcolor\":\"white\",\"linecolor\":\"white\",\"minorgridcolor\":\"white\",\"startlinecolor\":\"#2a3f5f\"},\"type\":\"carpet\"}],\"table\":[{\"cells\":{\"fill\":{\"color\":\"#EBF0F8\"},\"line\":{\"color\":\"white\"}},\"header\":{\"fill\":{\"color\":\"#C8D4E3\"},\"line\":{\"color\":\"white\"}},\"type\":\"table\"}],\"barpolar\":[{\"marker\":{\"line\":{\"color\":\"#E5ECF6\",\"width\":0.5},\"pattern\":{\"fillmode\":\"overlay\",\"size\":10,\"solidity\":0.2}},\"type\":\"barpolar\"}],\"pie\":[{\"automargin\":true,\"type\":\"pie\"}]},\"layout\":{\"autotypenumbers\":\"strict\",\"colorway\":[\"#636efa\",\"#EF553B\",\"#00cc96\",\"#ab63fa\",\"#FFA15A\",\"#19d3f3\",\"#FF6692\",\"#B6E880\",\"#FF97FF\",\"#FECB52\"],\"font\":{\"color\":\"#2a3f5f\"},\"hovermode\":\"closest\",\"hoverlabel\":{\"align\":\"left\"},\"paper_bgcolor\":\"white\",\"plot_bgcolor\":\"#E5ECF6\",\"polar\":{\"bgcolor\":\"#E5ECF6\",\"angularaxis\":{\"gridcolor\":\"white\",\"linecolor\":\"white\",\"ticks\":\"\"},\"radialaxis\":{\"gridcolor\":\"white\",\"linecolor\":\"white\",\"ticks\":\"\"}},\"ternary\":{\"bgcolor\":\"#E5ECF6\",\"aaxis\":{\"gridcolor\":\"white\",\"linecolor\":\"white\",\"ticks\":\"\"},\"baxis\":{\"gridcolor\":\"white\",\"linecolor\":\"white\",\"ticks\":\"\"},\"caxis\":{\"gridcolor\":\"white\",\"linecolor\":\"white\",\"ticks\":\"\"}},\"coloraxis\":{\"colorbar\":{\"outlinewidth\":0,\"ticks\":\"\"}},\"colorscale\":{\"sequential\":[[0.0,\"#0d0887\"],[0.1111111111111111,\"#46039f\"],[0.2222222222222222,\"#7201a8\"],[0.3333333333333333,\"#9c179e\"],[0.4444444444444444,\"#bd3786\"],[0.5555555555555556,\"#d8576b\"],[0.6666666666666666,\"#ed7953\"],[0.7777777777777778,\"#fb9f3a\"],[0.8888888888888888,\"#fdca26\"],[1.0,\"#f0f921\"]],\"sequentialminus\":[[0.0,\"#0d0887\"],[0.1111111111111111,\"#46039f\"],[0.2222222222222222,\"#7201a8\"],[0.3333333333333333,\"#9c179e\"],[0.4444444444444444,\"#bd3786\"],[0.5555555555555556,\"#d8576b\"],[0.6666666666666666,\"#ed7953\"],[0.7777777777777778,\"#fb9f3a\"],[0.8888888888888888,\"#fdca26\"],[1.0,\"#f0f921\"]],\"diverging\":[[0,\"#8e0152\"],[0.1,\"#c51b7d\"],[0.2,\"#de77ae\"],[0.3,\"#f1b6da\"],[0.4,\"#fde0ef\"],[0.5,\"#f7f7f7\"],[0.6,\"#e6f5d0\"],[0.7,\"#b8e186\"],[0.8,\"#7fbc41\"],[0.9,\"#4d9221\"],[1,\"#276419\"]]},\"xaxis\":{\"gridcolor\":\"white\",\"linecolor\":\"white\",\"ticks\":\"\",\"title\":{\"standoff\":15},\"zerolinecolor\":\"white\",\"automargin\":true,\"zerolinewidth\":2},\"yaxis\":{\"gridcolor\":\"white\",\"linecolor\":\"white\",\"ticks\":\"\",\"title\":{\"standoff\":15},\"zerolinecolor\":\"white\",\"automargin\":true,\"zerolinewidth\":2},\"scene\":{\"xaxis\":{\"backgroundcolor\":\"#E5ECF6\",\"gridcolor\":\"white\",\"linecolor\":\"white\",\"showbackground\":true,\"ticks\":\"\",\"zerolinecolor\":\"white\",\"gridwidth\":2},\"yaxis\":{\"backgroundcolor\":\"#E5ECF6\",\"gridcolor\":\"white\",\"linecolor\":\"white\",\"showbackground\":true,\"ticks\":\"\",\"zerolinecolor\":\"white\",\"gridwidth\":2},\"zaxis\":{\"backgroundcolor\":\"#E5ECF6\",\"gridcolor\":\"white\",\"linecolor\":\"white\",\"showbackground\":true,\"ticks\":\"\",\"zerolinecolor\":\"white\",\"gridwidth\":2}},\"shapedefaults\":{\"line\":{\"color\":\"#2a3f5f\"}},\"annotationdefaults\":{\"arrowcolor\":\"#2a3f5f\",\"arrowhead\":0,\"arrowwidth\":1},\"geo\":{\"bgcolor\":\"white\",\"landcolor\":\"#E5ECF6\",\"subunitcolor\":\"white\",\"showland\":true,\"showlakes\":true,\"lakecolor\":\"white\"},\"title\":{\"x\":0.05},\"mapbox\":{\"style\":\"light\"}}},\"scene\":{\"xaxis\":{\"title\":{\"text\":\"Manager\"}},\"yaxis\":{\"title\":{\"text\":\"Cartellini gialli\"}},\"zaxis\":{\"title\":{\"text\":\"Cartellini rossi\"}}},\"width\":800,\"height\":600},                        {\"responsive\": true}                    ).then(function(){\n",
              "                            \n",
              "var gd = document.getElementById('b4e09811-9879-4b78-88d2-646a51a11aa4');\n",
              "var x = new MutationObserver(function (mutations, observer) {{\n",
              "        var display = window.getComputedStyle(gd).display;\n",
              "        if (!display || display === 'none') {{\n",
              "            console.log([gd, 'removed!']);\n",
              "            Plotly.purge(gd);\n",
              "            observer.disconnect();\n",
              "        }}\n",
              "}});\n",
              "\n",
              "// Listen for the removal of the full notebook cells\n",
              "var notebookContainer = gd.closest('#notebook-container');\n",
              "if (notebookContainer) {{\n",
              "    x.observe(notebookContainer, {childList: true});\n",
              "}}\n",
              "\n",
              "// Listen for the clearing of the current output cell\n",
              "var outputEl = gd.closest('.output');\n",
              "if (outputEl) {{\n",
              "    x.observe(outputEl, {childList: true});\n",
              "}}\n",
              "\n",
              "                        })                };                            </script>        </div>\n",
              "</body>\n",
              "</html>"
            ]
          },
          "metadata": {}
        }
      ],
      "source": [
        "# Creazione del DataFrame 'subquery'\n",
        "subquery_df = dfs[\"club_games\"].join(dfs[\"appearances\"], \"game_id\") \\\n",
        "    .join(dfs[\"games\"], \"game_id\") \\\n",
        "    .select(\n",
        "        \"own_manager_name\",\n",
        "        when(col(\"red_cards\") == 1, 1).otherwise(0).alias(\"red_cards\"),\n",
        "        when(col(\"yellow_cards\") == 1, 1).otherwise(0).alias(\"yellow_cards\"),\n",
        "        col(\"game_id\").alias(\"num_partite\")\n",
        "    ) \\\n",
        "    .filter((col(\"own_manager_name\").isNotNull()) & (col(\"season\") >= 2020)) \\\n",
        "    .withColumn(\"num_partite\", when((col(\"red_cards\") == 0) & (col(\"yellow_cards\") == 0), col(\"num_partite\")).otherwise(0))\n",
        "\n",
        "# Creazione del DataFrame principale con UNION ALL\n",
        "main_df = subquery_df.select(\"*\").unionAll(\n",
        "    subquery_df.select(\n",
        "        \"own_manager_name\",\n",
        "        col(\"red_cards\"),\n",
        "        col(\"yellow_cards\"),\n",
        "        col(\"num_partite\")\n",
        "    ).filter(col(\"yellow_cards\") == 1)\n",
        ").unionAll(\n",
        "    subquery_df.select(\n",
        "        \"own_manager_name\",\n",
        "        col(\"red_cards\"),\n",
        "        col(\"yellow_cards\"),\n",
        "        col(\"num_partite\")\n",
        "    ).filter((col(\"red_cards\") == 0) & (col(\"yellow_cards\") == 0))\n",
        ")\n",
        "\n",
        "# Calcolo dei totali e dei punti totali (1pnt cartellino rosso, 0.5pnt cartellino giallo)\n",
        "# Maggiore è il punteggio, più l'allenatore ha un gioco \"aggressivo\"\n",
        "result_df = main_df.groupBy(\"own_manager_name\").agg(\n",
        "    sum(\"red_cards\").alias(\"num_red\"),\n",
        "    sum(\"yellow_cards\").alias(\"num_yellow\"),\n",
        "    (sum(\"red_cards\") + sum(\"yellow_cards\") * 0.5).alias(\"total_points\"),\n",
        "    count(\"num_partite\").alias(\"num_partite_tot\")\n",
        ").filter(col(\"num_partite_tot\") >= 500)\n",
        "\n",
        "# Calcolo di points_cards4match e ordinamento\n",
        "result_df = result_df.withColumn(\"points_cards4match\", round(col(\"total_points\") / col(\"num_partite_tot\"), 3)) \\\n",
        "    .orderBy(col(\"points_cards4match\").desc()) \\\n",
        "    .withColumnRenamed(\"own_manager_name\", \"manager\") \\\n",
        "\n",
        "result_df.show(10)\n",
        "\n",
        "\n",
        "# Estrai i dati dal DataFrame\n",
        "managers = result_df.select(\"manager\").rdd.flatMap(lambda x: x).collect()\n",
        "points_cards4match = result_df.select(\"points_cards4match\").rdd.flatMap(lambda x: x).collect()\n",
        "\n",
        "# Creazione del grafico a barre utilizzando Plotly\n",
        "fig = go.Figure(go.Bar(\n",
        "    x=managers[:10],\n",
        "    y=points_cards4match[:10],\n",
        "    marker_color='skyblue'\n",
        "))\n",
        "\n",
        "fig.update_layout(\n",
        "    title='Allenatori con il piu alto tasso di cartellini',\n",
        "    xaxis=dict(title='Manager'),\n",
        "    yaxis=dict(title='Points cards 4 match')\n",
        ")\n",
        "\n",
        "fig.show()\n",
        "\n",
        "num_yellow = result_df.select(\"num_yellow\").rdd.flatMap(lambda x: x).collect()\n",
        "num_red = result_df.select(\"num_red\").rdd.flatMap(lambda x: x).collect()\n",
        "# Creazione del grafico 3D utilizzando Plotly\n",
        "fig2 = go.Figure(data=[go.Scatter3d(\n",
        "    x=managers[:5],\n",
        "    y=num_yellow[:5],\n",
        "    z=num_red[:5],\n",
        "    mode='markers',\n",
        "    marker=dict(\n",
        "        size=8,\n",
        "        color='blue',\n",
        "        opacity=0.5\n",
        "    )\n",
        ")])\n",
        "\n",
        "\n",
        "fig2.update_layout(\n",
        "    scene=dict(\n",
        "        xaxis=dict(title='Manager'),\n",
        "        yaxis=dict(title='Cartellini gialli'),\n",
        "        zaxis=dict(title='Cartellini rossi')\n",
        "    ),\n",
        "    width=800,  # Imposta la larghezza del grafico\n",
        "    height=600  # Imposta l'altezza del grafico\n",
        ")\n",
        "\n",
        "fig2.show()\n"
      ]
    },
    {
      "cell_type": "markdown",
      "metadata": {
        "id": "vM0OA9jGUyEh"
      },
      "source": [
        "# 4. **MODULI**"
      ]
    },
    {
      "cell_type": "markdown",
      "metadata": {
        "id": "9U4TApnIY3IO"
      },
      "source": [
        "4.1 **Moduli con il maggior numero di goal effettuati su partite giocate**"
      ]
    },
    {
      "cell_type": "code",
      "execution_count": null,
      "metadata": {
        "colab": {
          "base_uri": "https://localhost:8080/",
          "height": 733
        },
        "id": "ZqHHLutJU_so",
        "outputId": "62a7941a-5645-4c1b-bf9a-044c6a2a18aa"
      },
      "outputs": [
        {
          "output_type": "stream",
          "name": "stdout",
          "text": [
            "+---------------+---------+---------+---------------+\n",
            "|      formation|goals_tot|num_games|goals_for_match|\n",
            "+---------------+---------+---------+---------------+\n",
            "|        4-1-3-2|      702|      386|          1.819|\n",
            "|          4-2-4|      332|      188|          1.766|\n",
            "|          5-2-3|      278|      167|          1.665|\n",
            "|4-3-3 Defending|    11219|     6923|          1.621|\n",
            "|          4-3-3|     1221|      767|          1.592|\n",
            "+---------------+---------+---------+---------------+\n",
            "only showing top 5 rows\n",
            "\n"
          ]
        },
        {
          "output_type": "display_data",
          "data": {
            "text/html": [
              "<html>\n",
              "<head><meta charset=\"utf-8\" /></head>\n",
              "<body>\n",
              "    <div>            <script src=\"https://cdnjs.cloudflare.com/ajax/libs/mathjax/2.7.5/MathJax.js?config=TeX-AMS-MML_SVG\"></script><script type=\"text/javascript\">if (window.MathJax && window.MathJax.Hub && window.MathJax.Hub.Config) {window.MathJax.Hub.Config({SVG: {font: \"STIX-Web\"}});}</script>                <script type=\"text/javascript\">window.PlotlyConfig = {MathJaxConfig: 'local'};</script>\n",
              "        <script charset=\"utf-8\" src=\"https://cdn.plot.ly/plotly-2.24.1.min.js\"></script>                <div id=\"7e06907e-54a1-409b-9d9f-58a582201cd7\" class=\"plotly-graph-div\" style=\"height:525px; width:100%;\"></div>            <script type=\"text/javascript\">                                    window.PLOTLYENV=window.PLOTLYENV || {};                                    if (document.getElementById(\"7e06907e-54a1-409b-9d9f-58a582201cd7\")) {                    Plotly.newPlot(                        \"7e06907e-54a1-409b-9d9f-58a582201cd7\",                        [{\"marker\":{\"color\":\"skyblue\"},\"x\":[\"4-1-3-2\",\"4-2-4\",\"5-2-3\",\"4-3-3 Defending\",\"4-3-3\"],\"y\":[1.819,1.766,1.665,1.621,1.592],\"type\":\"bar\"}],                        {\"template\":{\"data\":{\"histogram2dcontour\":[{\"type\":\"histogram2dcontour\",\"colorbar\":{\"outlinewidth\":0,\"ticks\":\"\"},\"colorscale\":[[0.0,\"#0d0887\"],[0.1111111111111111,\"#46039f\"],[0.2222222222222222,\"#7201a8\"],[0.3333333333333333,\"#9c179e\"],[0.4444444444444444,\"#bd3786\"],[0.5555555555555556,\"#d8576b\"],[0.6666666666666666,\"#ed7953\"],[0.7777777777777778,\"#fb9f3a\"],[0.8888888888888888,\"#fdca26\"],[1.0,\"#f0f921\"]]}],\"choropleth\":[{\"type\":\"choropleth\",\"colorbar\":{\"outlinewidth\":0,\"ticks\":\"\"}}],\"histogram2d\":[{\"type\":\"histogram2d\",\"colorbar\":{\"outlinewidth\":0,\"ticks\":\"\"},\"colorscale\":[[0.0,\"#0d0887\"],[0.1111111111111111,\"#46039f\"],[0.2222222222222222,\"#7201a8\"],[0.3333333333333333,\"#9c179e\"],[0.4444444444444444,\"#bd3786\"],[0.5555555555555556,\"#d8576b\"],[0.6666666666666666,\"#ed7953\"],[0.7777777777777778,\"#fb9f3a\"],[0.8888888888888888,\"#fdca26\"],[1.0,\"#f0f921\"]]}],\"heatmap\":[{\"type\":\"heatmap\",\"colorbar\":{\"outlinewidth\":0,\"ticks\":\"\"},\"colorscale\":[[0.0,\"#0d0887\"],[0.1111111111111111,\"#46039f\"],[0.2222222222222222,\"#7201a8\"],[0.3333333333333333,\"#9c179e\"],[0.4444444444444444,\"#bd3786\"],[0.5555555555555556,\"#d8576b\"],[0.6666666666666666,\"#ed7953\"],[0.7777777777777778,\"#fb9f3a\"],[0.8888888888888888,\"#fdca26\"],[1.0,\"#f0f921\"]]}],\"heatmapgl\":[{\"type\":\"heatmapgl\",\"colorbar\":{\"outlinewidth\":0,\"ticks\":\"\"},\"colorscale\":[[0.0,\"#0d0887\"],[0.1111111111111111,\"#46039f\"],[0.2222222222222222,\"#7201a8\"],[0.3333333333333333,\"#9c179e\"],[0.4444444444444444,\"#bd3786\"],[0.5555555555555556,\"#d8576b\"],[0.6666666666666666,\"#ed7953\"],[0.7777777777777778,\"#fb9f3a\"],[0.8888888888888888,\"#fdca26\"],[1.0,\"#f0f921\"]]}],\"contourcarpet\":[{\"type\":\"contourcarpet\",\"colorbar\":{\"outlinewidth\":0,\"ticks\":\"\"}}],\"contour\":[{\"type\":\"contour\",\"colorbar\":{\"outlinewidth\":0,\"ticks\":\"\"},\"colorscale\":[[0.0,\"#0d0887\"],[0.1111111111111111,\"#46039f\"],[0.2222222222222222,\"#7201a8\"],[0.3333333333333333,\"#9c179e\"],[0.4444444444444444,\"#bd3786\"],[0.5555555555555556,\"#d8576b\"],[0.6666666666666666,\"#ed7953\"],[0.7777777777777778,\"#fb9f3a\"],[0.8888888888888888,\"#fdca26\"],[1.0,\"#f0f921\"]]}],\"surface\":[{\"type\":\"surface\",\"colorbar\":{\"outlinewidth\":0,\"ticks\":\"\"},\"colorscale\":[[0.0,\"#0d0887\"],[0.1111111111111111,\"#46039f\"],[0.2222222222222222,\"#7201a8\"],[0.3333333333333333,\"#9c179e\"],[0.4444444444444444,\"#bd3786\"],[0.5555555555555556,\"#d8576b\"],[0.6666666666666666,\"#ed7953\"],[0.7777777777777778,\"#fb9f3a\"],[0.8888888888888888,\"#fdca26\"],[1.0,\"#f0f921\"]]}],\"mesh3d\":[{\"type\":\"mesh3d\",\"colorbar\":{\"outlinewidth\":0,\"ticks\":\"\"}}],\"scatter\":[{\"fillpattern\":{\"fillmode\":\"overlay\",\"size\":10,\"solidity\":0.2},\"type\":\"scatter\"}],\"parcoords\":[{\"type\":\"parcoords\",\"line\":{\"colorbar\":{\"outlinewidth\":0,\"ticks\":\"\"}}}],\"scatterpolargl\":[{\"type\":\"scatterpolargl\",\"marker\":{\"colorbar\":{\"outlinewidth\":0,\"ticks\":\"\"}}}],\"bar\":[{\"error_x\":{\"color\":\"#2a3f5f\"},\"error_y\":{\"color\":\"#2a3f5f\"},\"marker\":{\"line\":{\"color\":\"#E5ECF6\",\"width\":0.5},\"pattern\":{\"fillmode\":\"overlay\",\"size\":10,\"solidity\":0.2}},\"type\":\"bar\"}],\"scattergeo\":[{\"type\":\"scattergeo\",\"marker\":{\"colorbar\":{\"outlinewidth\":0,\"ticks\":\"\"}}}],\"scatterpolar\":[{\"type\":\"scatterpolar\",\"marker\":{\"colorbar\":{\"outlinewidth\":0,\"ticks\":\"\"}}}],\"histogram\":[{\"marker\":{\"pattern\":{\"fillmode\":\"overlay\",\"size\":10,\"solidity\":0.2}},\"type\":\"histogram\"}],\"scattergl\":[{\"type\":\"scattergl\",\"marker\":{\"colorbar\":{\"outlinewidth\":0,\"ticks\":\"\"}}}],\"scatter3d\":[{\"type\":\"scatter3d\",\"line\":{\"colorbar\":{\"outlinewidth\":0,\"ticks\":\"\"}},\"marker\":{\"colorbar\":{\"outlinewidth\":0,\"ticks\":\"\"}}}],\"scattermapbox\":[{\"type\":\"scattermapbox\",\"marker\":{\"colorbar\":{\"outlinewidth\":0,\"ticks\":\"\"}}}],\"scatterternary\":[{\"type\":\"scatterternary\",\"marker\":{\"colorbar\":{\"outlinewidth\":0,\"ticks\":\"\"}}}],\"scattercarpet\":[{\"type\":\"scattercarpet\",\"marker\":{\"colorbar\":{\"outlinewidth\":0,\"ticks\":\"\"}}}],\"carpet\":[{\"aaxis\":{\"endlinecolor\":\"#2a3f5f\",\"gridcolor\":\"white\",\"linecolor\":\"white\",\"minorgridcolor\":\"white\",\"startlinecolor\":\"#2a3f5f\"},\"baxis\":{\"endlinecolor\":\"#2a3f5f\",\"gridcolor\":\"white\",\"linecolor\":\"white\",\"minorgridcolor\":\"white\",\"startlinecolor\":\"#2a3f5f\"},\"type\":\"carpet\"}],\"table\":[{\"cells\":{\"fill\":{\"color\":\"#EBF0F8\"},\"line\":{\"color\":\"white\"}},\"header\":{\"fill\":{\"color\":\"#C8D4E3\"},\"line\":{\"color\":\"white\"}},\"type\":\"table\"}],\"barpolar\":[{\"marker\":{\"line\":{\"color\":\"#E5ECF6\",\"width\":0.5},\"pattern\":{\"fillmode\":\"overlay\",\"size\":10,\"solidity\":0.2}},\"type\":\"barpolar\"}],\"pie\":[{\"automargin\":true,\"type\":\"pie\"}]},\"layout\":{\"autotypenumbers\":\"strict\",\"colorway\":[\"#636efa\",\"#EF553B\",\"#00cc96\",\"#ab63fa\",\"#FFA15A\",\"#19d3f3\",\"#FF6692\",\"#B6E880\",\"#FF97FF\",\"#FECB52\"],\"font\":{\"color\":\"#2a3f5f\"},\"hovermode\":\"closest\",\"hoverlabel\":{\"align\":\"left\"},\"paper_bgcolor\":\"white\",\"plot_bgcolor\":\"#E5ECF6\",\"polar\":{\"bgcolor\":\"#E5ECF6\",\"angularaxis\":{\"gridcolor\":\"white\",\"linecolor\":\"white\",\"ticks\":\"\"},\"radialaxis\":{\"gridcolor\":\"white\",\"linecolor\":\"white\",\"ticks\":\"\"}},\"ternary\":{\"bgcolor\":\"#E5ECF6\",\"aaxis\":{\"gridcolor\":\"white\",\"linecolor\":\"white\",\"ticks\":\"\"},\"baxis\":{\"gridcolor\":\"white\",\"linecolor\":\"white\",\"ticks\":\"\"},\"caxis\":{\"gridcolor\":\"white\",\"linecolor\":\"white\",\"ticks\":\"\"}},\"coloraxis\":{\"colorbar\":{\"outlinewidth\":0,\"ticks\":\"\"}},\"colorscale\":{\"sequential\":[[0.0,\"#0d0887\"],[0.1111111111111111,\"#46039f\"],[0.2222222222222222,\"#7201a8\"],[0.3333333333333333,\"#9c179e\"],[0.4444444444444444,\"#bd3786\"],[0.5555555555555556,\"#d8576b\"],[0.6666666666666666,\"#ed7953\"],[0.7777777777777778,\"#fb9f3a\"],[0.8888888888888888,\"#fdca26\"],[1.0,\"#f0f921\"]],\"sequentialminus\":[[0.0,\"#0d0887\"],[0.1111111111111111,\"#46039f\"],[0.2222222222222222,\"#7201a8\"],[0.3333333333333333,\"#9c179e\"],[0.4444444444444444,\"#bd3786\"],[0.5555555555555556,\"#d8576b\"],[0.6666666666666666,\"#ed7953\"],[0.7777777777777778,\"#fb9f3a\"],[0.8888888888888888,\"#fdca26\"],[1.0,\"#f0f921\"]],\"diverging\":[[0,\"#8e0152\"],[0.1,\"#c51b7d\"],[0.2,\"#de77ae\"],[0.3,\"#f1b6da\"],[0.4,\"#fde0ef\"],[0.5,\"#f7f7f7\"],[0.6,\"#e6f5d0\"],[0.7,\"#b8e186\"],[0.8,\"#7fbc41\"],[0.9,\"#4d9221\"],[1,\"#276419\"]]},\"xaxis\":{\"gridcolor\":\"white\",\"linecolor\":\"white\",\"ticks\":\"\",\"title\":{\"standoff\":15},\"zerolinecolor\":\"white\",\"automargin\":true,\"zerolinewidth\":2},\"yaxis\":{\"gridcolor\":\"white\",\"linecolor\":\"white\",\"ticks\":\"\",\"title\":{\"standoff\":15},\"zerolinecolor\":\"white\",\"automargin\":true,\"zerolinewidth\":2},\"scene\":{\"xaxis\":{\"backgroundcolor\":\"#E5ECF6\",\"gridcolor\":\"white\",\"linecolor\":\"white\",\"showbackground\":true,\"ticks\":\"\",\"zerolinecolor\":\"white\",\"gridwidth\":2},\"yaxis\":{\"backgroundcolor\":\"#E5ECF6\",\"gridcolor\":\"white\",\"linecolor\":\"white\",\"showbackground\":true,\"ticks\":\"\",\"zerolinecolor\":\"white\",\"gridwidth\":2},\"zaxis\":{\"backgroundcolor\":\"#E5ECF6\",\"gridcolor\":\"white\",\"linecolor\":\"white\",\"showbackground\":true,\"ticks\":\"\",\"zerolinecolor\":\"white\",\"gridwidth\":2}},\"shapedefaults\":{\"line\":{\"color\":\"#2a3f5f\"}},\"annotationdefaults\":{\"arrowcolor\":\"#2a3f5f\",\"arrowhead\":0,\"arrowwidth\":1},\"geo\":{\"bgcolor\":\"white\",\"landcolor\":\"#E5ECF6\",\"subunitcolor\":\"white\",\"showland\":true,\"showlakes\":true,\"lakecolor\":\"white\"},\"title\":{\"x\":0.05},\"mapbox\":{\"style\":\"light\"}}},\"title\":{\"text\":\"Moduli con il maggior numero di goal fatti per partita\"},\"xaxis\":{\"title\":{\"text\":\"Formation\"}},\"yaxis\":{\"title\":{\"text\":\"Goals for match\"}}},                        {\"responsive\": true}                    ).then(function(){\n",
              "                            \n",
              "var gd = document.getElementById('7e06907e-54a1-409b-9d9f-58a582201cd7');\n",
              "var x = new MutationObserver(function (mutations, observer) {{\n",
              "        var display = window.getComputedStyle(gd).display;\n",
              "        if (!display || display === 'none') {{\n",
              "            console.log([gd, 'removed!']);\n",
              "            Plotly.purge(gd);\n",
              "            observer.disconnect();\n",
              "        }}\n",
              "}});\n",
              "\n",
              "// Listen for the removal of the full notebook cells\n",
              "var notebookContainer = gd.closest('#notebook-container');\n",
              "if (notebookContainer) {{\n",
              "    x.observe(notebookContainer, {childList: true});\n",
              "}}\n",
              "\n",
              "// Listen for the clearing of the current output cell\n",
              "var outputEl = gd.closest('.output');\n",
              "if (outputEl) {{\n",
              "    x.observe(outputEl, {childList: true});\n",
              "}}\n",
              "\n",
              "                        })                };                            </script>        </div>\n",
              "</body>\n",
              "</html>"
            ]
          },
          "metadata": {}
        }
      ],
      "source": [
        "# Calcolo delle statistiche per la squadra di casa\n",
        "home_df = dfs['games'].filter(col(\"home_club_formation\").isNotNull()) \\\n",
        "    .groupBy(\"home_club_formation\") \\\n",
        "    .agg({\"home_club_goals\": \"sum\", \"game_id\": \"count\"}) \\\n",
        "    .withColumnRenamed(\"sum(home_club_goals)\", \"home_goals\") \\\n",
        "    .withColumnRenamed(\"count(game_id)\", \"num_game_home\") \\\n",
        "    .select(col(\"home_club_formation\").alias(\"formation\"), \"home_goals\", \"num_game_home\")\n",
        "\n",
        "# Calcolo delle statistiche per la squadra in trasferta\n",
        "away_df = dfs['games'].filter(col(\"away_club_formation\").isNotNull()) \\\n",
        "    .groupBy(\"away_club_formation\") \\\n",
        "    .agg({\"away_club_goals\": \"sum\", \"game_id\": \"count\"}) \\\n",
        "    .withColumnRenamed(\"sum(away_club_goals)\", \"away_goals\") \\\n",
        "    .withColumnRenamed(\"count(game_id)\", \"num_game_away\") \\\n",
        "    .select(col(\"away_club_formation\").alias(\"formation\"), \"away_goals\", \"num_game_away\")\n",
        "\n",
        "# Unione dei due DataFrame sul campo \"formation\"\n",
        "joined_df = home_df.join(away_df, \"formation\", \"left\")\n",
        "\n",
        "# Calcolo delle statistiche finali e filtro\n",
        "result_df = joined_df.filter((col(\"num_game_home\") + col(\"num_game_away\")) >= 150) \\\n",
        "    .withColumn(\"goals_tot\", coalesce(col(\"home_goals\"), lit(0)) + coalesce(col(\"away_goals\"), lit(0))) \\\n",
        "    .withColumn(\"num_games\", coalesce(col(\"num_game_home\"), lit(0)) + coalesce(col(\"num_game_away\"), lit(0))) \\\n",
        "    .withColumn(\"goals_for_match\", round(col(\"goals_tot\") / col(\"num_games\"), 3)) \\\n",
        "    .orderBy(col(\"goals_for_match\").desc()) \\\n",
        "    .drop(\"home_goals\", \"num_game_home\", \"away_goals\", \"num_game_away\")\n",
        "\n",
        "result_df.show(5)\n",
        "\n",
        "# Estrai i dati dal DataFrame\n",
        "formation = result_df.select(\"formation\").rdd.flatMap(lambda x: x).collect()\n",
        "goals_for_match = result_df.select(\"goals_for_match\").rdd.flatMap(lambda x: x).collect()\n",
        "\n",
        "# Creazione del grafico a barre utilizzando Plotly\n",
        "fig = go.Figure(go.Bar(\n",
        "    x=formation[:5],\n",
        "    y=goals_for_match[:5],\n",
        "    marker_color='skyblue'\n",
        "))\n",
        "\n",
        "fig.update_layout(\n",
        "    title='Moduli con il maggior numero di goal fatti per partita',\n",
        "    xaxis=dict(title='Formation'),\n",
        "    yaxis=dict(title='Goals for match')\n",
        ")\n",
        "\n",
        "fig.show()\n"
      ]
    },
    {
      "cell_type": "markdown",
      "metadata": {
        "id": "N3-YOWyNZC1l"
      },
      "source": [
        "4.2 **Moduli che hanno subito il minor numero di goal su partite giocate**"
      ]
    },
    {
      "cell_type": "code",
      "execution_count": null,
      "metadata": {
        "colab": {
          "base_uri": "https://localhost:8080/",
          "height": 733
        },
        "id": "flwH1rl_ZSC-",
        "outputId": "25ab4944-18fd-4f23-ea9a-750ccef11065"
      },
      "outputs": [
        {
          "output_type": "stream",
          "name": "stdout",
          "text": [
            "+---------------+----------------+---------+------------------------+\n",
            "|      formation|goals_subiti_tot|num_games|goals_received_for_match|\n",
            "+---------------+----------------+---------+------------------------+\n",
            "|        4-1-3-2|             467|      386|                    1.21|\n",
            "|3-5-2 Attacking|            1054|      796|                   1.324|\n",
            "|4-3-3 Attacking|           25492|    18556|                   1.374|\n",
            "| 4-4-2 double 6|           17056|    12261|                   1.391|\n",
            "|        4-2-3-1|           53753|    38270|                   1.405|\n",
            "+---------------+----------------+---------+------------------------+\n",
            "only showing top 5 rows\n",
            "\n"
          ]
        },
        {
          "output_type": "display_data",
          "data": {
            "text/html": [
              "<html>\n",
              "<head><meta charset=\"utf-8\" /></head>\n",
              "<body>\n",
              "    <div>            <script src=\"https://cdnjs.cloudflare.com/ajax/libs/mathjax/2.7.5/MathJax.js?config=TeX-AMS-MML_SVG\"></script><script type=\"text/javascript\">if (window.MathJax && window.MathJax.Hub && window.MathJax.Hub.Config) {window.MathJax.Hub.Config({SVG: {font: \"STIX-Web\"}});}</script>                <script type=\"text/javascript\">window.PlotlyConfig = {MathJaxConfig: 'local'};</script>\n",
              "        <script charset=\"utf-8\" src=\"https://cdn.plot.ly/plotly-2.24.1.min.js\"></script>                <div id=\"3facc00e-6753-4757-8077-169952f216ec\" class=\"plotly-graph-div\" style=\"height:525px; width:100%;\"></div>            <script type=\"text/javascript\">                                    window.PLOTLYENV=window.PLOTLYENV || {};                                    if (document.getElementById(\"3facc00e-6753-4757-8077-169952f216ec\")) {                    Plotly.newPlot(                        \"3facc00e-6753-4757-8077-169952f216ec\",                        [{\"marker\":{\"color\":\"skyblue\"},\"x\":[\"4-1-3-2\",\"3-5-2 Attacking\",\"4-3-3 Attacking\",\"4-4-2 double 6\",\"4-2-3-1\"],\"y\":[1.21,1.324,1.374,1.391,1.405],\"type\":\"bar\"}],                        {\"template\":{\"data\":{\"histogram2dcontour\":[{\"type\":\"histogram2dcontour\",\"colorbar\":{\"outlinewidth\":0,\"ticks\":\"\"},\"colorscale\":[[0.0,\"#0d0887\"],[0.1111111111111111,\"#46039f\"],[0.2222222222222222,\"#7201a8\"],[0.3333333333333333,\"#9c179e\"],[0.4444444444444444,\"#bd3786\"],[0.5555555555555556,\"#d8576b\"],[0.6666666666666666,\"#ed7953\"],[0.7777777777777778,\"#fb9f3a\"],[0.8888888888888888,\"#fdca26\"],[1.0,\"#f0f921\"]]}],\"choropleth\":[{\"type\":\"choropleth\",\"colorbar\":{\"outlinewidth\":0,\"ticks\":\"\"}}],\"histogram2d\":[{\"type\":\"histogram2d\",\"colorbar\":{\"outlinewidth\":0,\"ticks\":\"\"},\"colorscale\":[[0.0,\"#0d0887\"],[0.1111111111111111,\"#46039f\"],[0.2222222222222222,\"#7201a8\"],[0.3333333333333333,\"#9c179e\"],[0.4444444444444444,\"#bd3786\"],[0.5555555555555556,\"#d8576b\"],[0.6666666666666666,\"#ed7953\"],[0.7777777777777778,\"#fb9f3a\"],[0.8888888888888888,\"#fdca26\"],[1.0,\"#f0f921\"]]}],\"heatmap\":[{\"type\":\"heatmap\",\"colorbar\":{\"outlinewidth\":0,\"ticks\":\"\"},\"colorscale\":[[0.0,\"#0d0887\"],[0.1111111111111111,\"#46039f\"],[0.2222222222222222,\"#7201a8\"],[0.3333333333333333,\"#9c179e\"],[0.4444444444444444,\"#bd3786\"],[0.5555555555555556,\"#d8576b\"],[0.6666666666666666,\"#ed7953\"],[0.7777777777777778,\"#fb9f3a\"],[0.8888888888888888,\"#fdca26\"],[1.0,\"#f0f921\"]]}],\"heatmapgl\":[{\"type\":\"heatmapgl\",\"colorbar\":{\"outlinewidth\":0,\"ticks\":\"\"},\"colorscale\":[[0.0,\"#0d0887\"],[0.1111111111111111,\"#46039f\"],[0.2222222222222222,\"#7201a8\"],[0.3333333333333333,\"#9c179e\"],[0.4444444444444444,\"#bd3786\"],[0.5555555555555556,\"#d8576b\"],[0.6666666666666666,\"#ed7953\"],[0.7777777777777778,\"#fb9f3a\"],[0.8888888888888888,\"#fdca26\"],[1.0,\"#f0f921\"]]}],\"contourcarpet\":[{\"type\":\"contourcarpet\",\"colorbar\":{\"outlinewidth\":0,\"ticks\":\"\"}}],\"contour\":[{\"type\":\"contour\",\"colorbar\":{\"outlinewidth\":0,\"ticks\":\"\"},\"colorscale\":[[0.0,\"#0d0887\"],[0.1111111111111111,\"#46039f\"],[0.2222222222222222,\"#7201a8\"],[0.3333333333333333,\"#9c179e\"],[0.4444444444444444,\"#bd3786\"],[0.5555555555555556,\"#d8576b\"],[0.6666666666666666,\"#ed7953\"],[0.7777777777777778,\"#fb9f3a\"],[0.8888888888888888,\"#fdca26\"],[1.0,\"#f0f921\"]]}],\"surface\":[{\"type\":\"surface\",\"colorbar\":{\"outlinewidth\":0,\"ticks\":\"\"},\"colorscale\":[[0.0,\"#0d0887\"],[0.1111111111111111,\"#46039f\"],[0.2222222222222222,\"#7201a8\"],[0.3333333333333333,\"#9c179e\"],[0.4444444444444444,\"#bd3786\"],[0.5555555555555556,\"#d8576b\"],[0.6666666666666666,\"#ed7953\"],[0.7777777777777778,\"#fb9f3a\"],[0.8888888888888888,\"#fdca26\"],[1.0,\"#f0f921\"]]}],\"mesh3d\":[{\"type\":\"mesh3d\",\"colorbar\":{\"outlinewidth\":0,\"ticks\":\"\"}}],\"scatter\":[{\"fillpattern\":{\"fillmode\":\"overlay\",\"size\":10,\"solidity\":0.2},\"type\":\"scatter\"}],\"parcoords\":[{\"type\":\"parcoords\",\"line\":{\"colorbar\":{\"outlinewidth\":0,\"ticks\":\"\"}}}],\"scatterpolargl\":[{\"type\":\"scatterpolargl\",\"marker\":{\"colorbar\":{\"outlinewidth\":0,\"ticks\":\"\"}}}],\"bar\":[{\"error_x\":{\"color\":\"#2a3f5f\"},\"error_y\":{\"color\":\"#2a3f5f\"},\"marker\":{\"line\":{\"color\":\"#E5ECF6\",\"width\":0.5},\"pattern\":{\"fillmode\":\"overlay\",\"size\":10,\"solidity\":0.2}},\"type\":\"bar\"}],\"scattergeo\":[{\"type\":\"scattergeo\",\"marker\":{\"colorbar\":{\"outlinewidth\":0,\"ticks\":\"\"}}}],\"scatterpolar\":[{\"type\":\"scatterpolar\",\"marker\":{\"colorbar\":{\"outlinewidth\":0,\"ticks\":\"\"}}}],\"histogram\":[{\"marker\":{\"pattern\":{\"fillmode\":\"overlay\",\"size\":10,\"solidity\":0.2}},\"type\":\"histogram\"}],\"scattergl\":[{\"type\":\"scattergl\",\"marker\":{\"colorbar\":{\"outlinewidth\":0,\"ticks\":\"\"}}}],\"scatter3d\":[{\"type\":\"scatter3d\",\"line\":{\"colorbar\":{\"outlinewidth\":0,\"ticks\":\"\"}},\"marker\":{\"colorbar\":{\"outlinewidth\":0,\"ticks\":\"\"}}}],\"scattermapbox\":[{\"type\":\"scattermapbox\",\"marker\":{\"colorbar\":{\"outlinewidth\":0,\"ticks\":\"\"}}}],\"scatterternary\":[{\"type\":\"scatterternary\",\"marker\":{\"colorbar\":{\"outlinewidth\":0,\"ticks\":\"\"}}}],\"scattercarpet\":[{\"type\":\"scattercarpet\",\"marker\":{\"colorbar\":{\"outlinewidth\":0,\"ticks\":\"\"}}}],\"carpet\":[{\"aaxis\":{\"endlinecolor\":\"#2a3f5f\",\"gridcolor\":\"white\",\"linecolor\":\"white\",\"minorgridcolor\":\"white\",\"startlinecolor\":\"#2a3f5f\"},\"baxis\":{\"endlinecolor\":\"#2a3f5f\",\"gridcolor\":\"white\",\"linecolor\":\"white\",\"minorgridcolor\":\"white\",\"startlinecolor\":\"#2a3f5f\"},\"type\":\"carpet\"}],\"table\":[{\"cells\":{\"fill\":{\"color\":\"#EBF0F8\"},\"line\":{\"color\":\"white\"}},\"header\":{\"fill\":{\"color\":\"#C8D4E3\"},\"line\":{\"color\":\"white\"}},\"type\":\"table\"}],\"barpolar\":[{\"marker\":{\"line\":{\"color\":\"#E5ECF6\",\"width\":0.5},\"pattern\":{\"fillmode\":\"overlay\",\"size\":10,\"solidity\":0.2}},\"type\":\"barpolar\"}],\"pie\":[{\"automargin\":true,\"type\":\"pie\"}]},\"layout\":{\"autotypenumbers\":\"strict\",\"colorway\":[\"#636efa\",\"#EF553B\",\"#00cc96\",\"#ab63fa\",\"#FFA15A\",\"#19d3f3\",\"#FF6692\",\"#B6E880\",\"#FF97FF\",\"#FECB52\"],\"font\":{\"color\":\"#2a3f5f\"},\"hovermode\":\"closest\",\"hoverlabel\":{\"align\":\"left\"},\"paper_bgcolor\":\"white\",\"plot_bgcolor\":\"#E5ECF6\",\"polar\":{\"bgcolor\":\"#E5ECF6\",\"angularaxis\":{\"gridcolor\":\"white\",\"linecolor\":\"white\",\"ticks\":\"\"},\"radialaxis\":{\"gridcolor\":\"white\",\"linecolor\":\"white\",\"ticks\":\"\"}},\"ternary\":{\"bgcolor\":\"#E5ECF6\",\"aaxis\":{\"gridcolor\":\"white\",\"linecolor\":\"white\",\"ticks\":\"\"},\"baxis\":{\"gridcolor\":\"white\",\"linecolor\":\"white\",\"ticks\":\"\"},\"caxis\":{\"gridcolor\":\"white\",\"linecolor\":\"white\",\"ticks\":\"\"}},\"coloraxis\":{\"colorbar\":{\"outlinewidth\":0,\"ticks\":\"\"}},\"colorscale\":{\"sequential\":[[0.0,\"#0d0887\"],[0.1111111111111111,\"#46039f\"],[0.2222222222222222,\"#7201a8\"],[0.3333333333333333,\"#9c179e\"],[0.4444444444444444,\"#bd3786\"],[0.5555555555555556,\"#d8576b\"],[0.6666666666666666,\"#ed7953\"],[0.7777777777777778,\"#fb9f3a\"],[0.8888888888888888,\"#fdca26\"],[1.0,\"#f0f921\"]],\"sequentialminus\":[[0.0,\"#0d0887\"],[0.1111111111111111,\"#46039f\"],[0.2222222222222222,\"#7201a8\"],[0.3333333333333333,\"#9c179e\"],[0.4444444444444444,\"#bd3786\"],[0.5555555555555556,\"#d8576b\"],[0.6666666666666666,\"#ed7953\"],[0.7777777777777778,\"#fb9f3a\"],[0.8888888888888888,\"#fdca26\"],[1.0,\"#f0f921\"]],\"diverging\":[[0,\"#8e0152\"],[0.1,\"#c51b7d\"],[0.2,\"#de77ae\"],[0.3,\"#f1b6da\"],[0.4,\"#fde0ef\"],[0.5,\"#f7f7f7\"],[0.6,\"#e6f5d0\"],[0.7,\"#b8e186\"],[0.8,\"#7fbc41\"],[0.9,\"#4d9221\"],[1,\"#276419\"]]},\"xaxis\":{\"gridcolor\":\"white\",\"linecolor\":\"white\",\"ticks\":\"\",\"title\":{\"standoff\":15},\"zerolinecolor\":\"white\",\"automargin\":true,\"zerolinewidth\":2},\"yaxis\":{\"gridcolor\":\"white\",\"linecolor\":\"white\",\"ticks\":\"\",\"title\":{\"standoff\":15},\"zerolinecolor\":\"white\",\"automargin\":true,\"zerolinewidth\":2},\"scene\":{\"xaxis\":{\"backgroundcolor\":\"#E5ECF6\",\"gridcolor\":\"white\",\"linecolor\":\"white\",\"showbackground\":true,\"ticks\":\"\",\"zerolinecolor\":\"white\",\"gridwidth\":2},\"yaxis\":{\"backgroundcolor\":\"#E5ECF6\",\"gridcolor\":\"white\",\"linecolor\":\"white\",\"showbackground\":true,\"ticks\":\"\",\"zerolinecolor\":\"white\",\"gridwidth\":2},\"zaxis\":{\"backgroundcolor\":\"#E5ECF6\",\"gridcolor\":\"white\",\"linecolor\":\"white\",\"showbackground\":true,\"ticks\":\"\",\"zerolinecolor\":\"white\",\"gridwidth\":2}},\"shapedefaults\":{\"line\":{\"color\":\"#2a3f5f\"}},\"annotationdefaults\":{\"arrowcolor\":\"#2a3f5f\",\"arrowhead\":0,\"arrowwidth\":1},\"geo\":{\"bgcolor\":\"white\",\"landcolor\":\"#E5ECF6\",\"subunitcolor\":\"white\",\"showland\":true,\"showlakes\":true,\"lakecolor\":\"white\"},\"title\":{\"x\":0.05},\"mapbox\":{\"style\":\"light\"}}},\"title\":{\"text\":\"Moduli con il minor numero di goal subiti per partita\"},\"xaxis\":{\"title\":{\"text\":\"Formation\"}},\"yaxis\":{\"title\":{\"text\":\"Goals recived for match\"}}},                        {\"responsive\": true}                    ).then(function(){\n",
              "                            \n",
              "var gd = document.getElementById('3facc00e-6753-4757-8077-169952f216ec');\n",
              "var x = new MutationObserver(function (mutations, observer) {{\n",
              "        var display = window.getComputedStyle(gd).display;\n",
              "        if (!display || display === 'none') {{\n",
              "            console.log([gd, 'removed!']);\n",
              "            Plotly.purge(gd);\n",
              "            observer.disconnect();\n",
              "        }}\n",
              "}});\n",
              "\n",
              "// Listen for the removal of the full notebook cells\n",
              "var notebookContainer = gd.closest('#notebook-container');\n",
              "if (notebookContainer) {{\n",
              "    x.observe(notebookContainer, {childList: true});\n",
              "}}\n",
              "\n",
              "// Listen for the clearing of the current output cell\n",
              "var outputEl = gd.closest('.output');\n",
              "if (outputEl) {{\n",
              "    x.observe(outputEl, {childList: true});\n",
              "}}\n",
              "\n",
              "                        })                };                            </script>        </div>\n",
              "</body>\n",
              "</html>"
            ]
          },
          "metadata": {}
        }
      ],
      "source": [
        "# Calcolo delle statistiche per la squadra di casa\n",
        "home_df = dfs['games'].filter(col(\"home_club_formation\").isNotNull()) \\\n",
        "    .groupBy(\"home_club_formation\") \\\n",
        "    .agg({\"away_club_goals\": \"sum\", \"game_id\": \"count\"}) \\\n",
        "    .withColumnRenamed(\"sum(away_club_goals)\", \"goals_subiti_home\") \\\n",
        "    .withColumnRenamed(\"count(game_id)\", \"num_game_home\") \\\n",
        "    .select(col(\"home_club_formation\").alias(\"formation\"), \"goals_subiti_home\", \"num_game_home\")\n",
        "\n",
        "# Calcolo delle statistiche per la squadra in trasferta\n",
        "away_df =  dfs['games'].filter(col(\"away_club_formation\").isNotNull()) \\\n",
        "    .groupBy(\"away_club_formation\") \\\n",
        "    .agg({\"home_club_goals\": \"sum\", \"game_id\": \"count\"}) \\\n",
        "    .withColumnRenamed(\"sum(home_club_goals)\", \"goals_subiti_away\") \\\n",
        "    .withColumnRenamed(\"count(game_id)\", \"num_game_away\") \\\n",
        "    .select(col(\"away_club_formation\").alias(\"formation\"), \"goals_subiti_away\", \"num_game_away\")\n",
        "\n",
        "# Unione dei due DataFrame sul campo \"formation\"\n",
        "joined_df = home_df.join(away_df, \"formation\", \"left\")\n",
        "\n",
        "# Calcolo delle statistiche finali e filtro\n",
        "result_df = joined_df.filter((col(\"num_game_home\") + col(\"num_game_away\")) >= 150) \\\n",
        "    .withColumn(\"goals_subiti_tot\", coalesce(col(\"goals_subiti_home\"), lit(0)) + coalesce(col(\"goals_subiti_away\"), lit(0))) \\\n",
        "    .withColumn(\"num_games\", coalesce(col(\"num_game_home\"), lit(0)) + coalesce(col(\"num_game_away\"), lit(0))) \\\n",
        "    .withColumn(\"goals_received_for_match\", round(col(\"goals_subiti_tot\") / col(\"num_games\"), 3)) \\\n",
        "    .orderBy(col(\"goals_received_for_match\").asc()) \\\n",
        "    .drop(\"goals_subiti_home\", \"num_game_home\", \"goals_subiti_away\", \"num_game_away\")\n",
        "\n",
        "result_df.show(5)\n",
        "\n",
        "# Estrai i dati dal DataFrame\n",
        "formation = result_df.select(\"formation\").rdd.flatMap(lambda x: x).collect()\n",
        "goals_received_for_match = result_df.select(\"goals_received_for_match\").rdd.flatMap(lambda x: x).collect()\n",
        "\n",
        "# Creazione del grafico a barre utilizzando Plotly\n",
        "fig = go.Figure(go.Bar(\n",
        "    x=formation[:5],\n",
        "    y=goals_received_for_match[:5],\n",
        "    marker_color='skyblue'\n",
        "))\n",
        "\n",
        "fig.update_layout(\n",
        "    title='Moduli con il minor numero di goal subiti per partita',\n",
        "    xaxis=dict(title='Formation'),\n",
        "    yaxis=dict(title='Goals recived for match')\n",
        ")\n",
        "\n",
        "fig.show()"
      ]
    },
    {
      "cell_type": "markdown",
      "metadata": {
        "id": "_VqD4fuMZx4X"
      },
      "source": [
        "4.3 **Statistica modulo migliore rispetto a goal fatti e subiti**"
      ]
    },
    {
      "cell_type": "code",
      "execution_count": null,
      "metadata": {
        "colab": {
          "base_uri": "https://localhost:8080/",
          "height": 808
        },
        "id": "J7_pOwYmZ5vp",
        "outputId": "548384b1-4bea-4bbb-9931-6a7031404ffb"
      },
      "outputs": [
        {
          "output_type": "stream",
          "name": "stdout",
          "text": [
            "+---------------+---------+-----------+--------------------+\n",
            "|      formation|num_games|goals4match|goals_received4match|\n",
            "+---------------+---------+-----------+--------------------+\n",
            "|4-3-3 Defending|     6923|      1.621|               1.484|\n",
            "|          4-3-3|      767|      1.592|               1.687|\n",
            "|  4-4-2 Diamond|     1478|      1.581|               1.504|\n",
            "|4-3-3 Attacking|    18556|      1.577|               1.374|\n",
            "|          4-4-2|     5343|      1.532|               1.518|\n",
            "+---------------+---------+-----------+--------------------+\n",
            "only showing top 5 rows\n",
            "\n"
          ]
        },
        {
          "output_type": "display_data",
          "data": {
            "text/html": [
              "<html>\n",
              "<head><meta charset=\"utf-8\" /></head>\n",
              "<body>\n",
              "    <div>            <script src=\"https://cdnjs.cloudflare.com/ajax/libs/mathjax/2.7.5/MathJax.js?config=TeX-AMS-MML_SVG\"></script><script type=\"text/javascript\">if (window.MathJax && window.MathJax.Hub && window.MathJax.Hub.Config) {window.MathJax.Hub.Config({SVG: {font: \"STIX-Web\"}});}</script>                <script type=\"text/javascript\">window.PlotlyConfig = {MathJaxConfig: 'local'};</script>\n",
              "        <script charset=\"utf-8\" src=\"https://cdn.plot.ly/plotly-2.24.1.min.js\"></script>                <div id=\"3b1a439e-c79f-44e8-8723-a0c6e212aab3\" class=\"plotly-graph-div\" style=\"height:600px; width:800px;\"></div>            <script type=\"text/javascript\">                                    window.PLOTLYENV=window.PLOTLYENV || {};                                    if (document.getElementById(\"3b1a439e-c79f-44e8-8723-a0c6e212aab3\")) {                    Plotly.newPlot(                        \"3b1a439e-c79f-44e8-8723-a0c6e212aab3\",                        [{\"marker\":{\"color\":\"blue\",\"opacity\":0.5,\"size\":8},\"mode\":\"markers\",\"x\":[\"4-3-3 Defending\",\"4-3-3\",\"4-4-2 Diamond\",\"4-3-3 Attacking\",\"4-4-2\"],\"y\":[1.484,1.687,1.504,1.374,1.518],\"z\":[1.621,1.592,1.581,1.577,1.532],\"type\":\"scatter3d\"}],                        {\"template\":{\"data\":{\"histogram2dcontour\":[{\"type\":\"histogram2dcontour\",\"colorbar\":{\"outlinewidth\":0,\"ticks\":\"\"},\"colorscale\":[[0.0,\"#0d0887\"],[0.1111111111111111,\"#46039f\"],[0.2222222222222222,\"#7201a8\"],[0.3333333333333333,\"#9c179e\"],[0.4444444444444444,\"#bd3786\"],[0.5555555555555556,\"#d8576b\"],[0.6666666666666666,\"#ed7953\"],[0.7777777777777778,\"#fb9f3a\"],[0.8888888888888888,\"#fdca26\"],[1.0,\"#f0f921\"]]}],\"choropleth\":[{\"type\":\"choropleth\",\"colorbar\":{\"outlinewidth\":0,\"ticks\":\"\"}}],\"histogram2d\":[{\"type\":\"histogram2d\",\"colorbar\":{\"outlinewidth\":0,\"ticks\":\"\"},\"colorscale\":[[0.0,\"#0d0887\"],[0.1111111111111111,\"#46039f\"],[0.2222222222222222,\"#7201a8\"],[0.3333333333333333,\"#9c179e\"],[0.4444444444444444,\"#bd3786\"],[0.5555555555555556,\"#d8576b\"],[0.6666666666666666,\"#ed7953\"],[0.7777777777777778,\"#fb9f3a\"],[0.8888888888888888,\"#fdca26\"],[1.0,\"#f0f921\"]]}],\"heatmap\":[{\"type\":\"heatmap\",\"colorbar\":{\"outlinewidth\":0,\"ticks\":\"\"},\"colorscale\":[[0.0,\"#0d0887\"],[0.1111111111111111,\"#46039f\"],[0.2222222222222222,\"#7201a8\"],[0.3333333333333333,\"#9c179e\"],[0.4444444444444444,\"#bd3786\"],[0.5555555555555556,\"#d8576b\"],[0.6666666666666666,\"#ed7953\"],[0.7777777777777778,\"#fb9f3a\"],[0.8888888888888888,\"#fdca26\"],[1.0,\"#f0f921\"]]}],\"heatmapgl\":[{\"type\":\"heatmapgl\",\"colorbar\":{\"outlinewidth\":0,\"ticks\":\"\"},\"colorscale\":[[0.0,\"#0d0887\"],[0.1111111111111111,\"#46039f\"],[0.2222222222222222,\"#7201a8\"],[0.3333333333333333,\"#9c179e\"],[0.4444444444444444,\"#bd3786\"],[0.5555555555555556,\"#d8576b\"],[0.6666666666666666,\"#ed7953\"],[0.7777777777777778,\"#fb9f3a\"],[0.8888888888888888,\"#fdca26\"],[1.0,\"#f0f921\"]]}],\"contourcarpet\":[{\"type\":\"contourcarpet\",\"colorbar\":{\"outlinewidth\":0,\"ticks\":\"\"}}],\"contour\":[{\"type\":\"contour\",\"colorbar\":{\"outlinewidth\":0,\"ticks\":\"\"},\"colorscale\":[[0.0,\"#0d0887\"],[0.1111111111111111,\"#46039f\"],[0.2222222222222222,\"#7201a8\"],[0.3333333333333333,\"#9c179e\"],[0.4444444444444444,\"#bd3786\"],[0.5555555555555556,\"#d8576b\"],[0.6666666666666666,\"#ed7953\"],[0.7777777777777778,\"#fb9f3a\"],[0.8888888888888888,\"#fdca26\"],[1.0,\"#f0f921\"]]}],\"surface\":[{\"type\":\"surface\",\"colorbar\":{\"outlinewidth\":0,\"ticks\":\"\"},\"colorscale\":[[0.0,\"#0d0887\"],[0.1111111111111111,\"#46039f\"],[0.2222222222222222,\"#7201a8\"],[0.3333333333333333,\"#9c179e\"],[0.4444444444444444,\"#bd3786\"],[0.5555555555555556,\"#d8576b\"],[0.6666666666666666,\"#ed7953\"],[0.7777777777777778,\"#fb9f3a\"],[0.8888888888888888,\"#fdca26\"],[1.0,\"#f0f921\"]]}],\"mesh3d\":[{\"type\":\"mesh3d\",\"colorbar\":{\"outlinewidth\":0,\"ticks\":\"\"}}],\"scatter\":[{\"fillpattern\":{\"fillmode\":\"overlay\",\"size\":10,\"solidity\":0.2},\"type\":\"scatter\"}],\"parcoords\":[{\"type\":\"parcoords\",\"line\":{\"colorbar\":{\"outlinewidth\":0,\"ticks\":\"\"}}}],\"scatterpolargl\":[{\"type\":\"scatterpolargl\",\"marker\":{\"colorbar\":{\"outlinewidth\":0,\"ticks\":\"\"}}}],\"bar\":[{\"error_x\":{\"color\":\"#2a3f5f\"},\"error_y\":{\"color\":\"#2a3f5f\"},\"marker\":{\"line\":{\"color\":\"#E5ECF6\",\"width\":0.5},\"pattern\":{\"fillmode\":\"overlay\",\"size\":10,\"solidity\":0.2}},\"type\":\"bar\"}],\"scattergeo\":[{\"type\":\"scattergeo\",\"marker\":{\"colorbar\":{\"outlinewidth\":0,\"ticks\":\"\"}}}],\"scatterpolar\":[{\"type\":\"scatterpolar\",\"marker\":{\"colorbar\":{\"outlinewidth\":0,\"ticks\":\"\"}}}],\"histogram\":[{\"marker\":{\"pattern\":{\"fillmode\":\"overlay\",\"size\":10,\"solidity\":0.2}},\"type\":\"histogram\"}],\"scattergl\":[{\"type\":\"scattergl\",\"marker\":{\"colorbar\":{\"outlinewidth\":0,\"ticks\":\"\"}}}],\"scatter3d\":[{\"type\":\"scatter3d\",\"line\":{\"colorbar\":{\"outlinewidth\":0,\"ticks\":\"\"}},\"marker\":{\"colorbar\":{\"outlinewidth\":0,\"ticks\":\"\"}}}],\"scattermapbox\":[{\"type\":\"scattermapbox\",\"marker\":{\"colorbar\":{\"outlinewidth\":0,\"ticks\":\"\"}}}],\"scatterternary\":[{\"type\":\"scatterternary\",\"marker\":{\"colorbar\":{\"outlinewidth\":0,\"ticks\":\"\"}}}],\"scattercarpet\":[{\"type\":\"scattercarpet\",\"marker\":{\"colorbar\":{\"outlinewidth\":0,\"ticks\":\"\"}}}],\"carpet\":[{\"aaxis\":{\"endlinecolor\":\"#2a3f5f\",\"gridcolor\":\"white\",\"linecolor\":\"white\",\"minorgridcolor\":\"white\",\"startlinecolor\":\"#2a3f5f\"},\"baxis\":{\"endlinecolor\":\"#2a3f5f\",\"gridcolor\":\"white\",\"linecolor\":\"white\",\"minorgridcolor\":\"white\",\"startlinecolor\":\"#2a3f5f\"},\"type\":\"carpet\"}],\"table\":[{\"cells\":{\"fill\":{\"color\":\"#EBF0F8\"},\"line\":{\"color\":\"white\"}},\"header\":{\"fill\":{\"color\":\"#C8D4E3\"},\"line\":{\"color\":\"white\"}},\"type\":\"table\"}],\"barpolar\":[{\"marker\":{\"line\":{\"color\":\"#E5ECF6\",\"width\":0.5},\"pattern\":{\"fillmode\":\"overlay\",\"size\":10,\"solidity\":0.2}},\"type\":\"barpolar\"}],\"pie\":[{\"automargin\":true,\"type\":\"pie\"}]},\"layout\":{\"autotypenumbers\":\"strict\",\"colorway\":[\"#636efa\",\"#EF553B\",\"#00cc96\",\"#ab63fa\",\"#FFA15A\",\"#19d3f3\",\"#FF6692\",\"#B6E880\",\"#FF97FF\",\"#FECB52\"],\"font\":{\"color\":\"#2a3f5f\"},\"hovermode\":\"closest\",\"hoverlabel\":{\"align\":\"left\"},\"paper_bgcolor\":\"white\",\"plot_bgcolor\":\"#E5ECF6\",\"polar\":{\"bgcolor\":\"#E5ECF6\",\"angularaxis\":{\"gridcolor\":\"white\",\"linecolor\":\"white\",\"ticks\":\"\"},\"radialaxis\":{\"gridcolor\":\"white\",\"linecolor\":\"white\",\"ticks\":\"\"}},\"ternary\":{\"bgcolor\":\"#E5ECF6\",\"aaxis\":{\"gridcolor\":\"white\",\"linecolor\":\"white\",\"ticks\":\"\"},\"baxis\":{\"gridcolor\":\"white\",\"linecolor\":\"white\",\"ticks\":\"\"},\"caxis\":{\"gridcolor\":\"white\",\"linecolor\":\"white\",\"ticks\":\"\"}},\"coloraxis\":{\"colorbar\":{\"outlinewidth\":0,\"ticks\":\"\"}},\"colorscale\":{\"sequential\":[[0.0,\"#0d0887\"],[0.1111111111111111,\"#46039f\"],[0.2222222222222222,\"#7201a8\"],[0.3333333333333333,\"#9c179e\"],[0.4444444444444444,\"#bd3786\"],[0.5555555555555556,\"#d8576b\"],[0.6666666666666666,\"#ed7953\"],[0.7777777777777778,\"#fb9f3a\"],[0.8888888888888888,\"#fdca26\"],[1.0,\"#f0f921\"]],\"sequentialminus\":[[0.0,\"#0d0887\"],[0.1111111111111111,\"#46039f\"],[0.2222222222222222,\"#7201a8\"],[0.3333333333333333,\"#9c179e\"],[0.4444444444444444,\"#bd3786\"],[0.5555555555555556,\"#d8576b\"],[0.6666666666666666,\"#ed7953\"],[0.7777777777777778,\"#fb9f3a\"],[0.8888888888888888,\"#fdca26\"],[1.0,\"#f0f921\"]],\"diverging\":[[0,\"#8e0152\"],[0.1,\"#c51b7d\"],[0.2,\"#de77ae\"],[0.3,\"#f1b6da\"],[0.4,\"#fde0ef\"],[0.5,\"#f7f7f7\"],[0.6,\"#e6f5d0\"],[0.7,\"#b8e186\"],[0.8,\"#7fbc41\"],[0.9,\"#4d9221\"],[1,\"#276419\"]]},\"xaxis\":{\"gridcolor\":\"white\",\"linecolor\":\"white\",\"ticks\":\"\",\"title\":{\"standoff\":15},\"zerolinecolor\":\"white\",\"automargin\":true,\"zerolinewidth\":2},\"yaxis\":{\"gridcolor\":\"white\",\"linecolor\":\"white\",\"ticks\":\"\",\"title\":{\"standoff\":15},\"zerolinecolor\":\"white\",\"automargin\":true,\"zerolinewidth\":2},\"scene\":{\"xaxis\":{\"backgroundcolor\":\"#E5ECF6\",\"gridcolor\":\"white\",\"linecolor\":\"white\",\"showbackground\":true,\"ticks\":\"\",\"zerolinecolor\":\"white\",\"gridwidth\":2},\"yaxis\":{\"backgroundcolor\":\"#E5ECF6\",\"gridcolor\":\"white\",\"linecolor\":\"white\",\"showbackground\":true,\"ticks\":\"\",\"zerolinecolor\":\"white\",\"gridwidth\":2},\"zaxis\":{\"backgroundcolor\":\"#E5ECF6\",\"gridcolor\":\"white\",\"linecolor\":\"white\",\"showbackground\":true,\"ticks\":\"\",\"zerolinecolor\":\"white\",\"gridwidth\":2}},\"shapedefaults\":{\"line\":{\"color\":\"#2a3f5f\"}},\"annotationdefaults\":{\"arrowcolor\":\"#2a3f5f\",\"arrowhead\":0,\"arrowwidth\":1},\"geo\":{\"bgcolor\":\"white\",\"landcolor\":\"#E5ECF6\",\"subunitcolor\":\"white\",\"showland\":true,\"showlakes\":true,\"lakecolor\":\"white\"},\"title\":{\"x\":0.05},\"mapbox\":{\"style\":\"light\"}}},\"scene\":{\"xaxis\":{\"title\":{\"text\":\"Formation\"}},\"yaxis\":{\"title\":{\"text\":\"Goals 4 Match\"}},\"zaxis\":{\"title\":{\"text\":\"Goals recived 4 Match\"}}},\"width\":800,\"height\":600},                        {\"responsive\": true}                    ).then(function(){\n",
              "                            \n",
              "var gd = document.getElementById('3b1a439e-c79f-44e8-8723-a0c6e212aab3');\n",
              "var x = new MutationObserver(function (mutations, observer) {{\n",
              "        var display = window.getComputedStyle(gd).display;\n",
              "        if (!display || display === 'none') {{\n",
              "            console.log([gd, 'removed!']);\n",
              "            Plotly.purge(gd);\n",
              "            observer.disconnect();\n",
              "        }}\n",
              "}});\n",
              "\n",
              "// Listen for the removal of the full notebook cells\n",
              "var notebookContainer = gd.closest('#notebook-container');\n",
              "if (notebookContainer) {{\n",
              "    x.observe(notebookContainer, {childList: true});\n",
              "}}\n",
              "\n",
              "// Listen for the clearing of the current output cell\n",
              "var outputEl = gd.closest('.output');\n",
              "if (outputEl) {{\n",
              "    x.observe(outputEl, {childList: true});\n",
              "}}\n",
              "\n",
              "                        })                };                            </script>        </div>\n",
              "</body>\n",
              "</html>"
            ]
          },
          "metadata": {}
        }
      ],
      "source": [
        "# Calcolo delle statistiche per la squadra di casa\n",
        "home_df = dfs['games'].filter(col(\"home_club_formation\").isNotNull()) \\\n",
        "    .groupBy(\"home_club_formation\") \\\n",
        "    .agg({\"home_club_goals\": \"sum\", \"away_club_goals\": \"sum\", \"game_id\": \"count\"}) \\\n",
        "    .withColumnRenamed(\"sum(home_club_goals)\", \"home_goals\") \\\n",
        "    .withColumnRenamed(\"sum(away_club_goals)\", \"home_goals_subiti\") \\\n",
        "    .withColumnRenamed(\"count(game_id)\", \"num_game_home\") \\\n",
        "    .select(col(\"home_club_formation\").alias(\"formation\"), \"home_goals\", \"home_goals_subiti\", \"num_game_home\")\n",
        "\n",
        "# Calcolo delle statistiche per la squadra in trasferta\n",
        "away_df = dfs['games'].filter(col(\"away_club_formation\").isNotNull()) \\\n",
        "    .groupBy(\"away_club_formation\") \\\n",
        "    .agg({\"away_club_goals\": \"sum\", \"home_club_goals\": \"sum\", \"game_id\": \"count\"}) \\\n",
        "    .withColumnRenamed(\"sum(away_club_goals)\", \"away_goals\") \\\n",
        "    .withColumnRenamed(\"sum(home_club_goals)\", \"away_goals_subiti\") \\\n",
        "    .withColumnRenamed(\"count(game_id)\", \"num_game_away\") \\\n",
        "    .select(col(\"away_club_formation\").alias(\"formation\"), \"away_goals\", \"away_goals_subiti\", \"num_game_away\")\n",
        "\n",
        "# Unione dei due DataFrame sul campo \"formation\"\n",
        "joined_df = home_df.join(away_df, \"formation\", \"left\")\n",
        "\n",
        "# Calcolo delle statistiche finali e filtro\n",
        "result_df = joined_df.filter((col(\"num_game_home\") + col(\"num_game_away\")) >= 500) \\\n",
        "    .withColumn(\"goals_tot\", coalesce(col(\"home_goals\"), lit(0)) + coalesce(col(\"away_goals\"), lit(0))) \\\n",
        "    .withColumn(\"goals_subiti_tot\", coalesce(col(\"home_goals_subiti\"), lit(0)) + coalesce(col(\"away_goals_subiti\"), lit(0))) \\\n",
        "    .withColumn(\"num_games\", coalesce(col(\"num_game_home\"), lit(0)) + coalesce(col(\"num_game_away\"), lit(0))) \\\n",
        "    .withColumn(\"goals4match\", round(coalesce(col(\"goals_tot\") / col(\"num_games\"), lit(0)), 3)) \\\n",
        "    .withColumn(\"goals_received4match\", round(coalesce(col(\"goals_subiti_tot\") / col(\"num_games\"), lit(0)), 3)) \\\n",
        "    .orderBy(col(\"goals4match\").desc(), col(\"goals_received4match\")) \\\n",
        "    .drop(\"home_goals\", \"home_goals_subiti\", \"num_game_home\", \"away_goals\", \"away_goals_subiti\", \"num_game_away\", \"goals_tot\", \"goals_subiti_tot\")\n",
        "\n",
        "result_df.show(5)\n",
        "\n",
        "# Estrai i dati dal DataFrame\n",
        "formation = result_df.select(\"formation\").rdd.flatMap(lambda x: x).collect()\n",
        "goals_received_for_match = result_df.select(\"goals_received4match\").rdd.flatMap(lambda x: x).collect()\n",
        "goals_for_match = result_df.select(\"goals4match\").rdd.flatMap(lambda x: x).collect()\n",
        "\n",
        "\n",
        "\n",
        "# Creazione del grafico 3D utilizzando Plotly\n",
        "fig = go.Figure(data=[go.Scatter3d(\n",
        "    x=formation[:5],\n",
        "    y=goals_received_for_match[:5],\n",
        "    z=goals_for_match[:5],\n",
        "    mode='markers',\n",
        "    marker=dict(\n",
        "        size=8,\n",
        "        color='blue',\n",
        "        opacity=0.5\n",
        "    )\n",
        ")])\n",
        "\n",
        "# Aggiunta di titoli e label\n",
        "fig.update_layout(\n",
        "    scene=dict(\n",
        "        xaxis=dict(title='Formation'),\n",
        "        yaxis=dict(title='Goals 4 Match'),\n",
        "        zaxis=dict(title='Goals recived 4 Match')\n",
        "    ),\n",
        "    width=800,\n",
        "    height=600\n",
        ")\n",
        "\n",
        "fig.show()"
      ]
    },
    {
      "cell_type": "markdown",
      "metadata": {
        "id": "DjLmCHPMV1N8"
      },
      "source": [
        "# 5. **GIOCATORI**"
      ]
    },
    {
      "cell_type": "markdown",
      "metadata": {
        "id": "59zmAyRWc-JP"
      },
      "source": [
        "5.1 **Giocatori che hanno effettuato più goal dal 2020 ad oggi**"
      ]
    },
    {
      "cell_type": "code",
      "execution_count": null,
      "metadata": {
        "colab": {
          "base_uri": "https://localhost:8080/",
          "height": 733
        },
        "id": "C1PGpn4icFKE",
        "outputId": "084c1524-f501-430d-f3c9-0184deaf566c"
      },
      "outputs": [
        {
          "output_type": "stream",
          "name": "stdout",
          "text": [
            "+------------------+----+\n",
            "|            player|Goal|\n",
            "+------------------+----+\n",
            "|    Erling Haaland| 158|\n",
            "|Robert Lewandowski| 155|\n",
            "|     Kylian Mbappé| 140|\n",
            "|        Harry Kane| 130|\n",
            "|     Mohamed Salah| 117|\n",
            "+------------------+----+\n",
            "only showing top 5 rows\n",
            "\n"
          ]
        },
        {
          "output_type": "display_data",
          "data": {
            "text/html": [
              "<html>\n",
              "<head><meta charset=\"utf-8\" /></head>\n",
              "<body>\n",
              "    <div>            <script src=\"https://cdnjs.cloudflare.com/ajax/libs/mathjax/2.7.5/MathJax.js?config=TeX-AMS-MML_SVG\"></script><script type=\"text/javascript\">if (window.MathJax && window.MathJax.Hub && window.MathJax.Hub.Config) {window.MathJax.Hub.Config({SVG: {font: \"STIX-Web\"}});}</script>                <script type=\"text/javascript\">window.PlotlyConfig = {MathJaxConfig: 'local'};</script>\n",
              "        <script charset=\"utf-8\" src=\"https://cdn.plot.ly/plotly-2.24.1.min.js\"></script>                <div id=\"6c2b6471-9c35-4ae3-977b-3501952d68f5\" class=\"plotly-graph-div\" style=\"height:525px; width:100%;\"></div>            <script type=\"text/javascript\">                                    window.PLOTLYENV=window.PLOTLYENV || {};                                    if (document.getElementById(\"6c2b6471-9c35-4ae3-977b-3501952d68f5\")) {                    Plotly.newPlot(                        \"6c2b6471-9c35-4ae3-977b-3501952d68f5\",                        [{\"marker\":{\"color\":\"skyblue\"},\"x\":[\"Erling Haaland\",\"Robert Lewandowski\",\"Kylian Mbapp\\u00e9\",\"Harry Kane\",\"Mohamed Salah\"],\"y\":[158,155,140,130,117],\"type\":\"bar\"}],                        {\"template\":{\"data\":{\"histogram2dcontour\":[{\"type\":\"histogram2dcontour\",\"colorbar\":{\"outlinewidth\":0,\"ticks\":\"\"},\"colorscale\":[[0.0,\"#0d0887\"],[0.1111111111111111,\"#46039f\"],[0.2222222222222222,\"#7201a8\"],[0.3333333333333333,\"#9c179e\"],[0.4444444444444444,\"#bd3786\"],[0.5555555555555556,\"#d8576b\"],[0.6666666666666666,\"#ed7953\"],[0.7777777777777778,\"#fb9f3a\"],[0.8888888888888888,\"#fdca26\"],[1.0,\"#f0f921\"]]}],\"choropleth\":[{\"type\":\"choropleth\",\"colorbar\":{\"outlinewidth\":0,\"ticks\":\"\"}}],\"histogram2d\":[{\"type\":\"histogram2d\",\"colorbar\":{\"outlinewidth\":0,\"ticks\":\"\"},\"colorscale\":[[0.0,\"#0d0887\"],[0.1111111111111111,\"#46039f\"],[0.2222222222222222,\"#7201a8\"],[0.3333333333333333,\"#9c179e\"],[0.4444444444444444,\"#bd3786\"],[0.5555555555555556,\"#d8576b\"],[0.6666666666666666,\"#ed7953\"],[0.7777777777777778,\"#fb9f3a\"],[0.8888888888888888,\"#fdca26\"],[1.0,\"#f0f921\"]]}],\"heatmap\":[{\"type\":\"heatmap\",\"colorbar\":{\"outlinewidth\":0,\"ticks\":\"\"},\"colorscale\":[[0.0,\"#0d0887\"],[0.1111111111111111,\"#46039f\"],[0.2222222222222222,\"#7201a8\"],[0.3333333333333333,\"#9c179e\"],[0.4444444444444444,\"#bd3786\"],[0.5555555555555556,\"#d8576b\"],[0.6666666666666666,\"#ed7953\"],[0.7777777777777778,\"#fb9f3a\"],[0.8888888888888888,\"#fdca26\"],[1.0,\"#f0f921\"]]}],\"heatmapgl\":[{\"type\":\"heatmapgl\",\"colorbar\":{\"outlinewidth\":0,\"ticks\":\"\"},\"colorscale\":[[0.0,\"#0d0887\"],[0.1111111111111111,\"#46039f\"],[0.2222222222222222,\"#7201a8\"],[0.3333333333333333,\"#9c179e\"],[0.4444444444444444,\"#bd3786\"],[0.5555555555555556,\"#d8576b\"],[0.6666666666666666,\"#ed7953\"],[0.7777777777777778,\"#fb9f3a\"],[0.8888888888888888,\"#fdca26\"],[1.0,\"#f0f921\"]]}],\"contourcarpet\":[{\"type\":\"contourcarpet\",\"colorbar\":{\"outlinewidth\":0,\"ticks\":\"\"}}],\"contour\":[{\"type\":\"contour\",\"colorbar\":{\"outlinewidth\":0,\"ticks\":\"\"},\"colorscale\":[[0.0,\"#0d0887\"],[0.1111111111111111,\"#46039f\"],[0.2222222222222222,\"#7201a8\"],[0.3333333333333333,\"#9c179e\"],[0.4444444444444444,\"#bd3786\"],[0.5555555555555556,\"#d8576b\"],[0.6666666666666666,\"#ed7953\"],[0.7777777777777778,\"#fb9f3a\"],[0.8888888888888888,\"#fdca26\"],[1.0,\"#f0f921\"]]}],\"surface\":[{\"type\":\"surface\",\"colorbar\":{\"outlinewidth\":0,\"ticks\":\"\"},\"colorscale\":[[0.0,\"#0d0887\"],[0.1111111111111111,\"#46039f\"],[0.2222222222222222,\"#7201a8\"],[0.3333333333333333,\"#9c179e\"],[0.4444444444444444,\"#bd3786\"],[0.5555555555555556,\"#d8576b\"],[0.6666666666666666,\"#ed7953\"],[0.7777777777777778,\"#fb9f3a\"],[0.8888888888888888,\"#fdca26\"],[1.0,\"#f0f921\"]]}],\"mesh3d\":[{\"type\":\"mesh3d\",\"colorbar\":{\"outlinewidth\":0,\"ticks\":\"\"}}],\"scatter\":[{\"fillpattern\":{\"fillmode\":\"overlay\",\"size\":10,\"solidity\":0.2},\"type\":\"scatter\"}],\"parcoords\":[{\"type\":\"parcoords\",\"line\":{\"colorbar\":{\"outlinewidth\":0,\"ticks\":\"\"}}}],\"scatterpolargl\":[{\"type\":\"scatterpolargl\",\"marker\":{\"colorbar\":{\"outlinewidth\":0,\"ticks\":\"\"}}}],\"bar\":[{\"error_x\":{\"color\":\"#2a3f5f\"},\"error_y\":{\"color\":\"#2a3f5f\"},\"marker\":{\"line\":{\"color\":\"#E5ECF6\",\"width\":0.5},\"pattern\":{\"fillmode\":\"overlay\",\"size\":10,\"solidity\":0.2}},\"type\":\"bar\"}],\"scattergeo\":[{\"type\":\"scattergeo\",\"marker\":{\"colorbar\":{\"outlinewidth\":0,\"ticks\":\"\"}}}],\"scatterpolar\":[{\"type\":\"scatterpolar\",\"marker\":{\"colorbar\":{\"outlinewidth\":0,\"ticks\":\"\"}}}],\"histogram\":[{\"marker\":{\"pattern\":{\"fillmode\":\"overlay\",\"size\":10,\"solidity\":0.2}},\"type\":\"histogram\"}],\"scattergl\":[{\"type\":\"scattergl\",\"marker\":{\"colorbar\":{\"outlinewidth\":0,\"ticks\":\"\"}}}],\"scatter3d\":[{\"type\":\"scatter3d\",\"line\":{\"colorbar\":{\"outlinewidth\":0,\"ticks\":\"\"}},\"marker\":{\"colorbar\":{\"outlinewidth\":0,\"ticks\":\"\"}}}],\"scattermapbox\":[{\"type\":\"scattermapbox\",\"marker\":{\"colorbar\":{\"outlinewidth\":0,\"ticks\":\"\"}}}],\"scatterternary\":[{\"type\":\"scatterternary\",\"marker\":{\"colorbar\":{\"outlinewidth\":0,\"ticks\":\"\"}}}],\"scattercarpet\":[{\"type\":\"scattercarpet\",\"marker\":{\"colorbar\":{\"outlinewidth\":0,\"ticks\":\"\"}}}],\"carpet\":[{\"aaxis\":{\"endlinecolor\":\"#2a3f5f\",\"gridcolor\":\"white\",\"linecolor\":\"white\",\"minorgridcolor\":\"white\",\"startlinecolor\":\"#2a3f5f\"},\"baxis\":{\"endlinecolor\":\"#2a3f5f\",\"gridcolor\":\"white\",\"linecolor\":\"white\",\"minorgridcolor\":\"white\",\"startlinecolor\":\"#2a3f5f\"},\"type\":\"carpet\"}],\"table\":[{\"cells\":{\"fill\":{\"color\":\"#EBF0F8\"},\"line\":{\"color\":\"white\"}},\"header\":{\"fill\":{\"color\":\"#C8D4E3\"},\"line\":{\"color\":\"white\"}},\"type\":\"table\"}],\"barpolar\":[{\"marker\":{\"line\":{\"color\":\"#E5ECF6\",\"width\":0.5},\"pattern\":{\"fillmode\":\"overlay\",\"size\":10,\"solidity\":0.2}},\"type\":\"barpolar\"}],\"pie\":[{\"automargin\":true,\"type\":\"pie\"}]},\"layout\":{\"autotypenumbers\":\"strict\",\"colorway\":[\"#636efa\",\"#EF553B\",\"#00cc96\",\"#ab63fa\",\"#FFA15A\",\"#19d3f3\",\"#FF6692\",\"#B6E880\",\"#FF97FF\",\"#FECB52\"],\"font\":{\"color\":\"#2a3f5f\"},\"hovermode\":\"closest\",\"hoverlabel\":{\"align\":\"left\"},\"paper_bgcolor\":\"white\",\"plot_bgcolor\":\"#E5ECF6\",\"polar\":{\"bgcolor\":\"#E5ECF6\",\"angularaxis\":{\"gridcolor\":\"white\",\"linecolor\":\"white\",\"ticks\":\"\"},\"radialaxis\":{\"gridcolor\":\"white\",\"linecolor\":\"white\",\"ticks\":\"\"}},\"ternary\":{\"bgcolor\":\"#E5ECF6\",\"aaxis\":{\"gridcolor\":\"white\",\"linecolor\":\"white\",\"ticks\":\"\"},\"baxis\":{\"gridcolor\":\"white\",\"linecolor\":\"white\",\"ticks\":\"\"},\"caxis\":{\"gridcolor\":\"white\",\"linecolor\":\"white\",\"ticks\":\"\"}},\"coloraxis\":{\"colorbar\":{\"outlinewidth\":0,\"ticks\":\"\"}},\"colorscale\":{\"sequential\":[[0.0,\"#0d0887\"],[0.1111111111111111,\"#46039f\"],[0.2222222222222222,\"#7201a8\"],[0.3333333333333333,\"#9c179e\"],[0.4444444444444444,\"#bd3786\"],[0.5555555555555556,\"#d8576b\"],[0.6666666666666666,\"#ed7953\"],[0.7777777777777778,\"#fb9f3a\"],[0.8888888888888888,\"#fdca26\"],[1.0,\"#f0f921\"]],\"sequentialminus\":[[0.0,\"#0d0887\"],[0.1111111111111111,\"#46039f\"],[0.2222222222222222,\"#7201a8\"],[0.3333333333333333,\"#9c179e\"],[0.4444444444444444,\"#bd3786\"],[0.5555555555555556,\"#d8576b\"],[0.6666666666666666,\"#ed7953\"],[0.7777777777777778,\"#fb9f3a\"],[0.8888888888888888,\"#fdca26\"],[1.0,\"#f0f921\"]],\"diverging\":[[0,\"#8e0152\"],[0.1,\"#c51b7d\"],[0.2,\"#de77ae\"],[0.3,\"#f1b6da\"],[0.4,\"#fde0ef\"],[0.5,\"#f7f7f7\"],[0.6,\"#e6f5d0\"],[0.7,\"#b8e186\"],[0.8,\"#7fbc41\"],[0.9,\"#4d9221\"],[1,\"#276419\"]]},\"xaxis\":{\"gridcolor\":\"white\",\"linecolor\":\"white\",\"ticks\":\"\",\"title\":{\"standoff\":15},\"zerolinecolor\":\"white\",\"automargin\":true,\"zerolinewidth\":2},\"yaxis\":{\"gridcolor\":\"white\",\"linecolor\":\"white\",\"ticks\":\"\",\"title\":{\"standoff\":15},\"zerolinecolor\":\"white\",\"automargin\":true,\"zerolinewidth\":2},\"scene\":{\"xaxis\":{\"backgroundcolor\":\"#E5ECF6\",\"gridcolor\":\"white\",\"linecolor\":\"white\",\"showbackground\":true,\"ticks\":\"\",\"zerolinecolor\":\"white\",\"gridwidth\":2},\"yaxis\":{\"backgroundcolor\":\"#E5ECF6\",\"gridcolor\":\"white\",\"linecolor\":\"white\",\"showbackground\":true,\"ticks\":\"\",\"zerolinecolor\":\"white\",\"gridwidth\":2},\"zaxis\":{\"backgroundcolor\":\"#E5ECF6\",\"gridcolor\":\"white\",\"linecolor\":\"white\",\"showbackground\":true,\"ticks\":\"\",\"zerolinecolor\":\"white\",\"gridwidth\":2}},\"shapedefaults\":{\"line\":{\"color\":\"#2a3f5f\"}},\"annotationdefaults\":{\"arrowcolor\":\"#2a3f5f\",\"arrowhead\":0,\"arrowwidth\":1},\"geo\":{\"bgcolor\":\"white\",\"landcolor\":\"#E5ECF6\",\"subunitcolor\":\"white\",\"showland\":true,\"showlakes\":true,\"lakecolor\":\"white\"},\"title\":{\"x\":0.05},\"mapbox\":{\"style\":\"light\"}}},\"title\":{\"text\":\"Giocatori che hanno effettuato piu goal dal 2020\"},\"xaxis\":{\"title\":{\"text\":\"Player\"}},\"yaxis\":{\"title\":{\"text\":\"Goals\"}}},                        {\"responsive\": true}                    ).then(function(){\n",
              "                            \n",
              "var gd = document.getElementById('6c2b6471-9c35-4ae3-977b-3501952d68f5');\n",
              "var x = new MutationObserver(function (mutations, observer) {{\n",
              "        var display = window.getComputedStyle(gd).display;\n",
              "        if (!display || display === 'none') {{\n",
              "            console.log([gd, 'removed!']);\n",
              "            Plotly.purge(gd);\n",
              "            observer.disconnect();\n",
              "        }}\n",
              "}});\n",
              "\n",
              "// Listen for the removal of the full notebook cells\n",
              "var notebookContainer = gd.closest('#notebook-container');\n",
              "if (notebookContainer) {{\n",
              "    x.observe(notebookContainer, {childList: true});\n",
              "}}\n",
              "\n",
              "// Listen for the clearing of the current output cell\n",
              "var outputEl = gd.closest('.output');\n",
              "if (outputEl) {{\n",
              "    x.observe(outputEl, {childList: true});\n",
              "}}\n",
              "\n",
              "                        })                };                            </script>        </div>\n",
              "</body>\n",
              "</html>"
            ]
          },
          "metadata": {}
        }
      ],
      "source": [
        "# Carica i dati delle partite dalla tabella games\n",
        "games_df = dfs['games']\n",
        "\n",
        "# Carica i dati degli eventi delle partite dalla tabella game_events\n",
        "game_events_df = dfs['game_events'].withColumnRenamed(\"player_id\", \"goal_player_id\").filter(col('type')=='Goals')\n",
        "\n",
        "# Carica i dati dei giocatori dalla tabella players\n",
        "players_df = dfs['players']\n",
        "\n",
        "# Esegue le join\n",
        "result_df = games_df.where(col(\"season\") >= 2020) \\\n",
        "            .join(game_events_df, \"game_id\") \\\n",
        "            .join(players_df, game_events_df[\"goal_player_id\"] == players_df[\"player_id\"]) \\\n",
        "            .groupBy(\"name\") \\\n",
        "            .count() \\\n",
        "            .withColumnRenamed(\"name\", \"player\") \\\n",
        "            .withColumnRenamed(\"count\", \"Goal\") \\\n",
        "            .orderBy(col(\"Goal\").desc()) \\\n",
        "\n",
        "result_df.show(5)\n",
        "\n",
        "\n",
        "# Estrai i dati dal DataFrame\n",
        "player = result_df.select(\"player\").rdd.flatMap(lambda x: x).collect()\n",
        "Goal = result_df.select(\"Goal\").rdd.flatMap(lambda x: x).collect()\n",
        "\n",
        "# Creazione del grafico a barre utilizzando Plotly\n",
        "fig = go.Figure(go.Bar(\n",
        "    x=player[:5],\n",
        "    y=Goal[:5],\n",
        "    marker_color='skyblue'\n",
        "))\n",
        "\n",
        "fig.update_layout(\n",
        "    title='Giocatori che hanno effettuato piu goal dal 2020',\n",
        "    xaxis=dict(title='Player'),\n",
        "    yaxis=dict(title='Goals')\n",
        ")\n",
        "\n",
        "fig.show()\n"
      ]
    },
    {
      "cell_type": "markdown",
      "metadata": {
        "id": "L1Vc8U4zV_oS"
      },
      "source": [
        "# 6. **ARBITRI**"
      ]
    },
    {
      "cell_type": "markdown",
      "metadata": {
        "id": "PEUgsFfg7R1E"
      },
      "source": [
        "6.1 **Arbitri che assegnano il maggior numero di cartellini gialli**"
      ]
    },
    {
      "cell_type": "code",
      "execution_count": null,
      "metadata": {
        "colab": {
          "base_uri": "https://localhost:8080/",
          "height": 733
        },
        "id": "99V5Vdl26Uu5",
        "outputId": "d0c12a3d-de4a-4245-c597-24480c8da6d2"
      },
      "outputs": [
        {
          "output_type": "stream",
          "name": "stdout",
          "text": [
            "+--------------------+------------+-----------+-------------------+\n",
            "|             referee|yellow_cards|total_games|average_yellowCards|\n",
            "+--------------------+------------+-----------+-------------------+\n",
            "|      Daniele Orsato|         536|        289|               1.85|\n",
            "|Alejandro Hernánd...|         488|        272|               1.79|\n",
            "|   Jesús Gil Manzano|         527|        332|               1.59|\n",
            "|Vladislav Bezborodov|         433|        272|               1.59|\n",
            "|        Felix Zwayer|         422|        287|               1.47|\n",
            "+--------------------+------------+-----------+-------------------+\n",
            "only showing top 5 rows\n",
            "\n"
          ]
        },
        {
          "output_type": "display_data",
          "data": {
            "text/html": [
              "<html>\n",
              "<head><meta charset=\"utf-8\" /></head>\n",
              "<body>\n",
              "    <div>            <script src=\"https://cdnjs.cloudflare.com/ajax/libs/mathjax/2.7.5/MathJax.js?config=TeX-AMS-MML_SVG\"></script><script type=\"text/javascript\">if (window.MathJax && window.MathJax.Hub && window.MathJax.Hub.Config) {window.MathJax.Hub.Config({SVG: {font: \"STIX-Web\"}});}</script>                <script type=\"text/javascript\">window.PlotlyConfig = {MathJaxConfig: 'local'};</script>\n",
              "        <script charset=\"utf-8\" src=\"https://cdn.plot.ly/plotly-2.24.1.min.js\"></script>                <div id=\"66aad3dd-d7d6-4dce-94f3-247b934468f0\" class=\"plotly-graph-div\" style=\"height:525px; width:100%;\"></div>            <script type=\"text/javascript\">                                    window.PLOTLYENV=window.PLOTLYENV || {};                                    if (document.getElementById(\"66aad3dd-d7d6-4dce-94f3-247b934468f0\")) {                    Plotly.newPlot(                        \"66aad3dd-d7d6-4dce-94f3-247b934468f0\",                        [{\"marker\":{\"color\":\"skyblue\"},\"x\":[\"Daniele Orsato\",\"Alejandro Hern\\u00e1ndez Hern\\u00e1ndez\",\"Jes\\u00fas Gil Manzano\",\"Vladislav Bezborodov\",\"Mateu Lahoz\"],\"y\":[1.85,1.79,1.59,1.59,1.47],\"type\":\"bar\"}],                        {\"template\":{\"data\":{\"histogram2dcontour\":[{\"type\":\"histogram2dcontour\",\"colorbar\":{\"outlinewidth\":0,\"ticks\":\"\"},\"colorscale\":[[0.0,\"#0d0887\"],[0.1111111111111111,\"#46039f\"],[0.2222222222222222,\"#7201a8\"],[0.3333333333333333,\"#9c179e\"],[0.4444444444444444,\"#bd3786\"],[0.5555555555555556,\"#d8576b\"],[0.6666666666666666,\"#ed7953\"],[0.7777777777777778,\"#fb9f3a\"],[0.8888888888888888,\"#fdca26\"],[1.0,\"#f0f921\"]]}],\"choropleth\":[{\"type\":\"choropleth\",\"colorbar\":{\"outlinewidth\":0,\"ticks\":\"\"}}],\"histogram2d\":[{\"type\":\"histogram2d\",\"colorbar\":{\"outlinewidth\":0,\"ticks\":\"\"},\"colorscale\":[[0.0,\"#0d0887\"],[0.1111111111111111,\"#46039f\"],[0.2222222222222222,\"#7201a8\"],[0.3333333333333333,\"#9c179e\"],[0.4444444444444444,\"#bd3786\"],[0.5555555555555556,\"#d8576b\"],[0.6666666666666666,\"#ed7953\"],[0.7777777777777778,\"#fb9f3a\"],[0.8888888888888888,\"#fdca26\"],[1.0,\"#f0f921\"]]}],\"heatmap\":[{\"type\":\"heatmap\",\"colorbar\":{\"outlinewidth\":0,\"ticks\":\"\"},\"colorscale\":[[0.0,\"#0d0887\"],[0.1111111111111111,\"#46039f\"],[0.2222222222222222,\"#7201a8\"],[0.3333333333333333,\"#9c179e\"],[0.4444444444444444,\"#bd3786\"],[0.5555555555555556,\"#d8576b\"],[0.6666666666666666,\"#ed7953\"],[0.7777777777777778,\"#fb9f3a\"],[0.8888888888888888,\"#fdca26\"],[1.0,\"#f0f921\"]]}],\"heatmapgl\":[{\"type\":\"heatmapgl\",\"colorbar\":{\"outlinewidth\":0,\"ticks\":\"\"},\"colorscale\":[[0.0,\"#0d0887\"],[0.1111111111111111,\"#46039f\"],[0.2222222222222222,\"#7201a8\"],[0.3333333333333333,\"#9c179e\"],[0.4444444444444444,\"#bd3786\"],[0.5555555555555556,\"#d8576b\"],[0.6666666666666666,\"#ed7953\"],[0.7777777777777778,\"#fb9f3a\"],[0.8888888888888888,\"#fdca26\"],[1.0,\"#f0f921\"]]}],\"contourcarpet\":[{\"type\":\"contourcarpet\",\"colorbar\":{\"outlinewidth\":0,\"ticks\":\"\"}}],\"contour\":[{\"type\":\"contour\",\"colorbar\":{\"outlinewidth\":0,\"ticks\":\"\"},\"colorscale\":[[0.0,\"#0d0887\"],[0.1111111111111111,\"#46039f\"],[0.2222222222222222,\"#7201a8\"],[0.3333333333333333,\"#9c179e\"],[0.4444444444444444,\"#bd3786\"],[0.5555555555555556,\"#d8576b\"],[0.6666666666666666,\"#ed7953\"],[0.7777777777777778,\"#fb9f3a\"],[0.8888888888888888,\"#fdca26\"],[1.0,\"#f0f921\"]]}],\"surface\":[{\"type\":\"surface\",\"colorbar\":{\"outlinewidth\":0,\"ticks\":\"\"},\"colorscale\":[[0.0,\"#0d0887\"],[0.1111111111111111,\"#46039f\"],[0.2222222222222222,\"#7201a8\"],[0.3333333333333333,\"#9c179e\"],[0.4444444444444444,\"#bd3786\"],[0.5555555555555556,\"#d8576b\"],[0.6666666666666666,\"#ed7953\"],[0.7777777777777778,\"#fb9f3a\"],[0.8888888888888888,\"#fdca26\"],[1.0,\"#f0f921\"]]}],\"mesh3d\":[{\"type\":\"mesh3d\",\"colorbar\":{\"outlinewidth\":0,\"ticks\":\"\"}}],\"scatter\":[{\"fillpattern\":{\"fillmode\":\"overlay\",\"size\":10,\"solidity\":0.2},\"type\":\"scatter\"}],\"parcoords\":[{\"type\":\"parcoords\",\"line\":{\"colorbar\":{\"outlinewidth\":0,\"ticks\":\"\"}}}],\"scatterpolargl\":[{\"type\":\"scatterpolargl\",\"marker\":{\"colorbar\":{\"outlinewidth\":0,\"ticks\":\"\"}}}],\"bar\":[{\"error_x\":{\"color\":\"#2a3f5f\"},\"error_y\":{\"color\":\"#2a3f5f\"},\"marker\":{\"line\":{\"color\":\"#E5ECF6\",\"width\":0.5},\"pattern\":{\"fillmode\":\"overlay\",\"size\":10,\"solidity\":0.2}},\"type\":\"bar\"}],\"scattergeo\":[{\"type\":\"scattergeo\",\"marker\":{\"colorbar\":{\"outlinewidth\":0,\"ticks\":\"\"}}}],\"scatterpolar\":[{\"type\":\"scatterpolar\",\"marker\":{\"colorbar\":{\"outlinewidth\":0,\"ticks\":\"\"}}}],\"histogram\":[{\"marker\":{\"pattern\":{\"fillmode\":\"overlay\",\"size\":10,\"solidity\":0.2}},\"type\":\"histogram\"}],\"scattergl\":[{\"type\":\"scattergl\",\"marker\":{\"colorbar\":{\"outlinewidth\":0,\"ticks\":\"\"}}}],\"scatter3d\":[{\"type\":\"scatter3d\",\"line\":{\"colorbar\":{\"outlinewidth\":0,\"ticks\":\"\"}},\"marker\":{\"colorbar\":{\"outlinewidth\":0,\"ticks\":\"\"}}}],\"scattermapbox\":[{\"type\":\"scattermapbox\",\"marker\":{\"colorbar\":{\"outlinewidth\":0,\"ticks\":\"\"}}}],\"scatterternary\":[{\"type\":\"scatterternary\",\"marker\":{\"colorbar\":{\"outlinewidth\":0,\"ticks\":\"\"}}}],\"scattercarpet\":[{\"type\":\"scattercarpet\",\"marker\":{\"colorbar\":{\"outlinewidth\":0,\"ticks\":\"\"}}}],\"carpet\":[{\"aaxis\":{\"endlinecolor\":\"#2a3f5f\",\"gridcolor\":\"white\",\"linecolor\":\"white\",\"minorgridcolor\":\"white\",\"startlinecolor\":\"#2a3f5f\"},\"baxis\":{\"endlinecolor\":\"#2a3f5f\",\"gridcolor\":\"white\",\"linecolor\":\"white\",\"minorgridcolor\":\"white\",\"startlinecolor\":\"#2a3f5f\"},\"type\":\"carpet\"}],\"table\":[{\"cells\":{\"fill\":{\"color\":\"#EBF0F8\"},\"line\":{\"color\":\"white\"}},\"header\":{\"fill\":{\"color\":\"#C8D4E3\"},\"line\":{\"color\":\"white\"}},\"type\":\"table\"}],\"barpolar\":[{\"marker\":{\"line\":{\"color\":\"#E5ECF6\",\"width\":0.5},\"pattern\":{\"fillmode\":\"overlay\",\"size\":10,\"solidity\":0.2}},\"type\":\"barpolar\"}],\"pie\":[{\"automargin\":true,\"type\":\"pie\"}]},\"layout\":{\"autotypenumbers\":\"strict\",\"colorway\":[\"#636efa\",\"#EF553B\",\"#00cc96\",\"#ab63fa\",\"#FFA15A\",\"#19d3f3\",\"#FF6692\",\"#B6E880\",\"#FF97FF\",\"#FECB52\"],\"font\":{\"color\":\"#2a3f5f\"},\"hovermode\":\"closest\",\"hoverlabel\":{\"align\":\"left\"},\"paper_bgcolor\":\"white\",\"plot_bgcolor\":\"#E5ECF6\",\"polar\":{\"bgcolor\":\"#E5ECF6\",\"angularaxis\":{\"gridcolor\":\"white\",\"linecolor\":\"white\",\"ticks\":\"\"},\"radialaxis\":{\"gridcolor\":\"white\",\"linecolor\":\"white\",\"ticks\":\"\"}},\"ternary\":{\"bgcolor\":\"#E5ECF6\",\"aaxis\":{\"gridcolor\":\"white\",\"linecolor\":\"white\",\"ticks\":\"\"},\"baxis\":{\"gridcolor\":\"white\",\"linecolor\":\"white\",\"ticks\":\"\"},\"caxis\":{\"gridcolor\":\"white\",\"linecolor\":\"white\",\"ticks\":\"\"}},\"coloraxis\":{\"colorbar\":{\"outlinewidth\":0,\"ticks\":\"\"}},\"colorscale\":{\"sequential\":[[0.0,\"#0d0887\"],[0.1111111111111111,\"#46039f\"],[0.2222222222222222,\"#7201a8\"],[0.3333333333333333,\"#9c179e\"],[0.4444444444444444,\"#bd3786\"],[0.5555555555555556,\"#d8576b\"],[0.6666666666666666,\"#ed7953\"],[0.7777777777777778,\"#fb9f3a\"],[0.8888888888888888,\"#fdca26\"],[1.0,\"#f0f921\"]],\"sequentialminus\":[[0.0,\"#0d0887\"],[0.1111111111111111,\"#46039f\"],[0.2222222222222222,\"#7201a8\"],[0.3333333333333333,\"#9c179e\"],[0.4444444444444444,\"#bd3786\"],[0.5555555555555556,\"#d8576b\"],[0.6666666666666666,\"#ed7953\"],[0.7777777777777778,\"#fb9f3a\"],[0.8888888888888888,\"#fdca26\"],[1.0,\"#f0f921\"]],\"diverging\":[[0,\"#8e0152\"],[0.1,\"#c51b7d\"],[0.2,\"#de77ae\"],[0.3,\"#f1b6da\"],[0.4,\"#fde0ef\"],[0.5,\"#f7f7f7\"],[0.6,\"#e6f5d0\"],[0.7,\"#b8e186\"],[0.8,\"#7fbc41\"],[0.9,\"#4d9221\"],[1,\"#276419\"]]},\"xaxis\":{\"gridcolor\":\"white\",\"linecolor\":\"white\",\"ticks\":\"\",\"title\":{\"standoff\":15},\"zerolinecolor\":\"white\",\"automargin\":true,\"zerolinewidth\":2},\"yaxis\":{\"gridcolor\":\"white\",\"linecolor\":\"white\",\"ticks\":\"\",\"title\":{\"standoff\":15},\"zerolinecolor\":\"white\",\"automargin\":true,\"zerolinewidth\":2},\"scene\":{\"xaxis\":{\"backgroundcolor\":\"#E5ECF6\",\"gridcolor\":\"white\",\"linecolor\":\"white\",\"showbackground\":true,\"ticks\":\"\",\"zerolinecolor\":\"white\",\"gridwidth\":2},\"yaxis\":{\"backgroundcolor\":\"#E5ECF6\",\"gridcolor\":\"white\",\"linecolor\":\"white\",\"showbackground\":true,\"ticks\":\"\",\"zerolinecolor\":\"white\",\"gridwidth\":2},\"zaxis\":{\"backgroundcolor\":\"#E5ECF6\",\"gridcolor\":\"white\",\"linecolor\":\"white\",\"showbackground\":true,\"ticks\":\"\",\"zerolinecolor\":\"white\",\"gridwidth\":2}},\"shapedefaults\":{\"line\":{\"color\":\"#2a3f5f\"}},\"annotationdefaults\":{\"arrowcolor\":\"#2a3f5f\",\"arrowhead\":0,\"arrowwidth\":1},\"geo\":{\"bgcolor\":\"white\",\"landcolor\":\"#E5ECF6\",\"subunitcolor\":\"white\",\"showland\":true,\"showlakes\":true,\"lakecolor\":\"white\"},\"title\":{\"x\":0.05},\"mapbox\":{\"style\":\"light\"}}},\"title\":{\"text\":\"Arbitri che assegnano il maggior numero di cartellini gialli\"},\"xaxis\":{\"title\":{\"text\":\"Referee\"}},\"yaxis\":{\"title\":{\"text\":\"Average yellow Cards\"}}},                        {\"responsive\": true}                    ).then(function(){\n",
              "                            \n",
              "var gd = document.getElementById('66aad3dd-d7d6-4dce-94f3-247b934468f0');\n",
              "var x = new MutationObserver(function (mutations, observer) {{\n",
              "        var display = window.getComputedStyle(gd).display;\n",
              "        if (!display || display === 'none') {{\n",
              "            console.log([gd, 'removed!']);\n",
              "            Plotly.purge(gd);\n",
              "            observer.disconnect();\n",
              "        }}\n",
              "}});\n",
              "\n",
              "// Listen for the removal of the full notebook cells\n",
              "var notebookContainer = gd.closest('#notebook-container');\n",
              "if (notebookContainer) {{\n",
              "    x.observe(notebookContainer, {childList: true});\n",
              "}}\n",
              "\n",
              "// Listen for the clearing of the current output cell\n",
              "var outputEl = gd.closest('.output');\n",
              "if (outputEl) {{\n",
              "    x.observe(outputEl, {childList: true});\n",
              "}}\n",
              "\n",
              "                        })                };                            </script>        </div>\n",
              "</body>\n",
              "</html>"
            ]
          },
          "metadata": {}
        }
      ],
      "source": [
        "# DataFrame degli eventi di cartellino giallo\n",
        "yellow_cards_df = dfs[\"game_events\"].filter(col(\"type\").contains(\"Cards\") & col(\"description\").like(\"%Yellow%\"))\n",
        "\n",
        "# Aggregazione dei cartellini gialli per arbitro\n",
        "yellow_cards_count_df = yellow_cards_df.join(dfs[\"games\"], yellow_cards_df[\"game_id\"] == dfs[\"games\"][\"game_id\"], \"inner\") \\\n",
        "    .groupBy(\"referee\") \\\n",
        "    .count() \\\n",
        "    .withColumnRenamed(\"count\", \"yellow_cards\") \\\n",
        "    .orderBy(col(\"yellow_cards\").desc())\n",
        "\n",
        "# Conteggio delle partite totali arbitrate dagli arbitri\n",
        "total_games_arbitrated_df = dfs[\"games\"].groupBy(\"referee\").agg(count(\"*\").alias(\"total_games\")) \\\n",
        "    .filter(col(\"total_games\") >= 250) \\\n",
        "    .orderBy(col(\"total_games\"))\n",
        "\n",
        "# Unione dei DataFrame e calcolo del rapporto\n",
        "yellow_cards_ratio_df = yellow_cards_count_df.join(total_games_arbitrated_df, \"referee\", \"inner\") \\\n",
        "    .withColumn(\"average_yellowCards\", round(col(\"yellow_cards\") / col(\"total_games\"), 2)) \\\n",
        "    .orderBy(col(\"average_yellowCards\").desc())\n",
        "\n",
        "\n",
        "yellow_cards_ratio_df.show(5)\n",
        "\n",
        "# Estrai i dati dal DataFrame\n",
        "referee = yellow_cards_ratio_df.select(\"referee\").rdd.flatMap(lambda x: x).collect()\n",
        "average_yellowCards = yellow_cards_ratio_df.select(\"average_yellowCards\").rdd.flatMap(lambda x: x).collect()\n",
        "\n",
        "# Creazione del grafico a barre utilizzando Plotly\n",
        "fig = go.Figure(go.Bar(\n",
        "    x=referee[:5],\n",
        "    y=average_yellowCards[:5],\n",
        "    marker_color='skyblue'\n",
        "))\n",
        "\n",
        "fig.update_layout(\n",
        "    title='Arbitri che assegnano il maggior numero di cartellini gialli',\n",
        "    xaxis=dict(title='Referee'),\n",
        "    yaxis=dict(title='Average yellow Cards')\n",
        ")\n",
        "\n",
        "fig.show()"
      ]
    },
    {
      "cell_type": "markdown",
      "metadata": {
        "id": "ALHHz1ArWo1u"
      },
      "source": [
        "6.2 **Arbitri che assegnano il maggior numero di cartellini rossi**"
      ]
    },
    {
      "cell_type": "code",
      "execution_count": null,
      "metadata": {
        "colab": {
          "base_uri": "https://localhost:8080/",
          "height": 733
        },
        "id": "iLjcbDKVWn7t",
        "outputId": "cf69628d-82df-40eb-e073-571a0a58d88d"
      },
      "outputs": [
        {
          "output_type": "stream",
          "name": "stdout",
          "text": [
            "+--------------+---------+-----------+----------------+\n",
            "|       referee|red_cards|total_games|average_redCards|\n",
            "+--------------+---------+-----------+----------------+\n",
            "|Clément Turpin|       28|        308|            0.09|\n",
            "|Benoît Bastien|       21|        275|            0.08|\n",
            "|  Bobby Madden|       16|        270|            0.06|\n",
            "|Sergey Karasev|       16|        277|            0.06|\n",
            "|  Felix Zwayer|       13|        287|            0.05|\n",
            "+--------------+---------+-----------+----------------+\n",
            "only showing top 5 rows\n",
            "\n"
          ]
        },
        {
          "output_type": "display_data",
          "data": {
            "text/html": [
              "<html>\n",
              "<head><meta charset=\"utf-8\" /></head>\n",
              "<body>\n",
              "    <div>            <script src=\"https://cdnjs.cloudflare.com/ajax/libs/mathjax/2.7.5/MathJax.js?config=TeX-AMS-MML_SVG\"></script><script type=\"text/javascript\">if (window.MathJax && window.MathJax.Hub && window.MathJax.Hub.Config) {window.MathJax.Hub.Config({SVG: {font: \"STIX-Web\"}});}</script>                <script type=\"text/javascript\">window.PlotlyConfig = {MathJaxConfig: 'local'};</script>\n",
              "        <script charset=\"utf-8\" src=\"https://cdn.plot.ly/plotly-2.24.1.min.js\"></script>                <div id=\"075713e5-697d-4b14-af0d-1dd857081681\" class=\"plotly-graph-div\" style=\"height:525px; width:100%;\"></div>            <script type=\"text/javascript\">                                    window.PLOTLYENV=window.PLOTLYENV || {};                                    if (document.getElementById(\"075713e5-697d-4b14-af0d-1dd857081681\")) {                    Plotly.newPlot(                        \"075713e5-697d-4b14-af0d-1dd857081681\",                        [{\"marker\":{\"color\":\"skyblue\"},\"x\":[\"Cl\\u00e9ment Turpin\",\"Beno\\u00eet Bastien\",\"Bobby Madden\",\"Sergey Karasev\",\"Tobias Stieler\"],\"y\":[0.09,0.08,0.06,0.06,0.05],\"type\":\"bar\"}],                        {\"template\":{\"data\":{\"histogram2dcontour\":[{\"type\":\"histogram2dcontour\",\"colorbar\":{\"outlinewidth\":0,\"ticks\":\"\"},\"colorscale\":[[0.0,\"#0d0887\"],[0.1111111111111111,\"#46039f\"],[0.2222222222222222,\"#7201a8\"],[0.3333333333333333,\"#9c179e\"],[0.4444444444444444,\"#bd3786\"],[0.5555555555555556,\"#d8576b\"],[0.6666666666666666,\"#ed7953\"],[0.7777777777777778,\"#fb9f3a\"],[0.8888888888888888,\"#fdca26\"],[1.0,\"#f0f921\"]]}],\"choropleth\":[{\"type\":\"choropleth\",\"colorbar\":{\"outlinewidth\":0,\"ticks\":\"\"}}],\"histogram2d\":[{\"type\":\"histogram2d\",\"colorbar\":{\"outlinewidth\":0,\"ticks\":\"\"},\"colorscale\":[[0.0,\"#0d0887\"],[0.1111111111111111,\"#46039f\"],[0.2222222222222222,\"#7201a8\"],[0.3333333333333333,\"#9c179e\"],[0.4444444444444444,\"#bd3786\"],[0.5555555555555556,\"#d8576b\"],[0.6666666666666666,\"#ed7953\"],[0.7777777777777778,\"#fb9f3a\"],[0.8888888888888888,\"#fdca26\"],[1.0,\"#f0f921\"]]}],\"heatmap\":[{\"type\":\"heatmap\",\"colorbar\":{\"outlinewidth\":0,\"ticks\":\"\"},\"colorscale\":[[0.0,\"#0d0887\"],[0.1111111111111111,\"#46039f\"],[0.2222222222222222,\"#7201a8\"],[0.3333333333333333,\"#9c179e\"],[0.4444444444444444,\"#bd3786\"],[0.5555555555555556,\"#d8576b\"],[0.6666666666666666,\"#ed7953\"],[0.7777777777777778,\"#fb9f3a\"],[0.8888888888888888,\"#fdca26\"],[1.0,\"#f0f921\"]]}],\"heatmapgl\":[{\"type\":\"heatmapgl\",\"colorbar\":{\"outlinewidth\":0,\"ticks\":\"\"},\"colorscale\":[[0.0,\"#0d0887\"],[0.1111111111111111,\"#46039f\"],[0.2222222222222222,\"#7201a8\"],[0.3333333333333333,\"#9c179e\"],[0.4444444444444444,\"#bd3786\"],[0.5555555555555556,\"#d8576b\"],[0.6666666666666666,\"#ed7953\"],[0.7777777777777778,\"#fb9f3a\"],[0.8888888888888888,\"#fdca26\"],[1.0,\"#f0f921\"]]}],\"contourcarpet\":[{\"type\":\"contourcarpet\",\"colorbar\":{\"outlinewidth\":0,\"ticks\":\"\"}}],\"contour\":[{\"type\":\"contour\",\"colorbar\":{\"outlinewidth\":0,\"ticks\":\"\"},\"colorscale\":[[0.0,\"#0d0887\"],[0.1111111111111111,\"#46039f\"],[0.2222222222222222,\"#7201a8\"],[0.3333333333333333,\"#9c179e\"],[0.4444444444444444,\"#bd3786\"],[0.5555555555555556,\"#d8576b\"],[0.6666666666666666,\"#ed7953\"],[0.7777777777777778,\"#fb9f3a\"],[0.8888888888888888,\"#fdca26\"],[1.0,\"#f0f921\"]]}],\"surface\":[{\"type\":\"surface\",\"colorbar\":{\"outlinewidth\":0,\"ticks\":\"\"},\"colorscale\":[[0.0,\"#0d0887\"],[0.1111111111111111,\"#46039f\"],[0.2222222222222222,\"#7201a8\"],[0.3333333333333333,\"#9c179e\"],[0.4444444444444444,\"#bd3786\"],[0.5555555555555556,\"#d8576b\"],[0.6666666666666666,\"#ed7953\"],[0.7777777777777778,\"#fb9f3a\"],[0.8888888888888888,\"#fdca26\"],[1.0,\"#f0f921\"]]}],\"mesh3d\":[{\"type\":\"mesh3d\",\"colorbar\":{\"outlinewidth\":0,\"ticks\":\"\"}}],\"scatter\":[{\"fillpattern\":{\"fillmode\":\"overlay\",\"size\":10,\"solidity\":0.2},\"type\":\"scatter\"}],\"parcoords\":[{\"type\":\"parcoords\",\"line\":{\"colorbar\":{\"outlinewidth\":0,\"ticks\":\"\"}}}],\"scatterpolargl\":[{\"type\":\"scatterpolargl\",\"marker\":{\"colorbar\":{\"outlinewidth\":0,\"ticks\":\"\"}}}],\"bar\":[{\"error_x\":{\"color\":\"#2a3f5f\"},\"error_y\":{\"color\":\"#2a3f5f\"},\"marker\":{\"line\":{\"color\":\"#E5ECF6\",\"width\":0.5},\"pattern\":{\"fillmode\":\"overlay\",\"size\":10,\"solidity\":0.2}},\"type\":\"bar\"}],\"scattergeo\":[{\"type\":\"scattergeo\",\"marker\":{\"colorbar\":{\"outlinewidth\":0,\"ticks\":\"\"}}}],\"scatterpolar\":[{\"type\":\"scatterpolar\",\"marker\":{\"colorbar\":{\"outlinewidth\":0,\"ticks\":\"\"}}}],\"histogram\":[{\"marker\":{\"pattern\":{\"fillmode\":\"overlay\",\"size\":10,\"solidity\":0.2}},\"type\":\"histogram\"}],\"scattergl\":[{\"type\":\"scattergl\",\"marker\":{\"colorbar\":{\"outlinewidth\":0,\"ticks\":\"\"}}}],\"scatter3d\":[{\"type\":\"scatter3d\",\"line\":{\"colorbar\":{\"outlinewidth\":0,\"ticks\":\"\"}},\"marker\":{\"colorbar\":{\"outlinewidth\":0,\"ticks\":\"\"}}}],\"scattermapbox\":[{\"type\":\"scattermapbox\",\"marker\":{\"colorbar\":{\"outlinewidth\":0,\"ticks\":\"\"}}}],\"scatterternary\":[{\"type\":\"scatterternary\",\"marker\":{\"colorbar\":{\"outlinewidth\":0,\"ticks\":\"\"}}}],\"scattercarpet\":[{\"type\":\"scattercarpet\",\"marker\":{\"colorbar\":{\"outlinewidth\":0,\"ticks\":\"\"}}}],\"carpet\":[{\"aaxis\":{\"endlinecolor\":\"#2a3f5f\",\"gridcolor\":\"white\",\"linecolor\":\"white\",\"minorgridcolor\":\"white\",\"startlinecolor\":\"#2a3f5f\"},\"baxis\":{\"endlinecolor\":\"#2a3f5f\",\"gridcolor\":\"white\",\"linecolor\":\"white\",\"minorgridcolor\":\"white\",\"startlinecolor\":\"#2a3f5f\"},\"type\":\"carpet\"}],\"table\":[{\"cells\":{\"fill\":{\"color\":\"#EBF0F8\"},\"line\":{\"color\":\"white\"}},\"header\":{\"fill\":{\"color\":\"#C8D4E3\"},\"line\":{\"color\":\"white\"}},\"type\":\"table\"}],\"barpolar\":[{\"marker\":{\"line\":{\"color\":\"#E5ECF6\",\"width\":0.5},\"pattern\":{\"fillmode\":\"overlay\",\"size\":10,\"solidity\":0.2}},\"type\":\"barpolar\"}],\"pie\":[{\"automargin\":true,\"type\":\"pie\"}]},\"layout\":{\"autotypenumbers\":\"strict\",\"colorway\":[\"#636efa\",\"#EF553B\",\"#00cc96\",\"#ab63fa\",\"#FFA15A\",\"#19d3f3\",\"#FF6692\",\"#B6E880\",\"#FF97FF\",\"#FECB52\"],\"font\":{\"color\":\"#2a3f5f\"},\"hovermode\":\"closest\",\"hoverlabel\":{\"align\":\"left\"},\"paper_bgcolor\":\"white\",\"plot_bgcolor\":\"#E5ECF6\",\"polar\":{\"bgcolor\":\"#E5ECF6\",\"angularaxis\":{\"gridcolor\":\"white\",\"linecolor\":\"white\",\"ticks\":\"\"},\"radialaxis\":{\"gridcolor\":\"white\",\"linecolor\":\"white\",\"ticks\":\"\"}},\"ternary\":{\"bgcolor\":\"#E5ECF6\",\"aaxis\":{\"gridcolor\":\"white\",\"linecolor\":\"white\",\"ticks\":\"\"},\"baxis\":{\"gridcolor\":\"white\",\"linecolor\":\"white\",\"ticks\":\"\"},\"caxis\":{\"gridcolor\":\"white\",\"linecolor\":\"white\",\"ticks\":\"\"}},\"coloraxis\":{\"colorbar\":{\"outlinewidth\":0,\"ticks\":\"\"}},\"colorscale\":{\"sequential\":[[0.0,\"#0d0887\"],[0.1111111111111111,\"#46039f\"],[0.2222222222222222,\"#7201a8\"],[0.3333333333333333,\"#9c179e\"],[0.4444444444444444,\"#bd3786\"],[0.5555555555555556,\"#d8576b\"],[0.6666666666666666,\"#ed7953\"],[0.7777777777777778,\"#fb9f3a\"],[0.8888888888888888,\"#fdca26\"],[1.0,\"#f0f921\"]],\"sequentialminus\":[[0.0,\"#0d0887\"],[0.1111111111111111,\"#46039f\"],[0.2222222222222222,\"#7201a8\"],[0.3333333333333333,\"#9c179e\"],[0.4444444444444444,\"#bd3786\"],[0.5555555555555556,\"#d8576b\"],[0.6666666666666666,\"#ed7953\"],[0.7777777777777778,\"#fb9f3a\"],[0.8888888888888888,\"#fdca26\"],[1.0,\"#f0f921\"]],\"diverging\":[[0,\"#8e0152\"],[0.1,\"#c51b7d\"],[0.2,\"#de77ae\"],[0.3,\"#f1b6da\"],[0.4,\"#fde0ef\"],[0.5,\"#f7f7f7\"],[0.6,\"#e6f5d0\"],[0.7,\"#b8e186\"],[0.8,\"#7fbc41\"],[0.9,\"#4d9221\"],[1,\"#276419\"]]},\"xaxis\":{\"gridcolor\":\"white\",\"linecolor\":\"white\",\"ticks\":\"\",\"title\":{\"standoff\":15},\"zerolinecolor\":\"white\",\"automargin\":true,\"zerolinewidth\":2},\"yaxis\":{\"gridcolor\":\"white\",\"linecolor\":\"white\",\"ticks\":\"\",\"title\":{\"standoff\":15},\"zerolinecolor\":\"white\",\"automargin\":true,\"zerolinewidth\":2},\"scene\":{\"xaxis\":{\"backgroundcolor\":\"#E5ECF6\",\"gridcolor\":\"white\",\"linecolor\":\"white\",\"showbackground\":true,\"ticks\":\"\",\"zerolinecolor\":\"white\",\"gridwidth\":2},\"yaxis\":{\"backgroundcolor\":\"#E5ECF6\",\"gridcolor\":\"white\",\"linecolor\":\"white\",\"showbackground\":true,\"ticks\":\"\",\"zerolinecolor\":\"white\",\"gridwidth\":2},\"zaxis\":{\"backgroundcolor\":\"#E5ECF6\",\"gridcolor\":\"white\",\"linecolor\":\"white\",\"showbackground\":true,\"ticks\":\"\",\"zerolinecolor\":\"white\",\"gridwidth\":2}},\"shapedefaults\":{\"line\":{\"color\":\"#2a3f5f\"}},\"annotationdefaults\":{\"arrowcolor\":\"#2a3f5f\",\"arrowhead\":0,\"arrowwidth\":1},\"geo\":{\"bgcolor\":\"white\",\"landcolor\":\"#E5ECF6\",\"subunitcolor\":\"white\",\"showland\":true,\"showlakes\":true,\"lakecolor\":\"white\"},\"title\":{\"x\":0.05},\"mapbox\":{\"style\":\"light\"}}},\"title\":{\"text\":\"Arbitri che assegnano il maggior numero di cartellini rossi\"},\"xaxis\":{\"title\":{\"text\":\"Referee\"}},\"yaxis\":{\"title\":{\"text\":\"Average red Cards\"}}},                        {\"responsive\": true}                    ).then(function(){\n",
              "                            \n",
              "var gd = document.getElementById('075713e5-697d-4b14-af0d-1dd857081681');\n",
              "var x = new MutationObserver(function (mutations, observer) {{\n",
              "        var display = window.getComputedStyle(gd).display;\n",
              "        if (!display || display === 'none') {{\n",
              "            console.log([gd, 'removed!']);\n",
              "            Plotly.purge(gd);\n",
              "            observer.disconnect();\n",
              "        }}\n",
              "}});\n",
              "\n",
              "// Listen for the removal of the full notebook cells\n",
              "var notebookContainer = gd.closest('#notebook-container');\n",
              "if (notebookContainer) {{\n",
              "    x.observe(notebookContainer, {childList: true});\n",
              "}}\n",
              "\n",
              "// Listen for the clearing of the current output cell\n",
              "var outputEl = gd.closest('.output');\n",
              "if (outputEl) {{\n",
              "    x.observe(outputEl, {childList: true});\n",
              "}}\n",
              "\n",
              "                        })                };                            </script>        </div>\n",
              "</body>\n",
              "</html>"
            ]
          },
          "metadata": {}
        }
      ],
      "source": [
        "# DataFrame degli eventi di cartellino rosso\n",
        "red_cards_df = dfs[\"game_events\"].filter(col(\"type\").contains(\"Cards\") & col(\"description\").like(\"%Red%\"))\n",
        "\n",
        "# Aggregazione dei cartellini rossi per arbitro\n",
        "red_cards_count_df = red_cards_df.join(dfs[\"games\"], red_cards_df[\"game_id\"] == dfs[\"games\"][\"game_id\"], \"inner\") \\\n",
        "    .groupBy(\"referee\") \\\n",
        "    .count() \\\n",
        "    .withColumnRenamed(\"count\", \"red_cards\") \\\n",
        "    .orderBy(col(\"red_cards\").desc())\n",
        "\n",
        "# Conteggio delle partite totali arbitrate dagli arbitri\n",
        "total_games_arbitrated_df = dfs[\"games\"].groupBy(\"referee\").agg(count(\"*\").alias(\"total_games\")) \\\n",
        "    .filter(col(\"total_games\") >= 250) \\\n",
        "    .orderBy(col(\"total_games\"))\n",
        "\n",
        "# Unione dei DataFrame e calcolo del rapporto\n",
        "red_cards_ratio_df = red_cards_count_df.join(total_games_arbitrated_df, \"referee\", \"inner\") \\\n",
        "    .withColumn(\"average_redCards\", round(col(\"red_cards\") / col(\"total_games\"), 2)) \\\n",
        "    .orderBy(col(\"average_redCards\").desc())\n",
        "\n",
        "\n",
        "red_cards_ratio_df.show(5)\n",
        "\n",
        "# Estrai i dati dal DataFrame\n",
        "referee = red_cards_ratio_df.select(\"referee\").rdd.flatMap(lambda x: x).collect()\n",
        "average_redCards = red_cards_ratio_df.select(\"average_redCards\").rdd.flatMap(lambda x: x).collect()\n",
        "\n",
        "# Creazione del grafico a barre utilizzando Plotly\n",
        "fig = go.Figure(go.Bar(\n",
        "    x=referee[:5],\n",
        "    y=average_redCards[:5],\n",
        "    marker_color='skyblue'\n",
        "))\n",
        "\n",
        "fig.update_layout(\n",
        "    title='Arbitri che assegnano il maggior numero di cartellini rossi',\n",
        "    xaxis=dict(title='Referee'),\n",
        "    yaxis=dict(title='Average red Cards')\n",
        ")\n",
        "\n",
        "fig.show()"
      ]
    },
    {
      "cell_type": "markdown",
      "metadata": {
        "id": "QstgRW-wVPfi"
      },
      "source": [
        "# 7. **CURIOSITA'**"
      ]
    },
    {
      "cell_type": "markdown",
      "metadata": {
        "id": "JSZGxXGKbgCh"
      },
      "source": [
        "7.1 **Quante partite ha vinto il Napoli con in campo Mario Rui dal 1°minuto?**"
      ]
    },
    {
      "cell_type": "code",
      "execution_count": null,
      "metadata": {
        "colab": {
          "base_uri": "https://localhost:8080/"
        },
        "id": "7bT0GRzWbmUj",
        "outputId": "fd131e80-d602-4797-c0af-21b7529c509e"
      },
      "outputs": [
        {
          "output_type": "stream",
          "name": "stdout",
          "text": [
            "+-----------+-------------+\n",
            "|player_name|winning_match|\n",
            "+-----------+-------------+\n",
            "|  Mário Rui|          108|\n",
            "+-----------+-------------+\n",
            "\n"
          ]
        }
      ],
      "source": [
        "# Applicazione delle condizioni di join e delle condizioni di filtro\n",
        "result = dfs['club_games'].join(dfs['clubs'], dfs['club_games'][\"club_id\"] == dfs['clubs'][\"club_id\"]) \\\n",
        "    .join(dfs['game_lineups'],  dfs['club_games'][\"game_id\"] ==  dfs['game_lineups'][\"game_id\"]) \\\n",
        "    .where((dfs['clubs'][\"name\"].like(\"%Napoli%\")) &\n",
        "           (dfs['game_lineups'][\"player_name\"] == \"Mário Rui\") &\n",
        "           (col(\"is_win\") == 1) &\n",
        "           (col(\"type\") == \"starting_lineup\")) \\\n",
        "    .groupBy(\"player_name\") \\\n",
        "    .agg(count(dfs['club_games'][\"game_id\"]).alias(\"winning_match\")) \\\n",
        "    .select(\"player_name\", \"winning_match\") \\\n",
        "    .distinct()\n",
        "\n",
        "\n",
        "result.show()"
      ]
    },
    {
      "cell_type": "markdown",
      "source": [
        "7.2 **Il Napoli vince più spesso con in campo Mario Rui o Mathías Olivera dal 1°minuto?**"
      ],
      "metadata": {
        "id": "bUPh3ztqQfU7"
      }
    },
    {
      "cell_type": "code",
      "source": [
        "result = dfs['club_games'].join(dfs['clubs'], dfs['club_games'][\"club_id\"] == dfs['clubs'][\"club_id\"]) \\\n",
        "    .join(dfs['game_lineups'],  dfs['club_games'][\"game_id\"] ==  dfs['game_lineups'][\"game_id\"]) \\\n",
        "    .where(((dfs['clubs'][\"name\"].like(\"%Napoli%\")) &\n",
        "            ((dfs['game_lineups'][\"player_name\"] == \"Mário Rui\") | (dfs['game_lineups'][\"player_name\"] == \"Mathías Olivera\"))) &\n",
        "           (col(\"type\") == \"starting_lineup\")) \\\n",
        "    .groupBy(\"player_name\") \\\n",
        "    .agg(count(dfs['club_games'][\"game_id\"]).alias(\"total_matches\"),\n",
        "         count(when(col(\"is_win\") == 1, True)).alias(\"winning_matches\")) \\\n",
        "    .select(\"player_name\", \"total_matches\", \"winning_matches\",\n",
        "            round((col(\"winning_matches\") / col(\"total_matches\")), 3).alias(\"winning_ratio\")) \\\n",
        "    .distinct()\n",
        "\n",
        "result.show()"
      ],
      "metadata": {
        "colab": {
          "base_uri": "https://localhost:8080/"
        },
        "id": "ITpo4vdnNaiv",
        "outputId": "b343c4df-54cb-4fc0-f353-c0dcb8233f86"
      },
      "execution_count": null,
      "outputs": [
        {
          "output_type": "stream",
          "name": "stdout",
          "text": [
            "+---------------+-------------+---------------+-------------+\n",
            "|    player_name|total_matches|winning_matches|winning_ratio|\n",
            "+---------------+-------------+---------------+-------------+\n",
            "|      Mário Rui|          181|            108|        0.597|\n",
            "|Mathías Olivera|           27|             14|        0.519|\n",
            "+---------------+-------------+---------------+-------------+\n",
            "\n"
          ]
        }
      ]
    }
  ],
  "metadata": {
    "colab": {
      "provenance": []
    },
    "kernelspec": {
      "display_name": "Python 3",
      "name": "python3"
    },
    "language_info": {
      "name": "python"
    }
  },
  "nbformat": 4,
  "nbformat_minor": 0
}